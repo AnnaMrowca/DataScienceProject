{
 "cells": [
  {
   "cell_type": "markdown",
   "id": "1a289af2",
   "metadata": {},
   "source": [
    "## This jupyter notebook is built and adjusted to build ARIMA and (if needed) SARIMAX models to predict 12 months of forecasts for retail products. \n",
    "\n",
    "# How to use: \n",
    "\n",
    "## 1. Choose product by its index\n",
    "## 2. Run models for each product separately\n",
    "## 3. Save the best forecast in y_test_T2\n",
    "\n",
    "# Note: you need to run this jupyter separately for each product to get forecast for all of them\n"
   ]
  },
  {
   "cell_type": "markdown",
   "id": "dbcfb481",
   "metadata": {},
   "source": [
    "# Import data"
   ]
  },
  {
   "cell_type": "code",
   "execution_count": 29,
   "id": "38a88e5c",
   "metadata": {},
   "outputs": [],
   "source": [
    "import sys\n",
    "import os\n",
    "import sys\n",
    "import os\n",
    "import pandas as pd\n",
    "import matplotlib.pyplot as plt\n",
    "import numpy as np\n",
    "from statsmodels.tsa.stattools import adfuller\n",
    "from numpy import log\n",
    "from statsmodels.graphics.tsaplots import plot_acf, plot_pacf\n",
    "import matplotlib.pyplot as plt\n",
    "plt.rcParams.update({'figure.figsize':(9,7), 'figure.dpi':120})\n",
    "from statsmodels.tsa.arima.model import ARIMA\n",
    "from sklearn.model_selection import train_test_split\n",
    "from statsmodels.tsa.seasonal import seasonal_decompose\n",
    "from statsmodels.tsa.statespace.sarimax import SARIMAX\n",
    "import itertools\n",
    "import statsmodels.api as sm\n",
    "from sklearn.metrics import mean_squared_error\n",
    "from datetime import date\n"
   ]
  },
  {
   "cell_type": "markdown",
   "id": "a279a030",
   "metadata": {},
   "source": [
    "# Global Variables"
   ]
  },
  {
   "cell_type": "code",
   "execution_count": 2,
   "id": "8f16c470",
   "metadata": {},
   "outputs": [],
   "source": [
    "sep = ';'\n",
    "decimal = ','\n",
    "X_train_T2_path ='C:/Users/Ania/Desktop/Nestle Case/X_train_T2.csv'\n",
    "y_train_T2_path = 'C:/Users/Ania/Desktop/Nestle Case/y_train_T2.csv'\n",
    "y_test_T2_path = 'C:/Users/Ania/Desktop/Nestle Case/y_test_T2.csv'\n",
    "\n",
    "\n"
   ]
  },
  {
   "cell_type": "markdown",
   "id": "3b378560",
   "metadata": {},
   "source": [
    "# Reading data with use of Data Cleaning"
   ]
  },
  {
   "cell_type": "code",
   "execution_count": 3,
   "id": "c9776a7e",
   "metadata": {
    "scrolled": true
   },
   "outputs": [
    {
     "name": "stdout",
     "output_type": "stream",
     "text": [
      "C:\\Users\\Ania\\git\\DataScienceProject\n",
      "X_train_T2: 791\n",
      "     key       date            y\n",
      "0  10873  01Jan2012     0.000000\n",
      "1  10873  01Feb2012   182.843665\n",
      "2  10873  01Mar2012   618.877001\n",
      "3  10873  01Apr2012  1201.535261\n",
      "4  10873  01May2012   653.843499\n"
     ]
    }
   ],
   "source": [
    "module_path = os.path.abspath(os.path.join('..'))\n",
    "print(module_path)\n",
    "if module_path not in sys.path:\n",
    "    sys.path.append(module_path+\"\\\\DataCleaningProgram\")\n",
    "    \n",
    "from data_loader import DataLoader\n",
    "\n",
    "\n",
    "dl = DataLoader(coefficient_nulls_removal=50,\n",
    "                date_column_name=['date'],\n",
    "                outliers_columns=['channel_2','channel_15','channel_17', 'channel_18',\n",
    "                                   'channel_20','channel_29','channel_43','channel_45',\n",
    "                                   'channel_52','channel_57','channel_75','channel_89',\n",
    "                                   'channel_95','channel_101','channel_111'],\n",
    "                datetime_duplicated_column_name = ['date_Duplicated'])\n",
    "\n",
    "\n",
    "X_train_T2 = dl.get_initial_data(input_data_path=X_train_T2_path, sep= sep, decimal=decimal)\n",
    "y_train_T2 = dl.get_initial_data(input_data_path=y_train_T2_path, sep= sep, decimal=decimal)\n",
    "y_test_T2 = dl.get_initial_data(input_data_path=y_test_T2_path, sep= sep, decimal=decimal)\n",
    "print(f\"X_train_T2: {len(X_train_T2)}\")\n",
    "print(y_train_T2.head())"
   ]
  },
  {
   "cell_type": "markdown",
   "id": "1512f6af",
   "metadata": {},
   "source": [
    "# Taking a unique product to further analysis (input required)"
   ]
  },
  {
   "cell_type": "code",
   "execution_count": 4,
   "id": "4a7dd0bf",
   "metadata": {},
   "outputs": [
    {
     "name": "stdout",
     "output_type": "stream",
     "text": [
      "[10873 37081 44612 57423 65101 65919 66606 72802 74523 75309 77390 93876]\n",
      "37081\n",
      "78     1399.311090\n",
      "79     1647.012577\n",
      "80     3453.751813\n",
      "81     3290.677107\n",
      "82     4310.112061\n",
      "          ...     \n",
      "151    4112.298996\n",
      "152    7101.004296\n",
      "153    6751.653479\n",
      "154    9654.843385\n",
      "155    9569.467444\n",
      "Name: y, Length: 78, dtype: float64\n"
     ]
    }
   ],
   "source": [
    "#Create list of products\n",
    "product_list = pd.unique(y_train_T2['key'])\n",
    "print(product_list)\n",
    "\n",
    "#First product\n",
    "#YOUR INPUT IS NEEDED: select index of the product that will be analysed further. \n",
    "#The final forecast for this product will be saved in a file y_test_T2. \n",
    "single_product_number = product_list[1]\n",
    "print(single_product_number)\n",
    "\n",
    "\n",
    "#original set for first product\n",
    "val_prod_1 = y_train_T2.loc[y_train_T2['key'] == single_product_number, 'y'].dropna()\n",
    "print(val_prod_1)\n",
    "\n",
    "#\n",
    "val_prod_1 = val_prod_1.reset_index(drop = True)"
   ]
  },
  {
   "cell_type": "code",
   "execution_count": 5,
   "id": "f39e0624",
   "metadata": {},
   "outputs": [
    {
     "data": {
      "text/plain": [
       "True"
      ]
     },
     "execution_count": 5,
     "metadata": {},
     "output_type": "execute_result"
    }
   ],
   "source": [
    "#Create train and test sets\n",
    "x = int(0.8 * val_prod_1.shape[0])\n",
    "val_prod_1_train = val_prod_1.iloc[:x]\n",
    "val_prod_1_test = val_prod_1.iloc[x:]\n",
    "val_prod_1.shape[0] == val_prod_1_train.shape[0] + val_prod_1_test.shape[0]"
   ]
  },
  {
   "cell_type": "markdown",
   "id": "d57a99b5",
   "metadata": {},
   "source": [
    "# This dataset is prepared for analysis and modeling"
   ]
  },
  {
   "cell_type": "markdown",
   "id": "74d8c83d",
   "metadata": {},
   "source": [
    "# ==================================="
   ]
  },
  {
   "cell_type": "markdown",
   "id": "fa09559d",
   "metadata": {},
   "source": [
    "# Making ADF test  "
   ]
  },
  {
   "cell_type": "code",
   "execution_count": 6,
   "id": "f58ecc04",
   "metadata": {},
   "outputs": [
    {
     "name": "stdout",
     "output_type": "stream",
     "text": [
      "C:\\Users\\Ania\\git\\DataScienceProject\\ArimaForecastingProgram\n"
     ]
    }
   ],
   "source": [
    "import os\n",
    "print(os.getcwd())"
   ]
  },
  {
   "cell_type": "code",
   "execution_count": 7,
   "id": "b88f3511",
   "metadata": {},
   "outputs": [
    {
     "name": "stdout",
     "output_type": "stream",
     "text": [
      "ADF Statistic: -0.134957\n",
      "p-value: 0.945843\n"
     ]
    }
   ],
   "source": [
    "#ADF test for original data\n",
    "val_prod_1_ADF_test = adfuller(val_prod_1_train)\n",
    "print('ADF Statistic: %f' % val_prod_1_ADF_test[0])\n",
    "print('p-value: %f' % val_prod_1_ADF_test[1])\n",
    "\n",
    "#Hipoteza zerowa dla ADF mówi, że te dane są niestacjonarne, wartości powyżej 0.05 i bisko 1"
   ]
  },
  {
   "cell_type": "code",
   "execution_count": 8,
   "id": "73b4da3a",
   "metadata": {
    "scrolled": true
   },
   "outputs": [
    {
     "name": "stdout",
     "output_type": "stream",
     "text": [
      "1      247.701487\n",
      "2     1806.739236\n",
      "3     -163.074706\n",
      "4     1019.434954\n",
      "5      537.733081\n",
      "         ...     \n",
      "57    -824.617904\n",
      "58   -1033.472678\n",
      "59     292.411593\n",
      "60    1364.967670\n",
      "61    -478.069514\n",
      "Name: y, Length: 61, dtype: float64\n",
      "ADF Statistic: -3.264859\n",
      "p-value: 0.016524\n"
     ]
    },
    {
     "data": {
      "image/png": "[encoded data removed]",
      "text/plain": [
       "<Figure size 1080x840 with 6 Axes>"
      ]
     },
     "metadata": {},
     "output_type": "display_data"
    }
   ],
   "source": [
    "# Original Series\n",
    "fig, axes = plt.subplots(3, 2, sharex=True)\n",
    "axes[0, 0].plot(val_prod_1_train); axes[0, 0].set_title('10873 Original Series')\n",
    "plot_acf(val_prod_1, ax=axes[0, 1], lags=20 )\n",
    "\n",
    "#set of values for 1st Differencing\n",
    "val_prod_1_diff_1 = val_prod_1_train.diff().iloc[1:]\n",
    "\n",
    "# 1st Differencing\n",
    "axes[1, 0].plot(val_prod_1_diff_1); axes[1, 0].set_title('10873 1st Order Differencing')\n",
    "plot_acf(val_prod_1_diff_1, ax=axes[1, 1], lags=20)\n",
    "\n",
    "#check if data is stationary for 1st Differencing\n",
    "print(val_prod_1_diff_1)\n",
    "val_prod_1_test_1 = adfuller(val_prod_1_diff_1)\n",
    "print('ADF Statistic: %f' % val_prod_1_test_1[0])\n",
    "print('p-value: %f' % val_prod_1_test_1[1])\n",
    "\n",
    "plt.show()"
   ]
  },
  {
   "cell_type": "markdown",
   "id": "cdd0f674",
   "metadata": {},
   "source": [
    "# Second Differencing"
   ]
  },
  {
   "cell_type": "code",
   "execution_count": 9,
   "id": "0bbd5153",
   "metadata": {},
   "outputs": [
    {
     "name": "stdout",
     "output_type": "stream",
     "text": [
      "ADF Statistic: -8.103159\n",
      "p-value: 0.000000\n"
     ]
    },
    {
     "data": {
      "image/png": "[encoded data removed]",
      "text/plain": [
       "<Figure size 1080x840 with 6 Axes>"
      ]
     },
     "metadata": {},
     "output_type": "display_data"
    }
   ],
   "source": [
    "# set of values for 2nd Differencing\n",
    "val_prod_1_diff_2 = val_prod_1_diff_1.diff().iloc[1:]\n",
    "\n",
    "fig, axes = plt.subplots(3, 2, sharex=True)\n",
    "axes[2, 0].plot(val_prod_1_diff_2); axes[2, 0].set_title('10873 2nd Order Differencing')\n",
    "plot_acf(val_prod_1_diff_2, ax=axes[2, 1])\n",
    "\n",
    "#check if data is stationary 2dn Differencing\n",
    "val_prod_1_test_2 = adfuller(val_prod_1_diff_2)\n",
    "print('ADF Statistic: %f' % val_prod_1_test_2[0])\n",
    "print('p-value: %f' % val_prod_1_test_2[1])\n",
    "\n",
    "plt.show()\n",
    "\n",
    "\n"
   ]
  },
  {
   "cell_type": "markdown",
   "id": "d2e813bb",
   "metadata": {},
   "source": [
    "# Finding paramethers of Arima"
   ]
  },
  {
   "cell_type": "code",
   "execution_count": 10,
   "id": "3c8dbca9",
   "metadata": {},
   "outputs": [
    {
     "name": "stderr",
     "output_type": "stream",
     "text": [
      "C:\\Users\\Ania\\anaconda3\\lib\\site-packages\\statsmodels\\graphics\\tsaplots.py:348: FutureWarning: The default method 'yw' can produce PACF values outside of the [-1,1] interval. After 0.13, the default will change tounadjusted Yule-Walker ('ywm'). You can use this method now by setting method='ywm'.\n",
      "  warnings.warn(\n"
     ]
    },
    {
     "data": {
      "image/png": "[encoded data removed]",
      "text/plain": [
       "<Figure size 1080x840 with 1 Axes>"
      ]
     },
     "execution_count": 10,
     "metadata": {},
     "output_type": "execute_result"
    },
    {
     "data": {
      "image/png": "[encoded data removed]",
      "text/plain": [
       "<Figure size 1080x840 with 1 Axes>"
      ]
     },
     "metadata": {},
     "output_type": "display_data"
    },
    {
     "data": {
      "image/png": "[encoded data removed]",
      "text/plain": [
       "<Figure size 1080x840 with 1 Axes>"
      ]
     },
     "metadata": {},
     "output_type": "display_data"
    }
   ],
   "source": [
    "# p is numbers of lags; we take p from partial autocorrelation, we choose valyes which are outside of area of insignificance, \n",
    "# meaning the have the highest positive or negative correlation from all values \n",
    "#I have chosen 9 as it has the highest correlation of all values\n",
    "p = 9\n",
    "\n",
    "# d is a number of times we do differencing, \n",
    "#I have chosen 1 as after second differencing data seems over differenced in 2nd round\n",
    "d = 1\n",
    "\n",
    "# we take q form autocorrelation an it is a number of values which are outside area of insignificnce (the blue field)\n",
    "#in autocorrelation for a first differencing we have 2 values totally outside of the blue field\n",
    "q = 2\n",
    "\n",
    "#10873 1st Diff Partial Correlation\n",
    "plot_pacf(val_prod_1_diff_1, title='10873 1st Diff Partial Correlation')\n",
    "\n",
    "#10873 1st Diff Partial Correlation\n",
    "plot_pacf(val_prod_1_diff_2, title='10873 2nd Diff Partial Correlation')"
   ]
  },
  {
   "cell_type": "markdown",
   "id": "a6e97c29",
   "metadata": {},
   "source": [
    "# Fit Arima Model"
   ]
  },
  {
   "cell_type": "code",
   "execution_count": 11,
   "id": "e38251a8",
   "metadata": {},
   "outputs": [
    {
     "name": "stdout",
     "output_type": "stream",
     "text": [
      "                               SARIMAX Results                                \n",
      "==============================================================================\n",
      "Dep. Variable:                      y   No. Observations:                   62\n",
      "Model:                 ARIMA(8, 1, 2)   Log Likelihood                -505.099\n",
      "Date:                Wed, 05 Apr 2023   AIC                           1032.198\n",
      "Time:                        14:34:36   BIC                           1055.418\n",
      "Sample:                             0   HQIC                          1041.298\n",
      "                                 - 62                                         \n",
      "Covariance Type:                  opg                                         \n",
      "==============================================================================\n",
      "                 coef    std err          z      P>|z|      [0.025      0.975]\n",
      "------------------------------------------------------------------------------\n",
      "ar.L1          0.9950      0.305      3.260      0.001       0.397       1.593\n",
      "ar.L2         -0.3874      0.319     -1.215      0.224      -1.012       0.237\n",
      "ar.L3         -0.1839      0.310     -0.593      0.553      -0.792       0.424\n",
      "ar.L4         -0.0758      0.254     -0.298      0.765      -0.574       0.422\n",
      "ar.L5          0.1623      0.274      0.592      0.554      -0.375       0.700\n",
      "ar.L6         -0.6194      0.271     -2.289      0.022      -1.150      -0.089\n",
      "ar.L7          0.3299      0.372      0.887      0.375      -0.399       1.059\n",
      "ar.L8         -0.1954      0.340     -0.574      0.566      -0.862       0.472\n",
      "ma.L1         -1.6399      0.323     -5.078      0.000      -2.273      -1.007\n",
      "ma.L2          0.9024      0.252      3.575      0.000       0.408       1.397\n",
      "sigma2        1.1e+06   4.47e-07   2.46e+12      0.000     1.1e+06     1.1e+06\n",
      "===================================================================================\n",
      "Ljung-Box (L1) (Q):                   0.07   Jarque-Bera (JB):                 0.62\n",
      "Prob(Q):                              0.79   Prob(JB):                         0.73\n",
      "Heteroskedasticity (H):               2.69   Skew:                             0.10\n",
      "Prob(H) (two-sided):                  0.03   Kurtosis:                         3.45\n",
      "===================================================================================\n",
      "\n",
      "Warnings:\n",
      "[1] Covariance matrix calculated using the outer product of gradients (complex-step).\n",
      "[2] Covariance matrix is singular or near-singular, with condition number 1.17e+28. Standard errors may be unstable.\n"
     ]
    },
    {
     "name": "stderr",
     "output_type": "stream",
     "text": [
      "C:\\Users\\Ania\\anaconda3\\lib\\site-packages\\statsmodels\\base\\model.py:604: ConvergenceWarning: Maximum Likelihood optimization failed to converge. Check mle_retvals\n",
      "  warnings.warn(\"Maximum Likelihood optimization failed to \"\n"
     ]
    }
   ],
   "source": [
    "#order tuple(p,d,q)\n",
    "val_prod_1_ARIMA = ARIMA(val_prod_1_train, order=(8,1,2))\n",
    "val_prod_1_model = val_prod_1_ARIMA.fit()\n",
    "print(val_prod_1_model.summary())"
   ]
  },
  {
   "cell_type": "markdown",
   "id": "87fef3c4",
   "metadata": {},
   "source": [
    "# Forecast and Plot"
   ]
  },
  {
   "cell_type": "code",
   "execution_count": 31,
   "id": "0da538e2",
   "metadata": {
    "scrolled": true
   },
   "outputs": [
    {
     "data": {
      "image/png": "[encoded data removed]",
      "text/plain": [
       "<Figure size 1200x500 with 1 Axes>"
      ]
     },
     "metadata": {},
     "output_type": "display_data"
    }
   ],
   "source": [
    "# Forecast\n",
    "val_prod_1_forecast_conf = val_prod_1_model.get_prediction(start = 0, end = val_prod_1_train.shape[0] + 12)  # 95% conf\n",
    "\n",
    "# Confidence intervals (all data within 95%)\n",
    "lower_series = val_prod_1_forecast_conf.conf_int()['lower y']\n",
    "upper_series = val_prod_1_forecast_conf.conf_int()['upper y']\n",
    "\n",
    "# Plot\n",
    "plt.figure(figsize=(12,5), dpi=100)\n",
    "plt.plot(val_prod_1.index, val_prod_1, label='all', lw=3, color='r')\n",
    "plt.plot(val_prod_1_train.index, val_prod_1_train, label='training') \n",
    "plt.plot(val_prod_1_test.index, val_prod_1_test, label='actual')\n",
    "plt.plot(val_prod_1_forecast_conf.predicted_mean, label='forecast')\n",
    "plt.fill_between(lower_series.index, lower_series.values, upper_series.values, \n",
    "                 color='k', alpha=.15)\n",
    "plt.title('Forecast vs Actuals')\n",
    "plt.legend(loc='upper left', fontsize=8)\n",
    "\n",
    "plt.savefig(f'ARIMA_{single_product_number}_{date.today()}.png', dpi=100)\n",
    "plt.show()"
   ]
  },
  {
   "cell_type": "markdown",
   "id": "d825bffa",
   "metadata": {},
   "source": [
    "# SARIMAX Grid Search Freamework"
   ]
  },
  {
   "cell_type": "code",
   "execution_count": 13,
   "id": "91c04358",
   "metadata": {
    "scrolled": true
   },
   "outputs": [
    {
     "name": "stdout",
     "output_type": "stream",
     "text": [
      "SARIMAX (0, 0, 0) x (0, 0, 0, 12)12 : BIC Calculated =48541327.90275301\n",
      "SARIMAX (0, 0, 0) x (0, 0, 1, 12)12 : BIC Calculated =29692330.51049085\n",
      "SARIMAX (0, 0, 0) x (0, 0, 2, 12)12 : BIC Calculated =28889242.12583068\n",
      "SARIMAX (0, 0, 0) x (0, 1, 0, 12)12 : BIC Calculated =3416954.0285362005\n"
     ]
    },
    {
     "name": "stderr",
     "output_type": "stream",
     "text": [
      "C:\\Users\\Ania\\anaconda3\\lib\\site-packages\\statsmodels\\tsa\\statespace\\sarimax.py:866: UserWarning: Too few observations to estimate starting parameters for seasonal ARMA. All parameters except for variances will be set to zeros.\n",
      "  warn('Too few observations to estimate starting parameters%s.'\n"
     ]
    },
    {
     "name": "stdout",
     "output_type": "stream",
     "text": [
      "SARIMAX (0, 0, 0) x (0, 1, 1, 12)12 : BIC Calculated =3444133.4606258995\n"
     ]
    },
    {
     "name": "stderr",
     "output_type": "stream",
     "text": [
      "C:\\Users\\Ania\\anaconda3\\lib\\site-packages\\statsmodels\\tsa\\statespace\\sarimax.py:866: UserWarning: Too few observations to estimate starting parameters for seasonal ARMA. All parameters except for variances will be set to zeros.\n",
      "  warn('Too few observations to estimate starting parameters%s.'\n"
     ]
    },
    {
     "name": "stdout",
     "output_type": "stream",
     "text": [
      "SARIMAX (0, 0, 0) x (0, 1, 2, 12)12 : BIC Calculated =3831797.437002735\n",
      "SARIMAX (0, 0, 0) x (0, 2, 0, 12)12 : BIC Calculated =9852933.694507541\n"
     ]
    },
    {
     "name": "stderr",
     "output_type": "stream",
     "text": [
      "C:\\Users\\Ania\\anaconda3\\lib\\site-packages\\statsmodels\\base\\model.py:604: ConvergenceWarning: Maximum Likelihood optimization failed to converge. Check mle_retvals\n",
      "  warnings.warn(\"Maximum Likelihood optimization failed to \"\n",
      "C:\\Users\\Ania\\anaconda3\\lib\\site-packages\\statsmodels\\tsa\\statespace\\sarimax.py:866: UserWarning: Too few observations to estimate starting parameters for seasonal ARMA. All parameters except for variances will be set to zeros.\n",
      "  warn('Too few observations to estimate starting parameters%s.'\n"
     ]
    },
    {
     "name": "stdout",
     "output_type": "stream",
     "text": [
      "SARIMAX (0, 0, 0) x (0, 2, 1, 12)12 : BIC Calculated =9852933.694507517\n",
      "SARIMAX (0, 0, 0) x (0, 2, 2, 12)12 : BIC Calculated =1468307.6949042259\n",
      "SARIMAX (0, 0, 0) x (1, 0, 0, 12)12 : BIC Calculated =2378993.119355391\n",
      "SARIMAX (0, 0, 0) x (1, 0, 1, 12)12 : BIC Calculated =1724471.7429047101\n"
     ]
    },
    {
     "name": "stderr",
     "output_type": "stream",
     "text": [
      "C:\\Users\\Ania\\anaconda3\\lib\\site-packages\\statsmodels\\tsa\\statespace\\sarimax.py:866: UserWarning: Too few observations to estimate starting parameters for seasonal ARMA. All parameters except for variances will be set to zeros.\n",
      "  warn('Too few observations to estimate starting parameters%s.'\n"
     ]
    },
    {
     "name": "stdout",
     "output_type": "stream",
     "text": [
      "SARIMAX (0, 0, 0) x (1, 0, 2, 12)12 : BIC Calculated =1352280.1920917202\n",
      "SARIMAX (0, 0, 0) x (1, 1, 0, 12)12 : BIC Calculated =3476532.982457742\n",
      "SARIMAX (0, 0, 0) x (1, 1, 1, 12)12 : BIC Calculated =2669974.257767688\n"
     ]
    },
    {
     "name": "stderr",
     "output_type": "stream",
     "text": [
      "C:\\Users\\Ania\\anaconda3\\lib\\site-packages\\statsmodels\\tsa\\statespace\\sarimax.py:866: UserWarning: Too few observations to estimate starting parameters for seasonal ARMA. All parameters except for variances will be set to zeros.\n",
      "  warn('Too few observations to estimate starting parameters%s.'\n"
     ]
    },
    {
     "name": "stdout",
     "output_type": "stream",
     "text": [
      "SARIMAX (0, 0, 0) x (1, 1, 2, 12)12 : BIC Calculated =1781572.7766170346\n",
      "SARIMAX (0, 0, 0) x (1, 2, 0, 12)12 : BIC Calculated =5249251.1162940385\n"
     ]
    },
    {
     "name": "stderr",
     "output_type": "stream",
     "text": [
      "C:\\Users\\Ania\\anaconda3\\lib\\site-packages\\statsmodels\\base\\model.py:604: ConvergenceWarning: Maximum Likelihood optimization failed to converge. Check mle_retvals\n",
      "  warnings.warn(\"Maximum Likelihood optimization failed to \"\n",
      "C:\\Users\\Ania\\anaconda3\\lib\\site-packages\\statsmodels\\tsa\\statespace\\sarimax.py:866: UserWarning: Too few observations to estimate starting parameters for seasonal ARMA. All parameters except for variances will be set to zeros.\n",
      "  warn('Too few observations to estimate starting parameters%s.'\n"
     ]
    },
    {
     "name": "stdout",
     "output_type": "stream",
     "text": [
      "SARIMAX (0, 0, 0) x (1, 2, 1, 12)12 : BIC Calculated =4286653.141864442\n",
      "SARIMAX (0, 0, 0) x (1, 2, 2, 12)12 : BIC Calculated =1303601.8922607685\n",
      "SARIMAX (0, 0, 0) x (2, 0, 0, 12)12 : BIC Calculated =1611508.5910176102\n",
      "SARIMAX (0, 0, 0) x (2, 0, 1, 12)12 : BIC Calculated =1624048.7411807682\n"
     ]
    },
    {
     "name": "stderr",
     "output_type": "stream",
     "text": [
      "C:\\Users\\Ania\\anaconda3\\lib\\site-packages\\statsmodels\\tsa\\statespace\\sarimax.py:866: UserWarning: Too few observations to estimate starting parameters for seasonal ARMA. All parameters except for variances will be set to zeros.\n",
      "  warn('Too few observations to estimate starting parameters%s.'\n"
     ]
    },
    {
     "name": "stdout",
     "output_type": "stream",
     "text": [
      "SARIMAX (0, 0, 0) x (2, 0, 2, 12)12 : BIC Calculated =1863376.3062121468\n",
      "SARIMAX (0, 0, 0) x (2, 1, 0, 12)12 : BIC Calculated =3778683.713749988\n",
      "SARIMAX (0, 0, 0) x (2, 1, 1, 12)12 : BIC Calculated =3768950.0118757556\n"
     ]
    },
    {
     "name": "stderr",
     "output_type": "stream",
     "text": [
      "C:\\Users\\Ania\\anaconda3\\lib\\site-packages\\statsmodels\\tsa\\statespace\\sarimax.py:866: UserWarning: Too few observations to estimate starting parameters for seasonal ARMA. All parameters except for variances will be set to zeros.\n",
      "  warn('Too few observations to estimate starting parameters%s.'\n"
     ]
    },
    {
     "name": "stdout",
     "output_type": "stream",
     "text": [
      "SARIMAX (0, 0, 0) x (2, 1, 2, 12)12 : BIC Calculated =3819633.5040852837\n",
      "SARIMAX (0, 0, 0) x (2, 2, 0, 12)12 : BIC Calculated =1977668.0806561443\n"
     ]
    },
    {
     "name": "stderr",
     "output_type": "stream",
     "text": [
      "C:\\Users\\Ania\\anaconda3\\lib\\site-packages\\statsmodels\\base\\model.py:604: ConvergenceWarning: Maximum Likelihood optimization failed to converge. Check mle_retvals\n",
      "  warnings.warn(\"Maximum Likelihood optimization failed to \"\n",
      "C:\\Users\\Ania\\anaconda3\\lib\\site-packages\\statsmodels\\tsa\\statespace\\sarimax.py:866: UserWarning: Too few observations to estimate starting parameters for seasonal ARMA. All parameters except for variances will be set to zeros.\n",
      "  warn('Too few observations to estimate starting parameters%s.'\n"
     ]
    },
    {
     "name": "stdout",
     "output_type": "stream",
     "text": [
      "SARIMAX (0, 0, 0) x (2, 2, 1, 12)12 : BIC Calculated =3585200.838451802\n",
      "SARIMAX (0, 0, 0) x (2, 2, 2, 12)12 : BIC Calculated =1738574.7856528317\n",
      "SARIMAX (0, 0, 1) x (0, 0, 0, 12)12 : BIC Calculated =47122953.5428672\n",
      "SARIMAX (0, 0, 1) x (0, 0, 1, 12)12 : BIC Calculated =29912490.83066491\n"
     ]
    },
    {
     "name": "stderr",
     "output_type": "stream",
     "text": [
      "C:\\Users\\Ania\\anaconda3\\lib\\site-packages\\statsmodels\\tsa\\statespace\\sarimax.py:866: UserWarning: Too few observations to estimate starting parameters for seasonal ARMA. All parameters except for variances will be set to zeros.\n",
      "  warn('Too few observations to estimate starting parameters%s.'\n"
     ]
    },
    {
     "name": "stdout",
     "output_type": "stream",
     "text": [
      "SARIMAX (0, 0, 1) x (0, 0, 2, 12)12 : BIC Calculated =24950782.876571402\n",
      "SARIMAX (0, 0, 1) x (0, 1, 0, 12)12 : BIC Calculated =3407979.4477188718\n",
      "SARIMAX (0, 0, 1) x (0, 1, 1, 12)12 : BIC Calculated =3272051.4981676573\n"
     ]
    },
    {
     "name": "stderr",
     "output_type": "stream",
     "text": [
      "C:\\Users\\Ania\\anaconda3\\lib\\site-packages\\statsmodels\\tsa\\statespace\\sarimax.py:866: UserWarning: Too few observations to estimate starting parameters for seasonal ARMA. All parameters except for variances will be set to zeros.\n",
      "  warn('Too few observations to estimate starting parameters%s.'\n"
     ]
    },
    {
     "name": "stdout",
     "output_type": "stream",
     "text": [
      "SARIMAX (0, 0, 1) x (0, 1, 2, 12)12 : BIC Calculated =3585293.1235300163\n",
      "SARIMAX (0, 0, 1) x (0, 2, 0, 12)12 : BIC Calculated =8986142.826818764\n"
     ]
    },
    {
     "name": "stderr",
     "output_type": "stream",
     "text": [
      "C:\\Users\\Ania\\anaconda3\\lib\\site-packages\\statsmodels\\base\\model.py:604: ConvergenceWarning: Maximum Likelihood optimization failed to converge. Check mle_retvals\n",
      "  warnings.warn(\"Maximum Likelihood optimization failed to \"\n",
      "C:\\Users\\Ania\\anaconda3\\lib\\site-packages\\statsmodels\\tsa\\statespace\\sarimax.py:866: UserWarning: Too few observations to estimate starting parameters for seasonal ARMA. All parameters except for variances will be set to zeros.\n",
      "  warn('Too few observations to estimate starting parameters%s.'\n"
     ]
    },
    {
     "name": "stdout",
     "output_type": "stream",
     "text": [
      "SARIMAX (0, 0, 1) x (0, 2, 1, 12)12 : BIC Calculated =8827713.309127484\n",
      "SARIMAX (0, 0, 1) x (0, 2, 2, 12)12 : BIC Calculated =1288407.9554774174\n",
      "SARIMAX (0, 0, 1) x (1, 0, 0, 12)12 : BIC Calculated =2453780.203266571\n",
      "SARIMAX (0, 0, 1) x (1, 0, 1, 12)12 : BIC Calculated =1669446.7610723155\n"
     ]
    },
    {
     "name": "stderr",
     "output_type": "stream",
     "text": [
      "C:\\Users\\Ania\\anaconda3\\lib\\site-packages\\statsmodels\\tsa\\statespace\\sarimax.py:866: UserWarning: Too few observations to estimate starting parameters for seasonal ARMA. All parameters except for variances will be set to zeros.\n",
      "  warn('Too few observations to estimate starting parameters%s.'\n"
     ]
    },
    {
     "name": "stdout",
     "output_type": "stream",
     "text": [
      "SARIMAX (0, 0, 1) x (1, 0, 2, 12)12 : BIC Calculated =1218337.2480429788\n",
      "SARIMAX (0, 0, 1) x (1, 1, 0, 12)12 : BIC Calculated =3102037.532708386\n",
      "SARIMAX (0, 0, 1) x (1, 1, 1, 12)12 : BIC Calculated =3162045.4078226774\n"
     ]
    },
    {
     "name": "stderr",
     "output_type": "stream",
     "text": [
      "C:\\Users\\Ania\\anaconda3\\lib\\site-packages\\statsmodels\\tsa\\statespace\\sarimax.py:866: UserWarning: Too few observations to estimate starting parameters for seasonal ARMA. All parameters except for variances will be set to zeros.\n",
      "  warn('Too few observations to estimate starting parameters%s.'\n"
     ]
    },
    {
     "name": "stdout",
     "output_type": "stream",
     "text": [
      "SARIMAX (0, 0, 1) x (1, 1, 2, 12)12 : BIC Calculated =3419649.976169789\n",
      "SARIMAX (0, 0, 1) x (1, 2, 0, 12)12 : BIC Calculated =4783677.327347627\n"
     ]
    },
    {
     "name": "stderr",
     "output_type": "stream",
     "text": [
      "C:\\Users\\Ania\\anaconda3\\lib\\site-packages\\statsmodels\\base\\model.py:604: ConvergenceWarning: Maximum Likelihood optimization failed to converge. Check mle_retvals\n",
      "  warnings.warn(\"Maximum Likelihood optimization failed to \"\n",
      "C:\\Users\\Ania\\anaconda3\\lib\\site-packages\\statsmodels\\tsa\\statespace\\sarimax.py:866: UserWarning: Too few observations to estimate starting parameters for seasonal ARMA. All parameters except for variances will be set to zeros.\n",
      "  warn('Too few observations to estimate starting parameters%s.'\n"
     ]
    },
    {
     "name": "stdout",
     "output_type": "stream",
     "text": [
      "SARIMAX (0, 0, 1) x (1, 2, 1, 12)12 : BIC Calculated =4313124.522165836\n",
      "SARIMAX (0, 0, 1) x (1, 2, 2, 12)12 : BIC Calculated =1562453.6000064537\n",
      "SARIMAX (0, 0, 1) x (2, 0, 0, 12)12 : BIC Calculated =1503377.089406782\n",
      "SARIMAX (0, 0, 1) x (2, 0, 1, 12)12 : BIC Calculated =1553562.6555959417\n"
     ]
    },
    {
     "name": "stderr",
     "output_type": "stream",
     "text": [
      "C:\\Users\\Ania\\anaconda3\\lib\\site-packages\\statsmodels\\tsa\\statespace\\sarimax.py:866: UserWarning: Too few observations to estimate starting parameters for seasonal ARMA. All parameters except for variances will be set to zeros.\n",
      "  warn('Too few observations to estimate starting parameters%s.'\n",
      "C:\\Users\\Ania\\anaconda3\\lib\\site-packages\\statsmodels\\base\\model.py:604: ConvergenceWarning: Maximum Likelihood optimization failed to converge. Check mle_retvals\n",
      "  warnings.warn(\"Maximum Likelihood optimization failed to \"\n"
     ]
    },
    {
     "name": "stdout",
     "output_type": "stream",
     "text": [
      "SARIMAX (0, 0, 1) x (2, 0, 2, 12)12 : BIC Calculated =1179940.3208808857\n",
      "SARIMAX (0, 0, 1) x (2, 1, 0, 12)12 : BIC Calculated =3497846.5862916578\n",
      "SARIMAX (0, 0, 1) x (2, 1, 1, 12)12 : BIC Calculated =2010241.3431953602\n"
     ]
    },
    {
     "name": "stderr",
     "output_type": "stream",
     "text": [
      "C:\\Users\\Ania\\anaconda3\\lib\\site-packages\\statsmodels\\tsa\\statespace\\sarimax.py:866: UserWarning: Too few observations to estimate starting parameters for seasonal ARMA. All parameters except for variances will be set to zeros.\n",
      "  warn('Too few observations to estimate starting parameters%s.'\n"
     ]
    },
    {
     "name": "stdout",
     "output_type": "stream",
     "text": [
      "SARIMAX (0, 0, 1) x (2, 1, 2, 12)12 : BIC Calculated =4418550.813361681\n",
      "SARIMAX (0, 0, 1) x (2, 2, 0, 12)12 : BIC Calculated =2000944.7094613942\n",
      "SARIMAX (0, 0, 1) x (2, 2, 1, 12)12 : BIC Calculated =1598903.5039190606\n"
     ]
    },
    {
     "name": "stderr",
     "output_type": "stream",
     "text": [
      "C:\\Users\\Ania\\anaconda3\\lib\\site-packages\\statsmodels\\tsa\\statespace\\sarimax.py:866: UserWarning: Too few observations to estimate starting parameters for seasonal ARMA. All parameters except for variances will be set to zeros.\n",
      "  warn('Too few observations to estimate starting parameters%s.'\n",
      "C:\\Users\\Ania\\anaconda3\\lib\\site-packages\\statsmodels\\base\\model.py:604: ConvergenceWarning: Maximum Likelihood optimization failed to converge. Check mle_retvals\n",
      "  warnings.warn(\"Maximum Likelihood optimization failed to \"\n"
     ]
    },
    {
     "name": "stdout",
     "output_type": "stream",
     "text": [
      "SARIMAX (0, 0, 1) x (2, 2, 2, 12)12 : BIC Calculated =1618310.1352300644\n",
      "SARIMAX (0, 0, 2) x (0, 0, 0, 12)12 : BIC Calculated =46084197.72397727\n",
      "SARIMAX (0, 0, 2) x (0, 0, 1, 12)12 : BIC Calculated =27902977.85116903\n"
     ]
    },
    {
     "name": "stderr",
     "output_type": "stream",
     "text": [
      "C:\\Users\\Ania\\anaconda3\\lib\\site-packages\\statsmodels\\tsa\\statespace\\sarimax.py:866: UserWarning: Too few observations to estimate starting parameters for seasonal ARMA. All parameters except for variances will be set to zeros.\n",
      "  warn('Too few observations to estimate starting parameters%s.'\n"
     ]
    },
    {
     "name": "stdout",
     "output_type": "stream",
     "text": [
      "SARIMAX (0, 0, 2) x (0, 0, 2, 12)12 : BIC Calculated =52842668.316681266\n",
      "SARIMAX (0, 0, 2) x (0, 1, 0, 12)12 : BIC Calculated =3480300.168629405\n",
      "SARIMAX (0, 0, 2) x (0, 1, 1, 12)12 : BIC Calculated =3283703.8458676455\n"
     ]
    },
    {
     "name": "stderr",
     "output_type": "stream",
     "text": [
      "C:\\Users\\Ania\\anaconda3\\lib\\site-packages\\statsmodels\\tsa\\statespace\\sarimax.py:866: UserWarning: Too few observations to estimate starting parameters for seasonal ARMA. All parameters except for variances will be set to zeros.\n",
      "  warn('Too few observations to estimate starting parameters%s.'\n"
     ]
    },
    {
     "name": "stdout",
     "output_type": "stream",
     "text": [
      "SARIMAX (0, 0, 2) x (0, 1, 2, 12)12 : BIC Calculated =3853323.4419839713\n",
      "SARIMAX (0, 0, 2) x (0, 2, 0, 12)12 : BIC Calculated =9617239.746493137\n"
     ]
    },
    {
     "name": "stderr",
     "output_type": "stream",
     "text": [
      "C:\\Users\\Ania\\anaconda3\\lib\\site-packages\\statsmodels\\base\\model.py:604: ConvergenceWarning: Maximum Likelihood optimization failed to converge. Check mle_retvals\n",
      "  warnings.warn(\"Maximum Likelihood optimization failed to \"\n",
      "C:\\Users\\Ania\\anaconda3\\lib\\site-packages\\statsmodels\\tsa\\statespace\\sarimax.py:866: UserWarning: Too few observations to estimate starting parameters for seasonal ARMA. All parameters except for variances will be set to zeros.\n",
      "  warn('Too few observations to estimate starting parameters%s.'\n"
     ]
    },
    {
     "name": "stdout",
     "output_type": "stream",
     "text": [
      "SARIMAX (0, 0, 2) x (0, 2, 1, 12)12 : BIC Calculated =9843791.79392894\n",
      "SARIMAX (0, 0, 2) x (0, 2, 2, 12)12 : BIC Calculated =1811883.579327363\n",
      "SARIMAX (0, 0, 2) x (1, 0, 0, 12)12 : BIC Calculated =2710113.83251805\n",
      "SARIMAX (0, 0, 2) x (1, 0, 1, 12)12 : BIC Calculated =1654532.4967308654\n"
     ]
    },
    {
     "name": "stderr",
     "output_type": "stream",
     "text": [
      "C:\\Users\\Ania\\anaconda3\\lib\\site-packages\\statsmodels\\tsa\\statespace\\sarimax.py:866: UserWarning: Too few observations to estimate starting parameters for seasonal ARMA. All parameters except for variances will be set to zeros.\n",
      "  warn('Too few observations to estimate starting parameters%s.'\n",
      "C:\\Users\\Ania\\anaconda3\\lib\\site-packages\\statsmodels\\base\\model.py:604: ConvergenceWarning: Maximum Likelihood optimization failed to converge. Check mle_retvals\n",
      "  warnings.warn(\"Maximum Likelihood optimization failed to \"\n"
     ]
    },
    {
     "name": "stdout",
     "output_type": "stream",
     "text": [
      "SARIMAX (0, 0, 2) x (1, 0, 2, 12)12 : BIC Calculated =1659214.9851267277\n",
      "SARIMAX (0, 0, 2) x (1, 1, 0, 12)12 : BIC Calculated =3021198.684384149\n",
      "SARIMAX (0, 0, 2) x (1, 1, 1, 12)12 : BIC Calculated =3256505.8130779513\n"
     ]
    },
    {
     "name": "stderr",
     "output_type": "stream",
     "text": [
      "C:\\Users\\Ania\\anaconda3\\lib\\site-packages\\statsmodels\\tsa\\statespace\\sarimax.py:866: UserWarning: Too few observations to estimate starting parameters for seasonal ARMA. All parameters except for variances will be set to zeros.\n",
      "  warn('Too few observations to estimate starting parameters%s.'\n"
     ]
    },
    {
     "name": "stdout",
     "output_type": "stream",
     "text": [
      "SARIMAX (0, 0, 2) x (1, 1, 2, 12)12 : BIC Calculated =3525523.4435842596\n",
      "SARIMAX (0, 0, 2) x (1, 2, 0, 12)12 : BIC Calculated =5219494.8881442845\n"
     ]
    },
    {
     "name": "stderr",
     "output_type": "stream",
     "text": [
      "C:\\Users\\Ania\\anaconda3\\lib\\site-packages\\statsmodels\\base\\model.py:604: ConvergenceWarning: Maximum Likelihood optimization failed to converge. Check mle_retvals\n",
      "  warnings.warn(\"Maximum Likelihood optimization failed to \"\n",
      "C:\\Users\\Ania\\anaconda3\\lib\\site-packages\\statsmodels\\tsa\\statespace\\sarimax.py:866: UserWarning: Too few observations to estimate starting parameters for seasonal ARMA. All parameters except for variances will be set to zeros.\n",
      "  warn('Too few observations to estimate starting parameters%s.'\n"
     ]
    },
    {
     "name": "stdout",
     "output_type": "stream",
     "text": [
      "SARIMAX (0, 0, 2) x (1, 2, 1, 12)12 : BIC Calculated =4745635.939570084\n",
      "SARIMAX (0, 0, 2) x (1, 2, 2, 12)12 : BIC Calculated =2777660.906613106\n",
      "SARIMAX (0, 0, 2) x (2, 0, 0, 12)12 : BIC Calculated =1530405.9182138112\n",
      "SARIMAX (0, 0, 2) x (2, 0, 1, 12)12 : BIC Calculated =1562760.4176435673\n"
     ]
    },
    {
     "name": "stderr",
     "output_type": "stream",
     "text": [
      "C:\\Users\\Ania\\anaconda3\\lib\\site-packages\\statsmodels\\tsa\\statespace\\sarimax.py:866: UserWarning: Too few observations to estimate starting parameters for seasonal ARMA. All parameters except for variances will be set to zeros.\n",
      "  warn('Too few observations to estimate starting parameters%s.'\n",
      "C:\\Users\\Ania\\anaconda3\\lib\\site-packages\\statsmodels\\base\\model.py:604: ConvergenceWarning: Maximum Likelihood optimization failed to converge. Check mle_retvals\n",
      "  warnings.warn(\"Maximum Likelihood optimization failed to \"\n"
     ]
    },
    {
     "name": "stdout",
     "output_type": "stream",
     "text": [
      "SARIMAX (0, 0, 2) x (2, 0, 2, 12)12 : BIC Calculated =1277592.7798413674\n",
      "SARIMAX (0, 0, 2) x (2, 1, 0, 12)12 : BIC Calculated =3465981.9765486205\n",
      "SARIMAX (0, 0, 2) x (2, 1, 1, 12)12 : BIC Calculated =3085141.821373765\n"
     ]
    },
    {
     "name": "stderr",
     "output_type": "stream",
     "text": [
      "C:\\Users\\Ania\\anaconda3\\lib\\site-packages\\statsmodels\\tsa\\statespace\\sarimax.py:866: UserWarning: Too few observations to estimate starting parameters for seasonal ARMA. All parameters except for variances will be set to zeros.\n",
      "  warn('Too few observations to estimate starting parameters%s.'\n"
     ]
    },
    {
     "name": "stdout",
     "output_type": "stream",
     "text": [
      "SARIMAX (0, 0, 2) x (2, 1, 2, 12)12 : BIC Calculated =3465405.147989228\n",
      "SARIMAX (0, 0, 2) x (2, 2, 0, 12)12 : BIC Calculated =2132632.6835948313\n",
      "SARIMAX (0, 0, 2) x (2, 2, 1, 12)12 : BIC Calculated =1416950.2811010215\n"
     ]
    },
    {
     "name": "stderr",
     "output_type": "stream",
     "text": [
      "C:\\Users\\Ania\\anaconda3\\lib\\site-packages\\statsmodels\\tsa\\statespace\\sarimax.py:866: UserWarning: Too few observations to estimate starting parameters for seasonal ARMA. All parameters except for variances will be set to zeros.\n",
      "  warn('Too few observations to estimate starting parameters%s.'\n",
      "C:\\Users\\Ania\\anaconda3\\lib\\site-packages\\statsmodels\\base\\model.py:604: ConvergenceWarning: Maximum Likelihood optimization failed to converge. Check mle_retvals\n",
      "  warnings.warn(\"Maximum Likelihood optimization failed to \"\n",
      "C:\\Users\\Ania\\anaconda3\\lib\\site-packages\\statsmodels\\tsa\\statespace\\sarimax.py:866: UserWarning: Too few observations to estimate starting parameters for seasonal ARMA. All parameters except for variances will be set to zeros.\n",
      "  warn('Too few observations to estimate starting parameters%s.'\n"
     ]
    },
    {
     "name": "stdout",
     "output_type": "stream",
     "text": [
      "SARIMAX (0, 0, 2) x (2, 2, 2, 12)12 : BIC Calculated =1364261.036261721\n",
      "SARIMAX (0, 1, 0) x (0, 0, 0, 12)12 : BIC Calculated =10039213.946224958\n",
      "SARIMAX (0, 1, 0) x (0, 0, 1, 12)12 : BIC Calculated =10860085.290964589\n",
      "SARIMAX (0, 1, 0) x (0, 0, 2, 12)12 : BIC Calculated =5306105.3808803875\n",
      "SARIMAX (0, 1, 0) x (0, 1, 0, 12)12 : BIC Calculated =2350335.682168246\n",
      "SARIMAX (0, 1, 0) x (0, 1, 1, 12)12 : BIC Calculated =1337606.6405837368\n"
     ]
    },
    {
     "name": "stderr",
     "output_type": "stream",
     "text": [
      "C:\\Users\\Ania\\anaconda3\\lib\\site-packages\\statsmodels\\tsa\\statespace\\sarimax.py:866: UserWarning: Too few observations to estimate starting parameters for seasonal ARMA. All parameters except for variances will be set to zeros.\n",
      "  warn('Too few observations to estimate starting parameters%s.'\n"
     ]
    },
    {
     "name": "stdout",
     "output_type": "stream",
     "text": [
      "SARIMAX (0, 1, 0) x (0, 1, 2, 12)12 : BIC Calculated =1398491.197581015\n",
      "SARIMAX (0, 1, 0) x (0, 2, 0, 12)12 : BIC Calculated =17704534.66874317\n",
      "SARIMAX (0, 1, 0) x (0, 2, 1, 12)12 : BIC Calculated =2432015.445140251\n"
     ]
    },
    {
     "name": "stderr",
     "output_type": "stream",
     "text": [
      "C:\\Users\\Ania\\anaconda3\\lib\\site-packages\\statsmodels\\tsa\\statespace\\sarimax.py:866: UserWarning: Too few observations to estimate starting parameters for seasonal ARMA. All parameters except for variances will be set to zeros.\n",
      "  warn('Too few observations to estimate starting parameters%s.'\n"
     ]
    },
    {
     "name": "stdout",
     "output_type": "stream",
     "text": [
      "SARIMAX (0, 1, 0) x (0, 2, 2, 12)12 : BIC Calculated =3249723.276403855\n",
      "SARIMAX (0, 1, 0) x (1, 0, 0, 12)12 : BIC Calculated =3976210.7937253765\n",
      "SARIMAX (0, 1, 0) x (1, 0, 1, 12)12 : BIC Calculated =1608526.0386437923\n"
     ]
    },
    {
     "name": "stderr",
     "output_type": "stream",
     "text": [
      "C:\\Users\\Ania\\anaconda3\\lib\\site-packages\\statsmodels\\tsa\\statespace\\sarimax.py:866: UserWarning: Too few observations to estimate starting parameters for seasonal ARMA. All parameters except for variances will be set to zeros.\n",
      "  warn('Too few observations to estimate starting parameters%s.'\n"
     ]
    },
    {
     "name": "stdout",
     "output_type": "stream",
     "text": [
      "SARIMAX (0, 1, 0) x (1, 0, 2, 12)12 : BIC Calculated =1319875.940597198\n",
      "SARIMAX (0, 1, 0) x (1, 1, 0, 12)12 : BIC Calculated =1577305.493515701\n",
      "SARIMAX (0, 1, 0) x (1, 1, 1, 12)12 : BIC Calculated =1336906.9530762634\n"
     ]
    },
    {
     "name": "stderr",
     "output_type": "stream",
     "text": [
      "C:\\Users\\Ania\\anaconda3\\lib\\site-packages\\statsmodels\\tsa\\statespace\\sarimax.py:866: UserWarning: Too few observations to estimate starting parameters for seasonal ARMA. All parameters except for variances will be set to zeros.\n",
      "  warn('Too few observations to estimate starting parameters%s.'\n",
      "C:\\Users\\Ania\\anaconda3\\lib\\site-packages\\statsmodels\\base\\model.py:604: ConvergenceWarning: Maximum Likelihood optimization failed to converge. Check mle_retvals\n",
      "  warnings.warn(\"Maximum Likelihood optimization failed to \"\n"
     ]
    },
    {
     "name": "stdout",
     "output_type": "stream",
     "text": [
      "SARIMAX (0, 1, 0) x (1, 1, 2, 12)12 : BIC Calculated =1413623.796340147\n",
      "SARIMAX (0, 1, 0) x (1, 2, 0, 12)12 : BIC Calculated =4462663.98552333\n",
      "SARIMAX (0, 1, 0) x (1, 2, 1, 12)12 : BIC Calculated =2577050.0821767803\n"
     ]
    },
    {
     "name": "stderr",
     "output_type": "stream",
     "text": [
      "C:\\Users\\Ania\\anaconda3\\lib\\site-packages\\statsmodels\\tsa\\statespace\\sarimax.py:866: UserWarning: Too few observations to estimate starting parameters for seasonal ARMA. All parameters except for variances will be set to zeros.\n",
      "  warn('Too few observations to estimate starting parameters%s.'\n"
     ]
    },
    {
     "name": "stdout",
     "output_type": "stream",
     "text": [
      "SARIMAX (0, 1, 0) x (1, 2, 2, 12)12 : BIC Calculated =3940755.93123415\n",
      "SARIMAX (0, 1, 0) x (2, 0, 0, 12)12 : BIC Calculated =1561030.1842717049\n",
      "SARIMAX (0, 1, 0) x (2, 0, 1, 12)12 : BIC Calculated =1406080.6166382486\n"
     ]
    },
    {
     "name": "stderr",
     "output_type": "stream",
     "text": [
      "C:\\Users\\Ania\\anaconda3\\lib\\site-packages\\statsmodels\\tsa\\statespace\\sarimax.py:866: UserWarning: Too few observations to estimate starting parameters for seasonal ARMA. All parameters except for variances will be set to zeros.\n",
      "  warn('Too few observations to estimate starting parameters%s.'\n"
     ]
    },
    {
     "name": "stdout",
     "output_type": "stream",
     "text": [
      "SARIMAX (0, 1, 0) x (2, 0, 2, 12)12 : BIC Calculated =1596064.7173922758\n",
      "SARIMAX (0, 1, 0) x (2, 1, 0, 12)12 : BIC Calculated =1160083.8689788266\n",
      "SARIMAX (0, 1, 0) x (2, 1, 1, 12)12 : BIC Calculated =1432381.637789069\n"
     ]
    },
    {
     "name": "stderr",
     "output_type": "stream",
     "text": [
      "C:\\Users\\Ania\\anaconda3\\lib\\site-packages\\statsmodels\\tsa\\statespace\\sarimax.py:866: UserWarning: Too few observations to estimate starting parameters for seasonal ARMA. All parameters except for variances will be set to zeros.\n",
      "  warn('Too few observations to estimate starting parameters%s.'\n"
     ]
    },
    {
     "name": "stdout",
     "output_type": "stream",
     "text": [
      "SARIMAX (0, 1, 0) x (2, 1, 2, 12)12 : BIC Calculated =1618535.602137996\n",
      "SARIMAX (0, 1, 0) x (2, 2, 0, 12)12 : BIC Calculated =2137719.7385710706\n",
      "SARIMAX (0, 1, 0) x (2, 2, 1, 12)12 : BIC Calculated =2231918.0167021547\n"
     ]
    },
    {
     "name": "stderr",
     "output_type": "stream",
     "text": [
      "C:\\Users\\Ania\\anaconda3\\lib\\site-packages\\statsmodels\\tsa\\statespace\\sarimax.py:866: UserWarning: Too few observations to estimate starting parameters for seasonal ARMA. All parameters except for variances will be set to zeros.\n",
      "  warn('Too few observations to estimate starting parameters%s.'\n"
     ]
    },
    {
     "name": "stdout",
     "output_type": "stream",
     "text": [
      "SARIMAX (0, 1, 0) x (2, 2, 2, 12)12 : BIC Calculated =3355505.5238110833\n",
      "SARIMAX (0, 1, 1) x (0, 0, 0, 12)12 : BIC Calculated =9856027.171241036\n",
      "SARIMAX (0, 1, 1) x (0, 0, 1, 12)12 : BIC Calculated =9750677.96139543\n"
     ]
    },
    {
     "name": "stderr",
     "output_type": "stream",
     "text": [
      "C:\\Users\\Ania\\anaconda3\\lib\\site-packages\\statsmodels\\tsa\\statespace\\sarimax.py:866: UserWarning: Too few observations to estimate starting parameters for seasonal ARMA. All parameters except for variances will be set to zeros.\n",
      "  warn('Too few observations to estimate starting parameters%s.'\n"
     ]
    },
    {
     "name": "stdout",
     "output_type": "stream",
     "text": [
      "SARIMAX (0, 1, 1) x (0, 0, 2, 12)12 : BIC Calculated =4990433.5283148745\n",
      "SARIMAX (0, 1, 1) x (0, 1, 0, 12)12 : BIC Calculated =2255836.9677508706\n",
      "SARIMAX (0, 1, 1) x (0, 1, 1, 12)12 : BIC Calculated =1447956.8517588053\n"
     ]
    },
    {
     "name": "stderr",
     "output_type": "stream",
     "text": [
      "C:\\Users\\Ania\\anaconda3\\lib\\site-packages\\statsmodels\\tsa\\statespace\\sarimax.py:866: UserWarning: Too few observations to estimate starting parameters for seasonal ARMA. All parameters except for variances will be set to zeros.\n",
      "  warn('Too few observations to estimate starting parameters%s.'\n"
     ]
    },
    {
     "name": "stdout",
     "output_type": "stream",
     "text": [
      "SARIMAX (0, 1, 1) x (0, 1, 2, 12)12 : BIC Calculated =1156974.7221089534\n",
      "SARIMAX (0, 1, 1) x (0, 2, 0, 12)12 : BIC Calculated =10866926.094678983\n",
      "SARIMAX (0, 1, 1) x (0, 2, 1, 12)12 : BIC Calculated =2582557.149114132\n"
     ]
    },
    {
     "name": "stderr",
     "output_type": "stream",
     "text": [
      "C:\\Users\\Ania\\anaconda3\\lib\\site-packages\\statsmodels\\tsa\\statespace\\sarimax.py:866: UserWarning: Too few observations to estimate starting parameters for seasonal ARMA. All parameters except for variances will be set to zeros.\n",
      "  warn('Too few observations to estimate starting parameters%s.'\n"
     ]
    },
    {
     "name": "stdout",
     "output_type": "stream",
     "text": [
      "SARIMAX (0, 1, 1) x (0, 2, 2, 12)12 : BIC Calculated =2343103.9709797124\n",
      "SARIMAX (0, 1, 1) x (1, 0, 0, 12)12 : BIC Calculated =2931133.141007435\n",
      "SARIMAX (0, 1, 1) x (1, 0, 1, 12)12 : BIC Calculated =1217785.3440877842\n"
     ]
    },
    {
     "name": "stderr",
     "output_type": "stream",
     "text": [
      "C:\\Users\\Ania\\anaconda3\\lib\\site-packages\\statsmodels\\tsa\\statespace\\sarimax.py:866: UserWarning: Too few observations to estimate starting parameters for seasonal ARMA. All parameters except for variances will be set to zeros.\n",
      "  warn('Too few observations to estimate starting parameters%s.'\n"
     ]
    },
    {
     "name": "stdout",
     "output_type": "stream",
     "text": [
      "SARIMAX (0, 1, 1) x (1, 0, 2, 12)12 : BIC Calculated =1175542.1075665972\n",
      "SARIMAX (0, 1, 1) x (1, 1, 0, 12)12 : BIC Calculated =1405962.5889739469\n",
      "SARIMAX (0, 1, 1) x (1, 1, 1, 12)12 : BIC Calculated =1470770.7211945527\n"
     ]
    },
    {
     "name": "stderr",
     "output_type": "stream",
     "text": [
      "C:\\Users\\Ania\\anaconda3\\lib\\site-packages\\statsmodels\\tsa\\statespace\\sarimax.py:866: UserWarning: Too few observations to estimate starting parameters for seasonal ARMA. All parameters except for variances will be set to zeros.\n",
      "  warn('Too few observations to estimate starting parameters%s.'\n"
     ]
    },
    {
     "name": "stdout",
     "output_type": "stream",
     "text": [
      "SARIMAX (0, 1, 1) x (1, 1, 2, 12)12 : BIC Calculated =1303480.6568912603\n",
      "SARIMAX (0, 1, 1) x (1, 2, 0, 12)12 : BIC Calculated =4687653.40970852\n",
      "SARIMAX (0, 1, 1) x (1, 2, 1, 12)12 : BIC Calculated =1631402.8001935182\n"
     ]
    },
    {
     "name": "stderr",
     "output_type": "stream",
     "text": [
      "C:\\Users\\Ania\\anaconda3\\lib\\site-packages\\statsmodels\\tsa\\statespace\\sarimax.py:866: UserWarning: Too few observations to estimate starting parameters for seasonal ARMA. All parameters except for variances will be set to zeros.\n",
      "  warn('Too few observations to estimate starting parameters%s.'\n"
     ]
    },
    {
     "name": "stdout",
     "output_type": "stream",
     "text": [
      "SARIMAX (0, 1, 1) x (1, 2, 2, 12)12 : BIC Calculated =2250792.439299815\n",
      "SARIMAX (0, 1, 1) x (2, 0, 0, 12)12 : BIC Calculated =1516961.1179206707\n",
      "SARIMAX (0, 1, 1) x (2, 0, 1, 12)12 : BIC Calculated =1109063.1162632303\n"
     ]
    },
    {
     "name": "stderr",
     "output_type": "stream",
     "text": [
      "C:\\Users\\Ania\\anaconda3\\lib\\site-packages\\statsmodels\\tsa\\statespace\\sarimax.py:866: UserWarning: Too few observations to estimate starting parameters for seasonal ARMA. All parameters except for variances will be set to zeros.\n",
      "  warn('Too few observations to estimate starting parameters%s.'\n",
      "C:\\Users\\Ania\\anaconda3\\lib\\site-packages\\statsmodels\\base\\model.py:604: ConvergenceWarning: Maximum Likelihood optimization failed to converge. Check mle_retvals\n",
      "  warnings.warn(\"Maximum Likelihood optimization failed to \"\n"
     ]
    },
    {
     "name": "stdout",
     "output_type": "stream",
     "text": [
      "SARIMAX (0, 1, 1) x (2, 0, 2, 12)12 : BIC Calculated =1228043.3161340952\n",
      "SARIMAX (0, 1, 1) x (2, 1, 0, 12)12 : BIC Calculated =1130087.53118901\n",
      "SARIMAX (0, 1, 1) x (2, 1, 1, 12)12 : BIC Calculated =1652302.8169420715\n"
     ]
    },
    {
     "name": "stderr",
     "output_type": "stream",
     "text": [
      "C:\\Users\\Ania\\anaconda3\\lib\\site-packages\\statsmodels\\tsa\\statespace\\sarimax.py:866: UserWarning: Too few observations to estimate starting parameters for seasonal ARMA. All parameters except for variances will be set to zeros.\n",
      "  warn('Too few observations to estimate starting parameters%s.'\n"
     ]
    },
    {
     "name": "stdout",
     "output_type": "stream",
     "text": [
      "SARIMAX (0, 1, 1) x (2, 1, 2, 12)12 : BIC Calculated =2333297.1349001694\n",
      "SARIMAX (0, 1, 1) x (2, 2, 0, 12)12 : BIC Calculated =2208809.385049537\n",
      "SARIMAX (0, 1, 1) x (2, 2, 1, 12)12 : BIC Calculated =996825.4955224103\n"
     ]
    },
    {
     "name": "stderr",
     "output_type": "stream",
     "text": [
      "C:\\Users\\Ania\\anaconda3\\lib\\site-packages\\statsmodels\\tsa\\statespace\\sarimax.py:866: UserWarning: Too few observations to estimate starting parameters for seasonal ARMA. All parameters except for variances will be set to zeros.\n",
      "  warn('Too few observations to estimate starting parameters%s.'\n",
      "C:\\Users\\Ania\\anaconda3\\lib\\site-packages\\statsmodels\\base\\model.py:604: ConvergenceWarning: Maximum Likelihood optimization failed to converge. Check mle_retvals\n",
      "  warnings.warn(\"Maximum Likelihood optimization failed to \"\n"
     ]
    },
    {
     "name": "stdout",
     "output_type": "stream",
     "text": [
      "SARIMAX (0, 1, 1) x (2, 2, 2, 12)12 : BIC Calculated =1190288.16079671\n",
      "SARIMAX (0, 1, 2) x (0, 0, 0, 12)12 : BIC Calculated =9061802.578335112\n",
      "SARIMAX (0, 1, 2) x (0, 0, 1, 12)12 : BIC Calculated =7549689.736508905\n"
     ]
    },
    {
     "name": "stderr",
     "output_type": "stream",
     "text": [
      "C:\\Users\\Ania\\anaconda3\\lib\\site-packages\\statsmodels\\tsa\\statespace\\sarimax.py:866: UserWarning: Too few observations to estimate starting parameters for seasonal ARMA. All parameters except for variances will be set to zeros.\n",
      "  warn('Too few observations to estimate starting parameters%s.'\n"
     ]
    },
    {
     "name": "stdout",
     "output_type": "stream",
     "text": [
      "SARIMAX (0, 1, 2) x (0, 0, 2, 12)12 : BIC Calculated =4994122.4791045\n",
      "SARIMAX (0, 1, 2) x (0, 1, 0, 12)12 : BIC Calculated =2434776.1080691176\n",
      "SARIMAX (0, 1, 2) x (0, 1, 1, 12)12 : BIC Calculated =1294421.624105413\n"
     ]
    },
    {
     "name": "stderr",
     "output_type": "stream",
     "text": [
      "C:\\Users\\Ania\\anaconda3\\lib\\site-packages\\statsmodels\\tsa\\statespace\\sarimax.py:866: UserWarning: Too few observations to estimate starting parameters for seasonal ARMA. All parameters except for variances will be set to zeros.\n",
      "  warn('Too few observations to estimate starting parameters%s.'\n",
      "C:\\Users\\Ania\\anaconda3\\lib\\site-packages\\statsmodels\\base\\model.py:604: ConvergenceWarning: Maximum Likelihood optimization failed to converge. Check mle_retvals\n",
      "  warnings.warn(\"Maximum Likelihood optimization failed to \"\n"
     ]
    },
    {
     "name": "stdout",
     "output_type": "stream",
     "text": [
      "SARIMAX (0, 1, 2) x (0, 1, 2, 12)12 : BIC Calculated =1306172.2214557552\n",
      "SARIMAX (0, 1, 2) x (0, 2, 0, 12)12 : BIC Calculated =10846630.029781032\n",
      "SARIMAX (0, 1, 2) x (0, 2, 1, 12)12 : BIC Calculated =2543992.4284402784\n"
     ]
    },
    {
     "name": "stderr",
     "output_type": "stream",
     "text": [
      "C:\\Users\\Ania\\anaconda3\\lib\\site-packages\\statsmodels\\tsa\\statespace\\sarimax.py:866: UserWarning: Too few observations to estimate starting parameters for seasonal ARMA. All parameters except for variances will be set to zeros.\n",
      "  warn('Too few observations to estimate starting parameters%s.'\n"
     ]
    },
    {
     "name": "stdout",
     "output_type": "stream",
     "text": [
      "SARIMAX (0, 1, 2) x (0, 2, 2, 12)12 : BIC Calculated =1142288.999151812\n",
      "SARIMAX (0, 1, 2) x (1, 0, 0, 12)12 : BIC Calculated =3234550.2357749306\n",
      "SARIMAX (0, 1, 2) x (1, 0, 1, 12)12 : BIC Calculated =1271964.5759197366\n"
     ]
    },
    {
     "name": "stderr",
     "output_type": "stream",
     "text": [
      "C:\\Users\\Ania\\anaconda3\\lib\\site-packages\\statsmodels\\tsa\\statespace\\sarimax.py:866: UserWarning: Too few observations to estimate starting parameters for seasonal ARMA. All parameters except for variances will be set to zeros.\n",
      "  warn('Too few observations to estimate starting parameters%s.'\n"
     ]
    },
    {
     "name": "stdout",
     "output_type": "stream",
     "text": [
      "SARIMAX (0, 1, 2) x (1, 0, 2, 12)12 : BIC Calculated =1179150.1970040137\n",
      "SARIMAX (0, 1, 2) x (1, 1, 0, 12)12 : BIC Calculated =1360982.5950896703\n",
      "SARIMAX (0, 1, 2) x (1, 1, 1, 12)12 : BIC Calculated =1280490.3490818806\n"
     ]
    },
    {
     "name": "stderr",
     "output_type": "stream",
     "text": [
      "C:\\Users\\Ania\\anaconda3\\lib\\site-packages\\statsmodels\\tsa\\statespace\\sarimax.py:866: UserWarning: Too few observations to estimate starting parameters for seasonal ARMA. All parameters except for variances will be set to zeros.\n",
      "  warn('Too few observations to estimate starting parameters%s.'\n",
      "C:\\Users\\Ania\\anaconda3\\lib\\site-packages\\statsmodels\\base\\model.py:604: ConvergenceWarning: Maximum Likelihood optimization failed to converge. Check mle_retvals\n",
      "  warnings.warn(\"Maximum Likelihood optimization failed to \"\n"
     ]
    },
    {
     "name": "stdout",
     "output_type": "stream",
     "text": [
      "SARIMAX (0, 1, 2) x (1, 1, 2, 12)12 : BIC Calculated =1308349.3694623723\n",
      "SARIMAX (0, 1, 2) x (1, 2, 0, 12)12 : BIC Calculated =5314520.727895583\n",
      "SARIMAX (0, 1, 2) x (1, 2, 1, 12)12 : BIC Calculated =1454910.4038166658\n"
     ]
    },
    {
     "name": "stderr",
     "output_type": "stream",
     "text": [
      "C:\\Users\\Ania\\anaconda3\\lib\\site-packages\\statsmodels\\tsa\\statespace\\sarimax.py:866: UserWarning: Too few observations to estimate starting parameters for seasonal ARMA. All parameters except for variances will be set to zeros.\n",
      "  warn('Too few observations to estimate starting parameters%s.'\n"
     ]
    },
    {
     "name": "stdout",
     "output_type": "stream",
     "text": [
      "SARIMAX (0, 1, 2) x (1, 2, 2, 12)12 : BIC Calculated =1066884.0070247154\n",
      "SARIMAX (0, 1, 2) x (2, 0, 0, 12)12 : BIC Calculated =1510191.6297021108\n",
      "SARIMAX (0, 1, 2) x (2, 0, 1, 12)12 : BIC Calculated =1161113.951552133\n"
     ]
    },
    {
     "name": "stderr",
     "output_type": "stream",
     "text": [
      "C:\\Users\\Ania\\anaconda3\\lib\\site-packages\\statsmodels\\tsa\\statespace\\sarimax.py:866: UserWarning: Too few observations to estimate starting parameters for seasonal ARMA. All parameters except for variances will be set to zeros.\n",
      "  warn('Too few observations to estimate starting parameters%s.'\n"
     ]
    },
    {
     "name": "stdout",
     "output_type": "stream",
     "text": [
      "SARIMAX (0, 1, 2) x (2, 0, 2, 12)12 : BIC Calculated =1181414.6005296437\n",
      "SARIMAX (0, 1, 2) x (2, 1, 0, 12)12 : BIC Calculated =1131453.4234110569\n",
      "SARIMAX (0, 1, 2) x (2, 1, 1, 12)12 : BIC Calculated =1468411.0255119677\n"
     ]
    },
    {
     "name": "stderr",
     "output_type": "stream",
     "text": [
      "C:\\Users\\Ania\\anaconda3\\lib\\site-packages\\statsmodels\\tsa\\statespace\\sarimax.py:866: UserWarning: Too few observations to estimate starting parameters for seasonal ARMA. All parameters except for variances will be set to zeros.\n",
      "  warn('Too few observations to estimate starting parameters%s.'\n"
     ]
    },
    {
     "name": "stdout",
     "output_type": "stream",
     "text": [
      "SARIMAX (0, 1, 2) x (2, 1, 2, 12)12 : BIC Calculated =2112730.099227478\n",
      "SARIMAX (0, 1, 2) x (2, 2, 0, 12)12 : BIC Calculated =2330493.047254255\n",
      "SARIMAX (0, 1, 2) x (2, 2, 1, 12)12 : BIC Calculated =1087566.6831406134\n"
     ]
    },
    {
     "name": "stderr",
     "output_type": "stream",
     "text": [
      "C:\\Users\\Ania\\anaconda3\\lib\\site-packages\\statsmodels\\tsa\\statespace\\sarimax.py:866: UserWarning: Too few observations to estimate starting parameters for seasonal ARMA. All parameters except for variances will be set to zeros.\n",
      "  warn('Too few observations to estimate starting parameters%s.'\n"
     ]
    },
    {
     "name": "stdout",
     "output_type": "stream",
     "text": [
      "SARIMAX (0, 1, 2) x (2, 2, 2, 12)12 : BIC Calculated =1826752.458525251\n",
      "SARIMAX (0, 2, 0) x (0, 0, 0, 12)12 : BIC Calculated =51838741.26254197\n",
      "SARIMAX (0, 2, 0) x (0, 0, 1, 12)12 : BIC Calculated =205341227.26690936\n",
      "SARIMAX (0, 2, 0) x (0, 0, 2, 12)12 : BIC Calculated =79050657.68684454\n",
      "SARIMAX (0, 2, 0) x (0, 1, 0, 12)12 : BIC Calculated =259404762.6444923\n"
     ]
    },
    {
     "name": "stderr",
     "output_type": "stream",
     "text": [
      "C:\\Users\\Ania\\anaconda3\\lib\\site-packages\\statsmodels\\tsa\\statespace\\sarimax.py:866: UserWarning: Too few observations to estimate starting parameters for seasonal ARMA. All parameters except for variances will be set to zeros.\n",
      "  warn('Too few observations to estimate starting parameters%s.'\n",
      "C:\\Users\\Ania\\anaconda3\\lib\\site-packages\\statsmodels\\base\\model.py:604: ConvergenceWarning: Maximum Likelihood optimization failed to converge. Check mle_retvals\n",
      "  warnings.warn(\"Maximum Likelihood optimization failed to \"\n",
      "C:\\Users\\Ania\\anaconda3\\lib\\site-packages\\statsmodels\\tsa\\statespace\\sarimax.py:866: UserWarning: Too few observations to estimate starting parameters for seasonal ARMA. All parameters except for variances will be set to zeros.\n",
      "  warn('Too few observations to estimate starting parameters%s.'\n"
     ]
    },
    {
     "name": "stdout",
     "output_type": "stream",
     "text": [
      "SARIMAX (0, 2, 0) x (0, 1, 1, 12)12 : BIC Calculated =259404762.6444798\n",
      "SARIMAX (0, 2, 0) x (0, 1, 2, 12)12 : BIC Calculated =27296700.842696667\n",
      "SARIMAX (0, 2, 0) x (0, 2, 0, 12)12 : BIC Calculated =2123226999.3160706\n",
      "SARIMAX (0, 2, 0) x (0, 2, 1, 12)12 : BIC Calculated =294794719.79458225\n"
     ]
    },
    {
     "name": "stderr",
     "output_type": "stream",
     "text": [
      "C:\\Users\\Ania\\anaconda3\\lib\\site-packages\\statsmodels\\tsa\\statespace\\sarimax.py:866: UserWarning: Too few observations to estimate starting parameters for seasonal ARMA. All parameters except for variances will be set to zeros.\n",
      "  warn('Too few observations to estimate starting parameters%s.'\n",
      "C:\\Users\\Ania\\anaconda3\\lib\\site-packages\\statsmodels\\tsa\\statespace\\sarimax.py:866: UserWarning: Too few observations to estimate starting parameters for seasonal ARMA. All parameters except for variances will be set to zeros.\n",
      "  warn('Too few observations to estimate starting parameters%s.'\n"
     ]
    },
    {
     "name": "stdout",
     "output_type": "stream",
     "text": [
      "SARIMAX (0, 2, 0) x (0, 2, 2, 12)12 : BIC Calculated =30613408.666385263\n",
      "SARIMAX (0, 2, 0) x (1, 0, 0, 12)12 : BIC Calculated =160964320.159814\n",
      "SARIMAX (0, 2, 0) x (1, 0, 1, 12)12 : BIC Calculated =7060750.378859656\n"
     ]
    },
    {
     "name": "stderr",
     "output_type": "stream",
     "text": [
      "C:\\Users\\Ania\\anaconda3\\lib\\site-packages\\statsmodels\\tsa\\statespace\\sarimax.py:866: UserWarning: Too few observations to estimate starting parameters for seasonal ARMA. All parameters except for variances will be set to zeros.\n",
      "  warn('Too few observations to estimate starting parameters%s.'\n"
     ]
    },
    {
     "name": "stdout",
     "output_type": "stream",
     "text": [
      "SARIMAX (0, 2, 0) x (1, 0, 2, 12)12 : BIC Calculated =51980521.792142384\n",
      "SARIMAX (0, 2, 0) x (1, 1, 0, 12)12 : BIC Calculated =2429369.9459569277\n",
      "SARIMAX (0, 2, 0) x (1, 1, 1, 12)12 : BIC Calculated =14820361.710510412\n"
     ]
    },
    {
     "name": "stderr",
     "output_type": "stream",
     "text": [
      "C:\\Users\\Ania\\anaconda3\\lib\\site-packages\\statsmodels\\tsa\\statespace\\sarimax.py:866: UserWarning: Too few observations to estimate starting parameters for seasonal ARMA. All parameters except for variances will be set to zeros.\n",
      "  warn('Too few observations to estimate starting parameters%s.'\n"
     ]
    },
    {
     "name": "stdout",
     "output_type": "stream",
     "text": [
      "SARIMAX (0, 2, 0) x (1, 1, 2, 12)12 : BIC Calculated =48699677.373039335\n",
      "SARIMAX (0, 2, 0) x (1, 2, 0, 12)12 : BIC Calculated =383868466.30623937\n"
     ]
    },
    {
     "name": "stderr",
     "output_type": "stream",
     "text": [
      "C:\\Users\\Ania\\anaconda3\\lib\\site-packages\\statsmodels\\tsa\\statespace\\sarimax.py:866: UserWarning: Too few observations to estimate starting parameters for seasonal ARMA. All parameters except for variances will be set to zeros.\n",
      "  warn('Too few observations to estimate starting parameters%s.'\n"
     ]
    },
    {
     "name": "stdout",
     "output_type": "stream",
     "text": [
      "SARIMAX (0, 2, 0) x (1, 2, 1, 12)12 : BIC Calculated =1815651.5198555146\n"
     ]
    },
    {
     "name": "stderr",
     "output_type": "stream",
     "text": [
      "C:\\Users\\Ania\\anaconda3\\lib\\site-packages\\statsmodels\\tsa\\statespace\\sarimax.py:866: UserWarning: Too few observations to estimate starting parameters for seasonal ARMA. All parameters except for variances will be set to zeros.\n",
      "  warn('Too few observations to estimate starting parameters%s.'\n"
     ]
    },
    {
     "name": "stdout",
     "output_type": "stream",
     "text": [
      "SARIMAX (0, 2, 0) x (1, 2, 2, 12)12 : BIC Calculated =125945577.85096423\n",
      "SARIMAX (0, 2, 0) x (2, 0, 0, 12)12 : BIC Calculated =8016732.8086696165\n",
      "SARIMAX (0, 2, 0) x (2, 0, 1, 12)12 : BIC Calculated =35828324.353948444\n"
     ]
    },
    {
     "name": "stderr",
     "output_type": "stream",
     "text": [
      "C:\\Users\\Ania\\anaconda3\\lib\\site-packages\\statsmodels\\tsa\\statespace\\sarimax.py:866: UserWarning: Too few observations to estimate starting parameters for seasonal ARMA. All parameters except for variances will be set to zeros.\n",
      "  warn('Too few observations to estimate starting parameters%s.'\n",
      "C:\\Users\\Ania\\anaconda3\\lib\\site-packages\\statsmodels\\base\\model.py:604: ConvergenceWarning: Maximum Likelihood optimization failed to converge. Check mle_retvals\n",
      "  warnings.warn(\"Maximum Likelihood optimization failed to \"\n"
     ]
    },
    {
     "name": "stdout",
     "output_type": "stream",
     "text": [
      "SARIMAX (0, 2, 0) x (2, 0, 2, 12)12 : BIC Calculated =32233513.243850626\n",
      "SARIMAX (0, 2, 0) x (2, 1, 0, 12)12 : BIC Calculated =15970410.71273923\n"
     ]
    },
    {
     "name": "stderr",
     "output_type": "stream",
     "text": [
      "C:\\Users\\Ania\\anaconda3\\lib\\site-packages\\statsmodels\\base\\model.py:604: ConvergenceWarning: Maximum Likelihood optimization failed to converge. Check mle_retvals\n",
      "  warnings.warn(\"Maximum Likelihood optimization failed to \"\n",
      "C:\\Users\\Ania\\anaconda3\\lib\\site-packages\\statsmodels\\tsa\\statespace\\sarimax.py:866: UserWarning: Too few observations to estimate starting parameters for seasonal ARMA. All parameters except for variances will be set to zeros.\n",
      "  warn('Too few observations to estimate starting parameters%s.'\n"
     ]
    },
    {
     "name": "stdout",
     "output_type": "stream",
     "text": [
      "SARIMAX (0, 2, 0) x (2, 1, 1, 12)12 : BIC Calculated =31458427.03589847\n",
      "SARIMAX (0, 2, 0) x (2, 1, 2, 12)12 : BIC Calculated =23000263.840283126\n",
      "SARIMAX (0, 2, 0) x (2, 2, 0, 12)12 : BIC Calculated =123854069.97091198\n"
     ]
    },
    {
     "name": "stderr",
     "output_type": "stream",
     "text": [
      "C:\\Users\\Ania\\anaconda3\\lib\\site-packages\\statsmodels\\tsa\\statespace\\sarimax.py:866: UserWarning: Too few observations to estimate starting parameters for seasonal ARMA. All parameters except for variances will be set to zeros.\n",
      "  warn('Too few observations to estimate starting parameters%s.'\n"
     ]
    },
    {
     "name": "stdout",
     "output_type": "stream",
     "text": [
      "SARIMAX (0, 2, 0) x (2, 2, 1, 12)12 : BIC Calculated =37570259.484003395\n"
     ]
    },
    {
     "name": "stderr",
     "output_type": "stream",
     "text": [
      "C:\\Users\\Ania\\anaconda3\\lib\\site-packages\\statsmodels\\tsa\\statespace\\sarimax.py:866: UserWarning: Too few observations to estimate starting parameters for seasonal ARMA. All parameters except for variances will be set to zeros.\n",
      "  warn('Too few observations to estimate starting parameters%s.'\n"
     ]
    },
    {
     "name": "stdout",
     "output_type": "stream",
     "text": [
      "SARIMAX (0, 2, 0) x (2, 2, 2, 12)12 : BIC Calculated =193425176.93854678\n",
      "SARIMAX (0, 2, 1) x (0, 0, 0, 12)12 : BIC Calculated =7688894.779275266\n",
      "SARIMAX (0, 2, 1) x (0, 0, 1, 12)12 : BIC Calculated =8861179.566481039\n"
     ]
    },
    {
     "name": "stderr",
     "output_type": "stream",
     "text": [
      "C:\\Users\\Ania\\anaconda3\\lib\\site-packages\\statsmodels\\tsa\\statespace\\sarimax.py:866: UserWarning: Too few observations to estimate starting parameters for seasonal ARMA. All parameters except for variances will be set to zeros.\n",
      "  warn('Too few observations to estimate starting parameters%s.'\n"
     ]
    },
    {
     "name": "stdout",
     "output_type": "stream",
     "text": [
      "SARIMAX (0, 2, 1) x (0, 0, 2, 12)12 : BIC Calculated =5115552.687905772\n",
      "SARIMAX (0, 2, 1) x (0, 1, 0, 12)12 : BIC Calculated =2528012.01513404\n"
     ]
    },
    {
     "name": "stderr",
     "output_type": "stream",
     "text": [
      "C:\\Users\\Ania\\anaconda3\\lib\\site-packages\\statsmodels\\base\\model.py:604: ConvergenceWarning: Maximum Likelihood optimization failed to converge. Check mle_retvals\n",
      "  warnings.warn(\"Maximum Likelihood optimization failed to \"\n",
      "C:\\Users\\Ania\\anaconda3\\lib\\site-packages\\statsmodels\\tsa\\statespace\\sarimax.py:866: UserWarning: Too few observations to estimate starting parameters for seasonal ARMA. All parameters except for variances will be set to zeros.\n",
      "  warn('Too few observations to estimate starting parameters%s.'\n"
     ]
    },
    {
     "name": "stdout",
     "output_type": "stream",
     "text": [
      "SARIMAX (0, 2, 1) x (0, 1, 1, 12)12 : BIC Calculated =10859648.069650833\n",
      "SARIMAX (0, 2, 1) x (0, 1, 2, 12)12 : BIC Calculated =2239614.990643527\n",
      "SARIMAX (0, 2, 1) x (0, 2, 0, 12)12 : BIC Calculated =16807928.667163093\n"
     ]
    },
    {
     "name": "stderr",
     "output_type": "stream",
     "text": [
      "C:\\Users\\Ania\\anaconda3\\lib\\site-packages\\statsmodels\\tsa\\statespace\\sarimax.py:866: UserWarning: Too few observations to estimate starting parameters for seasonal ARMA. All parameters except for variances will be set to zeros.\n",
      "  warn('Too few observations to estimate starting parameters%s.'\n"
     ]
    },
    {
     "name": "stdout",
     "output_type": "stream",
     "text": [
      "SARIMAX (0, 2, 1) x (0, 2, 1, 12)12 : BIC Calculated =2409251.05428056\n"
     ]
    },
    {
     "name": "stderr",
     "output_type": "stream",
     "text": [
      "C:\\Users\\Ania\\anaconda3\\lib\\site-packages\\statsmodels\\tsa\\statespace\\sarimax.py:866: UserWarning: Too few observations to estimate starting parameters for seasonal ARMA. All parameters except for variances will be set to zeros.\n",
      "  warn('Too few observations to estimate starting parameters%s.'\n"
     ]
    },
    {
     "name": "stdout",
     "output_type": "stream",
     "text": [
      "SARIMAX (0, 2, 1) x (0, 2, 2, 12)12 : BIC Calculated =16503688.600983374\n",
      "SARIMAX (0, 2, 1) x (1, 0, 0, 12)12 : BIC Calculated =3943080.6420888184\n",
      "SARIMAX (0, 2, 1) x (1, 0, 1, 12)12 : BIC Calculated =1620036.1016053096\n"
     ]
    },
    {
     "name": "stderr",
     "output_type": "stream",
     "text": [
      "C:\\Users\\Ania\\anaconda3\\lib\\site-packages\\statsmodels\\tsa\\statespace\\sarimax.py:866: UserWarning: Too few observations to estimate starting parameters for seasonal ARMA. All parameters except for variances will be set to zeros.\n",
      "  warn('Too few observations to estimate starting parameters%s.'\n"
     ]
    },
    {
     "name": "stdout",
     "output_type": "stream",
     "text": [
      "SARIMAX (0, 2, 1) x (1, 0, 2, 12)12 : BIC Calculated =2178519.096699283\n",
      "SARIMAX (0, 2, 1) x (1, 1, 0, 12)12 : BIC Calculated =1654451.2347124612\n",
      "SARIMAX (0, 2, 1) x (1, 1, 1, 12)12 : BIC Calculated =3545139.0013132505\n"
     ]
    },
    {
     "name": "stderr",
     "output_type": "stream",
     "text": [
      "C:\\Users\\Ania\\anaconda3\\lib\\site-packages\\statsmodels\\tsa\\statespace\\sarimax.py:866: UserWarning: Too few observations to estimate starting parameters for seasonal ARMA. All parameters except for variances will be set to zeros.\n",
      "  warn('Too few observations to estimate starting parameters%s.'\n"
     ]
    },
    {
     "name": "stdout",
     "output_type": "stream",
     "text": [
      "SARIMAX (0, 2, 1) x (1, 1, 2, 12)12 : BIC Calculated =1316477.0738393324\n",
      "SARIMAX (0, 2, 1) x (1, 2, 0, 12)12 : BIC Calculated =4627843.117270262\n"
     ]
    },
    {
     "name": "stderr",
     "output_type": "stream",
     "text": [
      "C:\\Users\\Ania\\anaconda3\\lib\\site-packages\\statsmodels\\tsa\\statespace\\sarimax.py:866: UserWarning: Too few observations to estimate starting parameters for seasonal ARMA. All parameters except for variances will be set to zeros.\n",
      "  warn('Too few observations to estimate starting parameters%s.'\n"
     ]
    },
    {
     "name": "stdout",
     "output_type": "stream",
     "text": [
      "SARIMAX (0, 2, 1) x (1, 2, 1, 12)12 : BIC Calculated =5557392.684442608\n"
     ]
    },
    {
     "name": "stderr",
     "output_type": "stream",
     "text": [
      "C:\\Users\\Ania\\anaconda3\\lib\\site-packages\\statsmodels\\tsa\\statespace\\sarimax.py:866: UserWarning: Too few observations to estimate starting parameters for seasonal ARMA. All parameters except for variances will be set to zeros.\n",
      "  warn('Too few observations to estimate starting parameters%s.'\n"
     ]
    },
    {
     "name": "stdout",
     "output_type": "stream",
     "text": [
      "SARIMAX (0, 2, 1) x (1, 2, 2, 12)12 : BIC Calculated =14797744.438859811\n",
      "SARIMAX (0, 2, 1) x (2, 0, 0, 12)12 : BIC Calculated =1520115.5072314036\n",
      "SARIMAX (0, 2, 1) x (2, 0, 1, 12)12 : BIC Calculated =3235078.9659694983\n"
     ]
    },
    {
     "name": "stderr",
     "output_type": "stream",
     "text": [
      "C:\\Users\\Ania\\anaconda3\\lib\\site-packages\\statsmodels\\tsa\\statespace\\sarimax.py:866: UserWarning: Too few observations to estimate starting parameters for seasonal ARMA. All parameters except for variances will be set to zeros.\n",
      "  warn('Too few observations to estimate starting parameters%s.'\n"
     ]
    },
    {
     "name": "stdout",
     "output_type": "stream",
     "text": [
      "SARIMAX (0, 2, 1) x (2, 0, 2, 12)12 : BIC Calculated =2008903.4129399022\n",
      "SARIMAX (0, 2, 1) x (2, 1, 0, 12)12 : BIC Calculated =1147691.3288815366\n"
     ]
    },
    {
     "name": "stderr",
     "output_type": "stream",
     "text": [
      "C:\\Users\\Ania\\anaconda3\\lib\\site-packages\\statsmodels\\base\\model.py:604: ConvergenceWarning: Maximum Likelihood optimization failed to converge. Check mle_retvals\n",
      "  warnings.warn(\"Maximum Likelihood optimization failed to \"\n",
      "C:\\Users\\Ania\\anaconda3\\lib\\site-packages\\statsmodels\\tsa\\statespace\\sarimax.py:866: UserWarning: Too few observations to estimate starting parameters for seasonal ARMA. All parameters except for variances will be set to zeros.\n",
      "  warn('Too few observations to estimate starting parameters%s.'\n"
     ]
    },
    {
     "name": "stdout",
     "output_type": "stream",
     "text": [
      "SARIMAX (0, 2, 1) x (2, 1, 1, 12)12 : BIC Calculated =6215226.591321568\n",
      "SARIMAX (0, 2, 1) x (2, 1, 2, 12)12 : BIC Calculated =1487734.1521187497\n",
      "SARIMAX (0, 2, 1) x (2, 2, 0, 12)12 : BIC Calculated =1880252.1201045583\n"
     ]
    },
    {
     "name": "stderr",
     "output_type": "stream",
     "text": [
      "C:\\Users\\Ania\\anaconda3\\lib\\site-packages\\statsmodels\\tsa\\statespace\\sarimax.py:866: UserWarning: Too few observations to estimate starting parameters for seasonal ARMA. All parameters except for variances will be set to zeros.\n",
      "  warn('Too few observations to estimate starting parameters%s.'\n"
     ]
    },
    {
     "name": "stdout",
     "output_type": "stream",
     "text": [
      "SARIMAX (0, 2, 1) x (2, 2, 1, 12)12 : BIC Calculated =7406050.2211320065\n"
     ]
    },
    {
     "name": "stderr",
     "output_type": "stream",
     "text": [
      "C:\\Users\\Ania\\anaconda3\\lib\\site-packages\\statsmodels\\tsa\\statespace\\sarimax.py:866: UserWarning: Too few observations to estimate starting parameters for seasonal ARMA. All parameters except for variances will be set to zeros.\n",
      "  warn('Too few observations to estimate starting parameters%s.'\n"
     ]
    },
    {
     "name": "stdout",
     "output_type": "stream",
     "text": [
      "SARIMAX (0, 2, 1) x (2, 2, 2, 12)12 : BIC Calculated =24650693.415689714\n",
      "SARIMAX (0, 2, 2) x (0, 0, 0, 12)12 : BIC Calculated =8380112.597899677\n",
      "SARIMAX (0, 2, 2) x (0, 0, 1, 12)12 : BIC Calculated =8580889.20992668\n"
     ]
    },
    {
     "name": "stderr",
     "output_type": "stream",
     "text": [
      "C:\\Users\\Ania\\anaconda3\\lib\\site-packages\\statsmodels\\tsa\\statespace\\sarimax.py:866: UserWarning: Too few observations to estimate starting parameters for seasonal ARMA. All parameters except for variances will be set to zeros.\n",
      "  warn('Too few observations to estimate starting parameters%s.'\n"
     ]
    },
    {
     "name": "stdout",
     "output_type": "stream",
     "text": [
      "SARIMAX (0, 2, 2) x (0, 0, 2, 12)12 : BIC Calculated =5033165.0337740835\n",
      "SARIMAX (0, 2, 2) x (0, 1, 0, 12)12 : BIC Calculated =2150402.9764999985\n"
     ]
    },
    {
     "name": "stderr",
     "output_type": "stream",
     "text": [
      "C:\\Users\\Ania\\anaconda3\\lib\\site-packages\\statsmodels\\base\\model.py:604: ConvergenceWarning: Maximum Likelihood optimization failed to converge. Check mle_retvals\n",
      "  warnings.warn(\"Maximum Likelihood optimization failed to \"\n",
      "C:\\Users\\Ania\\anaconda3\\lib\\site-packages\\statsmodels\\tsa\\statespace\\sarimax.py:866: UserWarning: Too few observations to estimate starting parameters for seasonal ARMA. All parameters except for variances will be set to zeros.\n",
      "  warn('Too few observations to estimate starting parameters%s.'\n"
     ]
    },
    {
     "name": "stdout",
     "output_type": "stream",
     "text": [
      "SARIMAX (0, 2, 2) x (0, 1, 1, 12)12 : BIC Calculated =591206252.1673814\n",
      "SARIMAX (0, 2, 2) x (0, 1, 2, 12)12 : BIC Calculated =3068627.957870209\n",
      "SARIMAX (0, 2, 2) x (0, 2, 0, 12)12 : BIC Calculated =10471916.925596373\n"
     ]
    },
    {
     "name": "stderr",
     "output_type": "stream",
     "text": [
      "C:\\Users\\Ania\\anaconda3\\lib\\site-packages\\statsmodels\\tsa\\statespace\\sarimax.py:866: UserWarning: Too few observations to estimate starting parameters for seasonal ARMA. All parameters except for variances will be set to zeros.\n",
      "  warn('Too few observations to estimate starting parameters%s.'\n"
     ]
    },
    {
     "name": "stdout",
     "output_type": "stream",
     "text": [
      "SARIMAX (0, 2, 2) x (0, 2, 1, 12)12 : BIC Calculated =9066492.079934735\n"
     ]
    },
    {
     "name": "stderr",
     "output_type": "stream",
     "text": [
      "C:\\Users\\Ania\\anaconda3\\lib\\site-packages\\statsmodels\\tsa\\statespace\\sarimax.py:866: UserWarning: Too few observations to estimate starting parameters for seasonal ARMA. All parameters except for variances will be set to zeros.\n",
      "  warn('Too few observations to estimate starting parameters%s.'\n",
      "C:\\Users\\Ania\\anaconda3\\lib\\site-packages\\statsmodels\\base\\model.py:604: ConvergenceWarning: Maximum Likelihood optimization failed to converge. Check mle_retvals\n",
      "  warnings.warn(\"Maximum Likelihood optimization failed to \"\n"
     ]
    },
    {
     "name": "stdout",
     "output_type": "stream",
     "text": [
      "SARIMAX (0, 2, 2) x (0, 2, 2, 12)12 : BIC Calculated =1932966.1650649738\n",
      "SARIMAX (0, 2, 2) x (1, 0, 0, 12)12 : BIC Calculated =2522172.7555172574\n",
      "SARIMAX (0, 2, 2) x (1, 0, 1, 12)12 : BIC Calculated =1286037.034263521\n"
     ]
    },
    {
     "name": "stderr",
     "output_type": "stream",
     "text": [
      "C:\\Users\\Ania\\anaconda3\\lib\\site-packages\\statsmodels\\tsa\\statespace\\sarimax.py:866: UserWarning: Too few observations to estimate starting parameters for seasonal ARMA. All parameters except for variances will be set to zeros.\n",
      "  warn('Too few observations to estimate starting parameters%s.'\n"
     ]
    },
    {
     "name": "stdout",
     "output_type": "stream",
     "text": [
      "SARIMAX (0, 2, 2) x (1, 0, 2, 12)12 : BIC Calculated =2824069.9884458254\n",
      "SARIMAX (0, 2, 2) x (1, 1, 0, 12)12 : BIC Calculated =1397592.6902011358\n",
      "SARIMAX (0, 2, 2) x (1, 1, 1, 12)12 : BIC Calculated =703266806.0985636\n"
     ]
    },
    {
     "name": "stderr",
     "output_type": "stream",
     "text": [
      "C:\\Users\\Ania\\anaconda3\\lib\\site-packages\\statsmodels\\tsa\\statespace\\sarimax.py:866: UserWarning: Too few observations to estimate starting parameters for seasonal ARMA. All parameters except for variances will be set to zeros.\n",
      "  warn('Too few observations to estimate starting parameters%s.'\n",
      "C:\\Users\\Ania\\anaconda3\\lib\\site-packages\\statsmodels\\base\\model.py:604: ConvergenceWarning: Maximum Likelihood optimization failed to converge. Check mle_retvals\n",
      "  warnings.warn(\"Maximum Likelihood optimization failed to \"\n",
      "C:\\Users\\Ania\\anaconda3\\lib\\site-packages\\statsmodels\\tsa\\statespace\\sarimax.py:866: UserWarning: Too few observations to estimate starting parameters for seasonal ARMA. All parameters except for variances will be set to zeros.\n",
      "  warn('Too few observations to estimate starting parameters%s.'\n"
     ]
    },
    {
     "name": "stdout",
     "output_type": "stream",
     "text": [
      "SARIMAX (0, 2, 2) x (1, 1, 2, 12)12 : BIC Calculated =2265622.87807291\n",
      "SARIMAX (0, 2, 2) x (1, 2, 0, 12)12 : BIC Calculated =5068161.249488882\n",
      "SARIMAX (0, 2, 2) x (1, 2, 1, 12)12 : BIC Calculated =4562929.361881257\n"
     ]
    },
    {
     "name": "stderr",
     "output_type": "stream",
     "text": [
      "C:\\Users\\Ania\\anaconda3\\lib\\site-packages\\statsmodels\\tsa\\statespace\\sarimax.py:866: UserWarning: Too few observations to estimate starting parameters for seasonal ARMA. All parameters except for variances will be set to zeros.\n",
      "  warn('Too few observations to estimate starting parameters%s.'\n"
     ]
    },
    {
     "name": "stdout",
     "output_type": "stream",
     "text": [
      "SARIMAX (0, 2, 2) x (1, 2, 2, 12)12 : BIC Calculated =5892249.3169863\n",
      "SARIMAX (0, 2, 2) x (2, 0, 0, 12)12 : BIC Calculated =1446671.0307317378\n"
     ]
    },
    {
     "name": "stderr",
     "output_type": "stream",
     "text": [
      "C:\\Users\\Ania\\anaconda3\\lib\\site-packages\\statsmodels\\base\\model.py:604: ConvergenceWarning: Maximum Likelihood optimization failed to converge. Check mle_retvals\n",
      "  warnings.warn(\"Maximum Likelihood optimization failed to \"\n",
      "C:\\Users\\Ania\\anaconda3\\lib\\site-packages\\statsmodels\\tsa\\statespace\\sarimax.py:866: UserWarning: Too few observations to estimate starting parameters for seasonal ARMA. All parameters except for variances will be set to zeros.\n",
      "  warn('Too few observations to estimate starting parameters%s.'\n"
     ]
    },
    {
     "name": "stdout",
     "output_type": "stream",
     "text": [
      "SARIMAX (0, 2, 2) x (2, 0, 1, 12)12 : BIC Calculated =1102706.9909482887\n"
     ]
    },
    {
     "name": "stderr",
     "output_type": "stream",
     "text": [
      "C:\\Users\\Ania\\anaconda3\\lib\\site-packages\\statsmodels\\base\\model.py:604: ConvergenceWarning: Maximum Likelihood optimization failed to converge. Check mle_retvals\n",
      "  warnings.warn(\"Maximum Likelihood optimization failed to \"\n"
     ]
    },
    {
     "name": "stdout",
     "output_type": "stream",
     "text": [
      "SARIMAX (0, 2, 2) x (2, 0, 2, 12)12 : BIC Calculated =1593630.1606116993\n",
      "SARIMAX (0, 2, 2) x (2, 1, 0, 12)12 : BIC Calculated =1130649.0349931808\n"
     ]
    },
    {
     "name": "stderr",
     "output_type": "stream",
     "text": [
      "C:\\Users\\Ania\\anaconda3\\lib\\site-packages\\statsmodels\\base\\model.py:604: ConvergenceWarning: Maximum Likelihood optimization failed to converge. Check mle_retvals\n",
      "  warnings.warn(\"Maximum Likelihood optimization failed to \"\n",
      "C:\\Users\\Ania\\anaconda3\\lib\\site-packages\\statsmodels\\tsa\\statespace\\sarimax.py:866: UserWarning: Too few observations to estimate starting parameters for seasonal ARMA. All parameters except for variances will be set to zeros.\n",
      "  warn('Too few observations to estimate starting parameters%s.'\n"
     ]
    },
    {
     "name": "stdout",
     "output_type": "stream",
     "text": [
      "SARIMAX (0, 2, 2) x (2, 1, 1, 12)12 : BIC Calculated =165873815.85923034\n"
     ]
    },
    {
     "name": "stderr",
     "output_type": "stream",
     "text": [
      "C:\\Users\\Ania\\anaconda3\\lib\\site-packages\\statsmodels\\base\\model.py:604: ConvergenceWarning: Maximum Likelihood optimization failed to converge. Check mle_retvals\n",
      "  warnings.warn(\"Maximum Likelihood optimization failed to \"\n"
     ]
    },
    {
     "name": "stdout",
     "output_type": "stream",
     "text": [
      "SARIMAX (0, 2, 2) x (2, 1, 2, 12)12 : BIC Calculated =1593129.23596799\n",
      "SARIMAX (0, 2, 2) x (2, 2, 0, 12)12 : BIC Calculated =2033804.0098279386\n"
     ]
    },
    {
     "name": "stderr",
     "output_type": "stream",
     "text": [
      "C:\\Users\\Ania\\anaconda3\\lib\\site-packages\\statsmodels\\tsa\\statespace\\sarimax.py:866: UserWarning: Too few observations to estimate starting parameters for seasonal ARMA. All parameters except for variances will be set to zeros.\n",
      "  warn('Too few observations to estimate starting parameters%s.'\n"
     ]
    },
    {
     "name": "stdout",
     "output_type": "stream",
     "text": [
      "SARIMAX (0, 2, 2) x (2, 2, 1, 12)12 : BIC Calculated =4416387.215225141\n"
     ]
    },
    {
     "name": "stderr",
     "output_type": "stream",
     "text": [
      "C:\\Users\\Ania\\anaconda3\\lib\\site-packages\\statsmodels\\tsa\\statespace\\sarimax.py:866: UserWarning: Too few observations to estimate starting parameters for seasonal ARMA. All parameters except for variances will be set to zeros.\n",
      "  warn('Too few observations to estimate starting parameters%s.'\n"
     ]
    },
    {
     "name": "stdout",
     "output_type": "stream",
     "text": [
      "SARIMAX (0, 2, 2) x (2, 2, 2, 12)12 : BIC Calculated =17453323.69752626\n",
      "SARIMAX (1, 0, 0) x (0, 0, 0, 12)12 : BIC Calculated =18727869.09950299\n",
      "SARIMAX (1, 0, 0) x (0, 0, 1, 12)12 : BIC Calculated =18536178.152682126\n"
     ]
    },
    {
     "name": "stderr",
     "output_type": "stream",
     "text": [
      "C:\\Users\\Ania\\anaconda3\\lib\\site-packages\\statsmodels\\tsa\\statespace\\sarimax.py:866: UserWarning: Too few observations to estimate starting parameters for seasonal ARMA. All parameters except for variances will be set to zeros.\n",
      "  warn('Too few observations to estimate starting parameters%s.'\n"
     ]
    },
    {
     "name": "stdout",
     "output_type": "stream",
     "text": [
      "SARIMAX (1, 0, 0) x (0, 0, 2, 12)12 : BIC Calculated =11466937.459124928\n",
      "SARIMAX (1, 0, 0) x (0, 1, 0, 12)12 : BIC Calculated =3376014.2720018267\n",
      "SARIMAX (1, 0, 0) x (0, 1, 1, 12)12 : BIC Calculated =3612644.11357327\n"
     ]
    },
    {
     "name": "stderr",
     "output_type": "stream",
     "text": [
      "C:\\Users\\Ania\\anaconda3\\lib\\site-packages\\statsmodels\\tsa\\statespace\\sarimax.py:866: UserWarning: Too few observations to estimate starting parameters for seasonal ARMA. All parameters except for variances will be set to zeros.\n",
      "  warn('Too few observations to estimate starting parameters%s.'\n"
     ]
    },
    {
     "name": "stdout",
     "output_type": "stream",
     "text": [
      "SARIMAX (1, 0, 0) x (0, 1, 2, 12)12 : BIC Calculated =2889640.3624183103\n",
      "SARIMAX (1, 0, 0) x (0, 2, 0, 12)12 : BIC Calculated =9038637.669751924\n"
     ]
    },
    {
     "name": "stderr",
     "output_type": "stream",
     "text": [
      "C:\\Users\\Ania\\anaconda3\\lib\\site-packages\\statsmodels\\base\\model.py:604: ConvergenceWarning: Maximum Likelihood optimization failed to converge. Check mle_retvals\n",
      "  warnings.warn(\"Maximum Likelihood optimization failed to \"\n",
      "C:\\Users\\Ania\\anaconda3\\lib\\site-packages\\statsmodels\\tsa\\statespace\\sarimax.py:866: UserWarning: Too few observations to estimate starting parameters for seasonal ARMA. All parameters except for variances will be set to zeros.\n",
      "  warn('Too few observations to estimate starting parameters%s.'\n"
     ]
    },
    {
     "name": "stdout",
     "output_type": "stream",
     "text": [
      "SARIMAX (1, 0, 0) x (0, 2, 1, 12)12 : BIC Calculated =9038637.669751905\n",
      "SARIMAX (1, 0, 0) x (0, 2, 2, 12)12 : BIC Calculated =1407166.1974097462\n",
      "SARIMAX (1, 0, 0) x (1, 0, 0, 12)12 : BIC Calculated =2980355.87715009\n",
      "SARIMAX (1, 0, 0) x (1, 0, 1, 12)12 : BIC Calculated =1769021.52119405\n"
     ]
    },
    {
     "name": "stderr",
     "output_type": "stream",
     "text": [
      "C:\\Users\\Ania\\anaconda3\\lib\\site-packages\\statsmodels\\tsa\\statespace\\sarimax.py:866: UserWarning: Too few observations to estimate starting parameters for seasonal ARMA. All parameters except for variances will be set to zeros.\n",
      "  warn('Too few observations to estimate starting parameters%s.'\n"
     ]
    },
    {
     "name": "stdout",
     "output_type": "stream",
     "text": [
      "SARIMAX (1, 0, 0) x (1, 0, 2, 12)12 : BIC Calculated =1228691.4638634357\n",
      "SARIMAX (1, 0, 0) x (1, 1, 0, 12)12 : BIC Calculated =2535698.598377873\n",
      "SARIMAX (1, 0, 0) x (1, 1, 1, 12)12 : BIC Calculated =4201628.452481121\n"
     ]
    },
    {
     "name": "stderr",
     "output_type": "stream",
     "text": [
      "C:\\Users\\Ania\\anaconda3\\lib\\site-packages\\statsmodels\\tsa\\statespace\\sarimax.py:866: UserWarning: Too few observations to estimate starting parameters for seasonal ARMA. All parameters except for variances will be set to zeros.\n",
      "  warn('Too few observations to estimate starting parameters%s.'\n",
      "C:\\Users\\Ania\\anaconda3\\lib\\site-packages\\statsmodels\\base\\model.py:604: ConvergenceWarning: Maximum Likelihood optimization failed to converge. Check mle_retvals\n",
      "  warnings.warn(\"Maximum Likelihood optimization failed to \"\n"
     ]
    },
    {
     "name": "stdout",
     "output_type": "stream",
     "text": [
      "SARIMAX (1, 0, 0) x (1, 1, 2, 12)12 : BIC Calculated =3219339.2528211116\n",
      "SARIMAX (1, 0, 0) x (1, 2, 0, 12)12 : BIC Calculated =4822334.9501041435\n"
     ]
    },
    {
     "name": "stderr",
     "output_type": "stream",
     "text": [
      "C:\\Users\\Ania\\anaconda3\\lib\\site-packages\\statsmodels\\base\\model.py:604: ConvergenceWarning: Maximum Likelihood optimization failed to converge. Check mle_retvals\n",
      "  warnings.warn(\"Maximum Likelihood optimization failed to \"\n",
      "C:\\Users\\Ania\\anaconda3\\lib\\site-packages\\statsmodels\\tsa\\statespace\\sarimax.py:866: UserWarning: Too few observations to estimate starting parameters for seasonal ARMA. All parameters except for variances will be set to zeros.\n",
      "  warn('Too few observations to estimate starting parameters%s.'\n"
     ]
    },
    {
     "name": "stdout",
     "output_type": "stream",
     "text": [
      "SARIMAX (1, 0, 0) x (1, 2, 1, 12)12 : BIC Calculated =4500741.862161339\n",
      "SARIMAX (1, 0, 0) x (1, 2, 2, 12)12 : BIC Calculated =1414916.0014394326\n",
      "SARIMAX (1, 0, 0) x (2, 0, 0, 12)12 : BIC Calculated =1495716.4647684502\n",
      "SARIMAX (1, 0, 0) x (2, 0, 1, 12)12 : BIC Calculated =1332047.6328287828\n"
     ]
    },
    {
     "name": "stderr",
     "output_type": "stream",
     "text": [
      "C:\\Users\\Ania\\anaconda3\\lib\\site-packages\\statsmodels\\tsa\\statespace\\sarimax.py:866: UserWarning: Too few observations to estimate starting parameters for seasonal ARMA. All parameters except for variances will be set to zeros.\n",
      "  warn('Too few observations to estimate starting parameters%s.'\n",
      "C:\\Users\\Ania\\anaconda3\\lib\\site-packages\\statsmodels\\base\\model.py:604: ConvergenceWarning: Maximum Likelihood optimization failed to converge. Check mle_retvals\n",
      "  warnings.warn(\"Maximum Likelihood optimization failed to \"\n"
     ]
    },
    {
     "name": "stdout",
     "output_type": "stream",
     "text": [
      "SARIMAX (1, 0, 0) x (2, 0, 2, 12)12 : BIC Calculated =1477073.595538582\n",
      "SARIMAX (1, 0, 0) x (2, 1, 0, 12)12 : BIC Calculated =2704662.995686985\n",
      "SARIMAX (1, 0, 0) x (2, 1, 1, 12)12 : BIC Calculated =2928740.0837191422\n"
     ]
    },
    {
     "name": "stderr",
     "output_type": "stream",
     "text": [
      "C:\\Users\\Ania\\anaconda3\\lib\\site-packages\\statsmodels\\tsa\\statespace\\sarimax.py:866: UserWarning: Too few observations to estimate starting parameters for seasonal ARMA. All parameters except for variances will be set to zeros.\n",
      "  warn('Too few observations to estimate starting parameters%s.'\n"
     ]
    },
    {
     "name": "stdout",
     "output_type": "stream",
     "text": [
      "SARIMAX (1, 0, 0) x (2, 1, 2, 12)12 : BIC Calculated =4065298.534654273\n",
      "SARIMAX (1, 0, 0) x (2, 2, 0, 12)12 : BIC Calculated =2074149.6393964752\n",
      "SARIMAX (1, 0, 0) x (2, 2, 1, 12)12 : BIC Calculated =1180267.381843779\n"
     ]
    },
    {
     "name": "stderr",
     "output_type": "stream",
     "text": [
      "C:\\Users\\Ania\\anaconda3\\lib\\site-packages\\statsmodels\\tsa\\statespace\\sarimax.py:866: UserWarning: Too few observations to estimate starting parameters for seasonal ARMA. All parameters except for variances will be set to zeros.\n",
      "  warn('Too few observations to estimate starting parameters%s.'\n"
     ]
    },
    {
     "name": "stdout",
     "output_type": "stream",
     "text": [
      "SARIMAX (1, 0, 0) x (2, 2, 2, 12)12 : BIC Calculated =1542822.08955293\n",
      "SARIMAX (1, 0, 1) x (0, 0, 0, 12)12 : BIC Calculated =16782713.07817184\n",
      "SARIMAX (1, 0, 1) x (0, 0, 1, 12)12 : BIC Calculated =15224486.86457814\n"
     ]
    },
    {
     "name": "stderr",
     "output_type": "stream",
     "text": [
      "C:\\Users\\Ania\\anaconda3\\lib\\site-packages\\statsmodels\\base\\model.py:604: ConvergenceWarning: Maximum Likelihood optimization failed to converge. Check mle_retvals\n",
      "  warnings.warn(\"Maximum Likelihood optimization failed to \"\n",
      "C:\\Users\\Ania\\anaconda3\\lib\\site-packages\\statsmodels\\tsa\\statespace\\sarimax.py:866: UserWarning: Too few observations to estimate starting parameters for seasonal ARMA. All parameters except for variances will be set to zeros.\n",
      "  warn('Too few observations to estimate starting parameters%s.'\n"
     ]
    },
    {
     "name": "stdout",
     "output_type": "stream",
     "text": [
      "SARIMAX (1, 0, 1) x (0, 0, 2, 12)12 : BIC Calculated =8219240.146311904\n",
      "SARIMAX (1, 0, 1) x (0, 1, 0, 12)12 : BIC Calculated =2881229.853805215\n",
      "SARIMAX (1, 0, 1) x (0, 1, 1, 12)12 : BIC Calculated =1512473.723144342\n"
     ]
    },
    {
     "name": "stderr",
     "output_type": "stream",
     "text": [
      "C:\\Users\\Ania\\anaconda3\\lib\\site-packages\\statsmodels\\tsa\\statespace\\sarimax.py:866: UserWarning: Too few observations to estimate starting parameters for seasonal ARMA. All parameters except for variances will be set to zeros.\n",
      "  warn('Too few observations to estimate starting parameters%s.'\n"
     ]
    },
    {
     "name": "stdout",
     "output_type": "stream",
     "text": [
      "SARIMAX (1, 0, 1) x (0, 1, 2, 12)12 : BIC Calculated =1661853.689234244\n",
      "SARIMAX (1, 0, 1) x (0, 2, 0, 12)12 : BIC Calculated =9654637.876147913\n",
      "SARIMAX (1, 0, 1) x (0, 2, 1, 12)12 : BIC Calculated =9688948.682041893\n"
     ]
    },
    {
     "name": "stderr",
     "output_type": "stream",
     "text": [
      "C:\\Users\\Ania\\anaconda3\\lib\\site-packages\\statsmodels\\tsa\\statespace\\sarimax.py:866: UserWarning: Too few observations to estimate starting parameters for seasonal ARMA. All parameters except for variances will be set to zeros.\n",
      "  warn('Too few observations to estimate starting parameters%s.'\n"
     ]
    },
    {
     "name": "stdout",
     "output_type": "stream",
     "text": [
      "SARIMAX (1, 0, 1) x (0, 2, 2, 12)12 : BIC Calculated =1526952.690862287\n",
      "SARIMAX (1, 0, 1) x (1, 0, 0, 12)12 : BIC Calculated =3668357.0761807645\n",
      "SARIMAX (1, 0, 1) x (1, 0, 1, 12)12 : BIC Calculated =1332171.340312326\n"
     ]
    },
    {
     "name": "stderr",
     "output_type": "stream",
     "text": [
      "C:\\Users\\Ania\\anaconda3\\lib\\site-packages\\statsmodels\\tsa\\statespace\\sarimax.py:866: UserWarning: Too few observations to estimate starting parameters for seasonal ARMA. All parameters except for variances will be set to zeros.\n",
      "  warn('Too few observations to estimate starting parameters%s.'\n",
      "C:\\Users\\Ania\\anaconda3\\lib\\site-packages\\statsmodels\\base\\model.py:604: ConvergenceWarning: Maximum Likelihood optimization failed to converge. Check mle_retvals\n",
      "  warnings.warn(\"Maximum Likelihood optimization failed to \"\n"
     ]
    },
    {
     "name": "stdout",
     "output_type": "stream",
     "text": [
      "SARIMAX (1, 0, 1) x (1, 0, 2, 12)12 : BIC Calculated =2001684.2071327302\n",
      "SARIMAX (1, 0, 1) x (1, 1, 0, 12)12 : BIC Calculated =1414539.1381647198\n",
      "SARIMAX (1, 0, 1) x (1, 1, 1, 12)12 : BIC Calculated =1483410.616149158\n"
     ]
    },
    {
     "name": "stderr",
     "output_type": "stream",
     "text": [
      "C:\\Users\\Ania\\anaconda3\\lib\\site-packages\\statsmodels\\tsa\\statespace\\sarimax.py:866: UserWarning: Too few observations to estimate starting parameters for seasonal ARMA. All parameters except for variances will be set to zeros.\n",
      "  warn('Too few observations to estimate starting parameters%s.'\n",
      "C:\\Users\\Ania\\anaconda3\\lib\\site-packages\\statsmodels\\base\\model.py:604: ConvergenceWarning: Maximum Likelihood optimization failed to converge. Check mle_retvals\n",
      "  warnings.warn(\"Maximum Likelihood optimization failed to \"\n"
     ]
    },
    {
     "name": "stdout",
     "output_type": "stream",
     "text": [
      "SARIMAX (1, 0, 1) x (1, 1, 2, 12)12 : BIC Calculated =1627422.535508767\n",
      "SARIMAX (1, 0, 1) x (1, 2, 0, 12)12 : BIC Calculated =4943827.115231102\n"
     ]
    },
    {
     "name": "stderr",
     "output_type": "stream",
     "text": [
      "C:\\Users\\Ania\\anaconda3\\lib\\site-packages\\statsmodels\\base\\model.py:604: ConvergenceWarning: Maximum Likelihood optimization failed to converge. Check mle_retvals\n",
      "  warnings.warn(\"Maximum Likelihood optimization failed to \"\n",
      "C:\\Users\\Ania\\anaconda3\\lib\\site-packages\\statsmodels\\tsa\\statespace\\sarimax.py:866: UserWarning: Too few observations to estimate starting parameters for seasonal ARMA. All parameters except for variances will be set to zeros.\n",
      "  warn('Too few observations to estimate starting parameters%s.'\n"
     ]
    },
    {
     "name": "stdout",
     "output_type": "stream",
     "text": [
      "SARIMAX (1, 0, 1) x (1, 2, 1, 12)12 : BIC Calculated =4518593.596980638\n",
      "SARIMAX (1, 0, 1) x (1, 2, 2, 12)12 : BIC Calculated =1539924.3994423193\n",
      "SARIMAX (1, 0, 1) x (2, 0, 0, 12)12 : BIC Calculated =1503970.662861729\n"
     ]
    },
    {
     "name": "stderr",
     "output_type": "stream",
     "text": [
      "C:\\Users\\Ania\\anaconda3\\lib\\site-packages\\statsmodels\\base\\model.py:604: ConvergenceWarning: Maximum Likelihood optimization failed to converge. Check mle_retvals\n",
      "  warnings.warn(\"Maximum Likelihood optimization failed to \"\n",
      "C:\\Users\\Ania\\anaconda3\\lib\\site-packages\\statsmodels\\tsa\\statespace\\sarimax.py:866: UserWarning: Too few observations to estimate starting parameters for seasonal ARMA. All parameters except for variances will be set to zeros.\n",
      "  warn('Too few observations to estimate starting parameters%s.'\n"
     ]
    },
    {
     "name": "stdout",
     "output_type": "stream",
     "text": [
      "SARIMAX (1, 0, 1) x (2, 0, 1, 12)12 : BIC Calculated =1420640.9484496696\n"
     ]
    },
    {
     "name": "stderr",
     "output_type": "stream",
     "text": [
      "C:\\Users\\Ania\\anaconda3\\lib\\site-packages\\statsmodels\\base\\model.py:604: ConvergenceWarning: Maximum Likelihood optimization failed to converge. Check mle_retvals\n",
      "  warnings.warn(\"Maximum Likelihood optimization failed to \"\n"
     ]
    },
    {
     "name": "stdout",
     "output_type": "stream",
     "text": [
      "SARIMAX (1, 0, 1) x (2, 0, 2, 12)12 : BIC Calculated =1694272.0956388928\n",
      "SARIMAX (1, 0, 1) x (2, 1, 0, 12)12 : BIC Calculated =1327751.3943152726\n",
      "SARIMAX (1, 0, 1) x (2, 1, 1, 12)12 : BIC Calculated =1306081.5721357742\n"
     ]
    },
    {
     "name": "stderr",
     "output_type": "stream",
     "text": [
      "C:\\Users\\Ania\\anaconda3\\lib\\site-packages\\statsmodels\\tsa\\statespace\\sarimax.py:866: UserWarning: Too few observations to estimate starting parameters for seasonal ARMA. All parameters except for variances will be set to zeros.\n",
      "  warn('Too few observations to estimate starting parameters%s.'\n",
      "C:\\Users\\Ania\\anaconda3\\lib\\site-packages\\statsmodels\\base\\model.py:604: ConvergenceWarning: Maximum Likelihood optimization failed to converge. Check mle_retvals\n",
      "  warnings.warn(\"Maximum Likelihood optimization failed to \"\n"
     ]
    },
    {
     "name": "stdout",
     "output_type": "stream",
     "text": [
      "SARIMAX (1, 0, 1) x (2, 1, 2, 12)12 : BIC Calculated =2797598.4167409325\n",
      "SARIMAX (1, 0, 1) x (2, 2, 0, 12)12 : BIC Calculated =2218737.2360490235\n",
      "SARIMAX (1, 0, 1) x (2, 2, 1, 12)12 : BIC Calculated =1463757.0839291867\n"
     ]
    },
    {
     "name": "stderr",
     "output_type": "stream",
     "text": [
      "C:\\Users\\Ania\\anaconda3\\lib\\site-packages\\statsmodels\\tsa\\statespace\\sarimax.py:866: UserWarning: Too few observations to estimate starting parameters for seasonal ARMA. All parameters except for variances will be set to zeros.\n",
      "  warn('Too few observations to estimate starting parameters%s.'\n"
     ]
    },
    {
     "name": "stdout",
     "output_type": "stream",
     "text": [
      "SARIMAX (1, 0, 1) x (2, 2, 2, 12)12 : BIC Calculated =1415588.525723923\n",
      "SARIMAX (1, 0, 2) x (0, 0, 0, 12)12 : BIC Calculated =18797813.258406475\n",
      "SARIMAX (1, 0, 2) x (0, 0, 1, 12)12 : BIC Calculated =15531760.496881805\n"
     ]
    },
    {
     "name": "stderr",
     "output_type": "stream",
     "text": [
      "C:\\Users\\Ania\\anaconda3\\lib\\site-packages\\statsmodels\\tsa\\statespace\\sarimax.py:866: UserWarning: Too few observations to estimate starting parameters for seasonal ARMA. All parameters except for variances will be set to zeros.\n",
      "  warn('Too few observations to estimate starting parameters%s.'\n",
      "C:\\Users\\Ania\\anaconda3\\lib\\site-packages\\statsmodels\\base\\model.py:604: ConvergenceWarning: Maximum Likelihood optimization failed to converge. Check mle_retvals\n",
      "  warnings.warn(\"Maximum Likelihood optimization failed to \"\n"
     ]
    },
    {
     "name": "stdout",
     "output_type": "stream",
     "text": [
      "SARIMAX (1, 0, 2) x (0, 0, 2, 12)12 : BIC Calculated =3457830.509023687\n",
      "SARIMAX (1, 0, 2) x (0, 1, 0, 12)12 : BIC Calculated =2878563.10429835\n",
      "SARIMAX (1, 0, 2) x (0, 1, 1, 12)12 : BIC Calculated =1362263.9073753422\n"
     ]
    },
    {
     "name": "stderr",
     "output_type": "stream",
     "text": [
      "C:\\Users\\Ania\\anaconda3\\lib\\site-packages\\statsmodels\\tsa\\statespace\\sarimax.py:866: UserWarning: Too few observations to estimate starting parameters for seasonal ARMA. All parameters except for variances will be set to zeros.\n",
      "  warn('Too few observations to estimate starting parameters%s.'\n",
      "C:\\Users\\Ania\\anaconda3\\lib\\site-packages\\statsmodels\\base\\model.py:604: ConvergenceWarning: Maximum Likelihood optimization failed to converge. Check mle_retvals\n",
      "  warnings.warn(\"Maximum Likelihood optimization failed to \"\n"
     ]
    },
    {
     "name": "stdout",
     "output_type": "stream",
     "text": [
      "SARIMAX (1, 0, 2) x (0, 1, 2, 12)12 : BIC Calculated =1627830.1456514294\n",
      "SARIMAX (1, 0, 2) x (0, 2, 0, 12)12 : BIC Calculated =9762467.545701439\n"
     ]
    },
    {
     "name": "stderr",
     "output_type": "stream",
     "text": [
      "C:\\Users\\Ania\\anaconda3\\lib\\site-packages\\statsmodels\\base\\model.py:604: ConvergenceWarning: Maximum Likelihood optimization failed to converge. Check mle_retvals\n",
      "  warnings.warn(\"Maximum Likelihood optimization failed to \"\n",
      "C:\\Users\\Ania\\anaconda3\\lib\\site-packages\\statsmodels\\tsa\\statespace\\sarimax.py:866: UserWarning: Too few observations to estimate starting parameters for seasonal ARMA. All parameters except for variances will be set to zeros.\n",
      "  warn('Too few observations to estimate starting parameters%s.'\n"
     ]
    },
    {
     "name": "stdout",
     "output_type": "stream",
     "text": [
      "SARIMAX (1, 0, 2) x (0, 2, 1, 12)12 : BIC Calculated =9824343.100228053\n"
     ]
    },
    {
     "name": "stderr",
     "output_type": "stream",
     "text": [
      "C:\\Users\\Ania\\anaconda3\\lib\\site-packages\\statsmodels\\base\\model.py:604: ConvergenceWarning: Maximum Likelihood optimization failed to converge. Check mle_retvals\n",
      "  warnings.warn(\"Maximum Likelihood optimization failed to \"\n"
     ]
    },
    {
     "name": "stdout",
     "output_type": "stream",
     "text": [
      "SARIMAX (1, 0, 2) x (0, 2, 2, 12)12 : BIC Calculated =1902052.257994637\n",
      "SARIMAX (1, 0, 2) x (1, 0, 0, 12)12 : BIC Calculated =3343988.0098670325\n"
     ]
    },
    {
     "name": "stderr",
     "output_type": "stream",
     "text": [
      "C:\\Users\\Ania\\anaconda3\\lib\\site-packages\\statsmodels\\base\\model.py:604: ConvergenceWarning: Maximum Likelihood optimization failed to converge. Check mle_retvals\n",
      "  warnings.warn(\"Maximum Likelihood optimization failed to \"\n",
      "C:\\Users\\Ania\\anaconda3\\lib\\site-packages\\statsmodels\\tsa\\statespace\\sarimax.py:866: UserWarning: Too few observations to estimate starting parameters for seasonal ARMA. All parameters except for variances will be set to zeros.\n",
      "  warn('Too few observations to estimate starting parameters%s.'\n"
     ]
    },
    {
     "name": "stdout",
     "output_type": "stream",
     "text": [
      "SARIMAX (1, 0, 2) x (1, 0, 1, 12)12 : BIC Calculated =1348166.7611894808\n"
     ]
    },
    {
     "name": "stderr",
     "output_type": "stream",
     "text": [
      "C:\\Users\\Ania\\anaconda3\\lib\\site-packages\\statsmodels\\base\\model.py:604: ConvergenceWarning: Maximum Likelihood optimization failed to converge. Check mle_retvals\n",
      "  warnings.warn(\"Maximum Likelihood optimization failed to \"\n"
     ]
    },
    {
     "name": "stdout",
     "output_type": "stream",
     "text": [
      "SARIMAX (1, 0, 2) x (1, 0, 2, 12)12 : BIC Calculated =1965722.663601616\n",
      "SARIMAX (1, 0, 2) x (1, 1, 0, 12)12 : BIC Calculated =1424436.3781645214\n",
      "SARIMAX (1, 0, 2) x (1, 1, 1, 12)12 : BIC Calculated =1210820.4700696848\n"
     ]
    },
    {
     "name": "stderr",
     "output_type": "stream",
     "text": [
      "C:\\Users\\Ania\\anaconda3\\lib\\site-packages\\statsmodels\\tsa\\statespace\\sarimax.py:866: UserWarning: Too few observations to estimate starting parameters for seasonal ARMA. All parameters except for variances will be set to zeros.\n",
      "  warn('Too few observations to estimate starting parameters%s.'\n",
      "C:\\Users\\Ania\\anaconda3\\lib\\site-packages\\statsmodels\\base\\model.py:604: ConvergenceWarning: Maximum Likelihood optimization failed to converge. Check mle_retvals\n",
      "  warnings.warn(\"Maximum Likelihood optimization failed to \"\n"
     ]
    },
    {
     "name": "stdout",
     "output_type": "stream",
     "text": [
      "SARIMAX (1, 0, 2) x (1, 1, 2, 12)12 : BIC Calculated =1834732.132834994\n",
      "SARIMAX (1, 0, 2) x (1, 2, 0, 12)12 : BIC Calculated =5365015.866958657\n",
      "SARIMAX (1, 0, 2) x (1, 2, 1, 12)12 : BIC Calculated =4714924.625984687\n"
     ]
    },
    {
     "name": "stderr",
     "output_type": "stream",
     "text": [
      "C:\\Users\\Ania\\anaconda3\\lib\\site-packages\\statsmodels\\tsa\\statespace\\sarimax.py:866: UserWarning: Too few observations to estimate starting parameters for seasonal ARMA. All parameters except for variances will be set to zeros.\n",
      "  warn('Too few observations to estimate starting parameters%s.'\n",
      "C:\\Users\\Ania\\anaconda3\\lib\\site-packages\\statsmodels\\base\\model.py:604: ConvergenceWarning: Maximum Likelihood optimization failed to converge. Check mle_retvals\n",
      "  warnings.warn(\"Maximum Likelihood optimization failed to \"\n"
     ]
    },
    {
     "name": "stdout",
     "output_type": "stream",
     "text": [
      "SARIMAX (1, 0, 2) x (1, 2, 2, 12)12 : BIC Calculated =1464505.9701613744\n"
     ]
    },
    {
     "name": "stderr",
     "output_type": "stream",
     "text": [
      "C:\\Users\\Ania\\anaconda3\\lib\\site-packages\\statsmodels\\base\\model.py:604: ConvergenceWarning: Maximum Likelihood optimization failed to converge. Check mle_retvals\n",
      "  warnings.warn(\"Maximum Likelihood optimization failed to \"\n"
     ]
    },
    {
     "name": "stdout",
     "output_type": "stream",
     "text": [
      "SARIMAX (1, 0, 2) x (2, 0, 0, 12)12 : BIC Calculated =1796098.4623000603\n"
     ]
    },
    {
     "name": "stderr",
     "output_type": "stream",
     "text": [
      "C:\\Users\\Ania\\anaconda3\\lib\\site-packages\\statsmodels\\base\\model.py:604: ConvergenceWarning: Maximum Likelihood optimization failed to converge. Check mle_retvals\n",
      "  warnings.warn(\"Maximum Likelihood optimization failed to \"\n",
      "C:\\Users\\Ania\\anaconda3\\lib\\site-packages\\statsmodels\\tsa\\statespace\\sarimax.py:866: UserWarning: Too few observations to estimate starting parameters for seasonal ARMA. All parameters except for variances will be set to zeros.\n",
      "  warn('Too few observations to estimate starting parameters%s.'\n"
     ]
    },
    {
     "name": "stdout",
     "output_type": "stream",
     "text": [
      "SARIMAX (1, 0, 2) x (2, 0, 1, 12)12 : BIC Calculated =1328274.0211944098\n"
     ]
    },
    {
     "name": "stderr",
     "output_type": "stream",
     "text": [
      "C:\\Users\\Ania\\anaconda3\\lib\\site-packages\\statsmodels\\base\\model.py:604: ConvergenceWarning: Maximum Likelihood optimization failed to converge. Check mle_retvals\n",
      "  warnings.warn(\"Maximum Likelihood optimization failed to \"\n"
     ]
    },
    {
     "name": "stdout",
     "output_type": "stream",
     "text": [
      "SARIMAX (1, 0, 2) x (2, 0, 2, 12)12 : BIC Calculated =1185916.5219531108\n",
      "SARIMAX (1, 0, 2) x (2, 1, 0, 12)12 : BIC Calculated =1328822.5234219213\n",
      "SARIMAX (1, 0, 2) x (2, 1, 1, 12)12 : BIC Calculated =1485534.8016418598\n"
     ]
    },
    {
     "name": "stderr",
     "output_type": "stream",
     "text": [
      "C:\\Users\\Ania\\anaconda3\\lib\\site-packages\\statsmodels\\tsa\\statespace\\sarimax.py:866: UserWarning: Too few observations to estimate starting parameters for seasonal ARMA. All parameters except for variances will be set to zeros.\n",
      "  warn('Too few observations to estimate starting parameters%s.'\n"
     ]
    },
    {
     "name": "stdout",
     "output_type": "stream",
     "text": [
      "SARIMAX (1, 0, 2) x (2, 1, 2, 12)12 : BIC Calculated =2403584.5416392656\n",
      "SARIMAX (1, 0, 2) x (2, 2, 0, 12)12 : BIC Calculated =2048333.0900702407\n"
     ]
    },
    {
     "name": "stderr",
     "output_type": "stream",
     "text": [
      "C:\\Users\\Ania\\anaconda3\\lib\\site-packages\\statsmodels\\base\\model.py:604: ConvergenceWarning: Maximum Likelihood optimization failed to converge. Check mle_retvals\n",
      "  warnings.warn(\"Maximum Likelihood optimization failed to \"\n",
      "C:\\Users\\Ania\\anaconda3\\lib\\site-packages\\statsmodels\\tsa\\statespace\\sarimax.py:866: UserWarning: Too few observations to estimate starting parameters for seasonal ARMA. All parameters except for variances will be set to zeros.\n",
      "  warn('Too few observations to estimate starting parameters%s.'\n"
     ]
    },
    {
     "name": "stdout",
     "output_type": "stream",
     "text": [
      "SARIMAX (1, 0, 2) x (2, 2, 1, 12)12 : BIC Calculated =1352630.3183974666\n"
     ]
    },
    {
     "name": "stderr",
     "output_type": "stream",
     "text": [
      "C:\\Users\\Ania\\anaconda3\\lib\\site-packages\\statsmodels\\base\\model.py:604: ConvergenceWarning: Maximum Likelihood optimization failed to converge. Check mle_retvals\n",
      "  warnings.warn(\"Maximum Likelihood optimization failed to \"\n",
      "C:\\Users\\Ania\\anaconda3\\lib\\site-packages\\statsmodels\\tsa\\statespace\\sarimax.py:866: UserWarning: Too few observations to estimate starting parameters for seasonal ARMA. All parameters except for variances will be set to zeros.\n",
      "  warn('Too few observations to estimate starting parameters%s.'\n"
     ]
    },
    {
     "name": "stdout",
     "output_type": "stream",
     "text": [
      "SARIMAX (1, 0, 2) x (2, 2, 2, 12)12 : BIC Calculated =1329487.5978757162\n",
      "SARIMAX (1, 1, 0) x (0, 0, 0, 12)12 : BIC Calculated =9749929.37363322\n",
      "SARIMAX (1, 1, 0) x (0, 0, 1, 12)12 : BIC Calculated =9574684.378569169\n",
      "SARIMAX (1, 1, 0) x (0, 0, 2, 12)12 : BIC Calculated =4708786.815629016\n",
      "SARIMAX (1, 1, 0) x (0, 1, 0, 12)12 : BIC Calculated =2228801.814855971\n",
      "SARIMAX (1, 1, 0) x (0, 1, 1, 12)12 : BIC Calculated =1321205.3580374704\n"
     ]
    },
    {
     "name": "stderr",
     "output_type": "stream",
     "text": [
      "C:\\Users\\Ania\\anaconda3\\lib\\site-packages\\statsmodels\\tsa\\statespace\\sarimax.py:866: UserWarning: Too few observations to estimate starting parameters for seasonal ARMA. All parameters except for variances will be set to zeros.\n",
      "  warn('Too few observations to estimate starting parameters%s.'\n"
     ]
    },
    {
     "name": "stdout",
     "output_type": "stream",
     "text": [
      "SARIMAX (1, 1, 0) x (0, 1, 2, 12)12 : BIC Calculated =1249646.568333064\n",
      "SARIMAX (1, 1, 0) x (0, 2, 0, 12)12 : BIC Calculated =11411978.0716239\n",
      "SARIMAX (1, 1, 0) x (0, 2, 1, 12)12 : BIC Calculated =2966622.228884385\n"
     ]
    },
    {
     "name": "stderr",
     "output_type": "stream",
     "text": [
      "C:\\Users\\Ania\\anaconda3\\lib\\site-packages\\statsmodels\\tsa\\statespace\\sarimax.py:866: UserWarning: Too few observations to estimate starting parameters for seasonal ARMA. All parameters except for variances will be set to zeros.\n",
      "  warn('Too few observations to estimate starting parameters%s.'\n"
     ]
    },
    {
     "name": "stdout",
     "output_type": "stream",
     "text": [
      "SARIMAX (1, 1, 0) x (0, 2, 2, 12)12 : BIC Calculated =3108873.8815429113\n",
      "SARIMAX (1, 1, 0) x (1, 0, 0, 12)12 : BIC Calculated =2842464.087917211\n",
      "SARIMAX (1, 1, 0) x (1, 0, 1, 12)12 : BIC Calculated =1563219.98592024\n"
     ]
    },
    {
     "name": "stderr",
     "output_type": "stream",
     "text": [
      "C:\\Users\\Ania\\anaconda3\\lib\\site-packages\\statsmodels\\tsa\\statespace\\sarimax.py:866: UserWarning: Too few observations to estimate starting parameters for seasonal ARMA. All parameters except for variances will be set to zeros.\n",
      "  warn('Too few observations to estimate starting parameters%s.'\n"
     ]
    },
    {
     "name": "stdout",
     "output_type": "stream",
     "text": [
      "SARIMAX (1, 1, 0) x (1, 0, 2, 12)12 : BIC Calculated =1251020.1381454072\n",
      "SARIMAX (1, 1, 0) x (1, 1, 0, 12)12 : BIC Calculated =1641142.7846201034\n",
      "SARIMAX (1, 1, 0) x (1, 1, 1, 12)12 : BIC Calculated =1333569.7889650601\n"
     ]
    },
    {
     "name": "stderr",
     "output_type": "stream",
     "text": [
      "C:\\Users\\Ania\\anaconda3\\lib\\site-packages\\statsmodels\\tsa\\statespace\\sarimax.py:866: UserWarning: Too few observations to estimate starting parameters for seasonal ARMA. All parameters except for variances will be set to zeros.\n",
      "  warn('Too few observations to estimate starting parameters%s.'\n"
     ]
    },
    {
     "name": "stdout",
     "output_type": "stream",
     "text": [
      "SARIMAX (1, 1, 0) x (1, 1, 2, 12)12 : BIC Calculated =1363300.0635336556\n",
      "SARIMAX (1, 1, 0) x (1, 2, 0, 12)12 : BIC Calculated =5543200.776557141\n",
      "SARIMAX (1, 1, 0) x (1, 2, 1, 12)12 : BIC Calculated =2696247.2116422784\n"
     ]
    },
    {
     "name": "stderr",
     "output_type": "stream",
     "text": [
      "C:\\Users\\Ania\\anaconda3\\lib\\site-packages\\statsmodels\\tsa\\statespace\\sarimax.py:866: UserWarning: Too few observations to estimate starting parameters for seasonal ARMA. All parameters except for variances will be set to zeros.\n",
      "  warn('Too few observations to estimate starting parameters%s.'\n"
     ]
    },
    {
     "name": "stdout",
     "output_type": "stream",
     "text": [
      "SARIMAX (1, 1, 0) x (1, 2, 2, 12)12 : BIC Calculated =3685207.5968222944\n",
      "SARIMAX (1, 1, 0) x (2, 0, 0, 12)12 : BIC Calculated =1565979.3926796666\n",
      "SARIMAX (1, 1, 0) x (2, 0, 1, 12)12 : BIC Calculated =1299483.0305474154\n"
     ]
    },
    {
     "name": "stderr",
     "output_type": "stream",
     "text": [
      "C:\\Users\\Ania\\anaconda3\\lib\\site-packages\\statsmodels\\tsa\\statespace\\sarimax.py:866: UserWarning: Too few observations to estimate starting parameters for seasonal ARMA. All parameters except for variances will be set to zeros.\n",
      "  warn('Too few observations to estimate starting parameters%s.'\n"
     ]
    },
    {
     "name": "stdout",
     "output_type": "stream",
     "text": [
      "SARIMAX (1, 1, 0) x (2, 0, 2, 12)12 : BIC Calculated =1473560.144121491\n",
      "SARIMAX (1, 1, 0) x (2, 1, 0, 12)12 : BIC Calculated =1162647.9419715125\n",
      "SARIMAX (1, 1, 0) x (2, 1, 1, 12)12 : BIC Calculated =1564992.4824058823\n"
     ]
    },
    {
     "name": "stderr",
     "output_type": "stream",
     "text": [
      "C:\\Users\\Ania\\anaconda3\\lib\\site-packages\\statsmodels\\tsa\\statespace\\sarimax.py:866: UserWarning: Too few observations to estimate starting parameters for seasonal ARMA. All parameters except for variances will be set to zeros.\n",
      "  warn('Too few observations to estimate starting parameters%s.'\n"
     ]
    },
    {
     "name": "stdout",
     "output_type": "stream",
     "text": [
      "SARIMAX (1, 1, 0) x (2, 1, 2, 12)12 : BIC Calculated =1621090.6030319796\n",
      "SARIMAX (1, 1, 0) x (2, 2, 0, 12)12 : BIC Calculated =1925732.322328945\n",
      "SARIMAX (1, 1, 0) x (2, 2, 1, 12)12 : BIC Calculated =1614289.7961902171\n"
     ]
    },
    {
     "name": "stderr",
     "output_type": "stream",
     "text": [
      "C:\\Users\\Ania\\anaconda3\\lib\\site-packages\\statsmodels\\tsa\\statespace\\sarimax.py:866: UserWarning: Too few observations to estimate starting parameters for seasonal ARMA. All parameters except for variances will be set to zeros.\n",
      "  warn('Too few observations to estimate starting parameters%s.'\n"
     ]
    },
    {
     "name": "stdout",
     "output_type": "stream",
     "text": [
      "SARIMAX (1, 1, 0) x (2, 2, 2, 12)12 : BIC Calculated =2538553.1668820023\n",
      "SARIMAX (1, 1, 1) x (0, 0, 0, 12)12 : BIC Calculated =9630497.348926995\n",
      "SARIMAX (1, 1, 1) x (0, 0, 1, 12)12 : BIC Calculated =7814814.002772793\n"
     ]
    },
    {
     "name": "stderr",
     "output_type": "stream",
     "text": [
      "C:\\Users\\Ania\\anaconda3\\lib\\site-packages\\statsmodels\\tsa\\statespace\\sarimax.py:866: UserWarning: Too few observations to estimate starting parameters for seasonal ARMA. All parameters except for variances will be set to zeros.\n",
      "  warn('Too few observations to estimate starting parameters%s.'\n"
     ]
    },
    {
     "name": "stdout",
     "output_type": "stream",
     "text": [
      "SARIMAX (1, 1, 1) x (0, 0, 2, 12)12 : BIC Calculated =5812202.198948821\n",
      "SARIMAX (1, 1, 1) x (0, 1, 0, 12)12 : BIC Calculated =2264391.881490122\n",
      "SARIMAX (1, 1, 1) x (0, 1, 1, 12)12 : BIC Calculated =1316426.6886602766\n"
     ]
    },
    {
     "name": "stderr",
     "output_type": "stream",
     "text": [
      "C:\\Users\\Ania\\anaconda3\\lib\\site-packages\\statsmodels\\tsa\\statespace\\sarimax.py:866: UserWarning: Too few observations to estimate starting parameters for seasonal ARMA. All parameters except for variances will be set to zeros.\n",
      "  warn('Too few observations to estimate starting parameters%s.'\n"
     ]
    },
    {
     "name": "stdout",
     "output_type": "stream",
     "text": [
      "SARIMAX (1, 1, 1) x (0, 1, 2, 12)12 : BIC Calculated =1195446.9663028119\n",
      "SARIMAX (1, 1, 1) x (0, 2, 0, 12)12 : BIC Calculated =10470446.839145472\n",
      "SARIMAX (1, 1, 1) x (0, 2, 1, 12)12 : BIC Calculated =2511482.7759652575\n"
     ]
    },
    {
     "name": "stderr",
     "output_type": "stream",
     "text": [
      "C:\\Users\\Ania\\anaconda3\\lib\\site-packages\\statsmodels\\tsa\\statespace\\sarimax.py:866: UserWarning: Too few observations to estimate starting parameters for seasonal ARMA. All parameters except for variances will be set to zeros.\n",
      "  warn('Too few observations to estimate starting parameters%s.'\n"
     ]
    },
    {
     "name": "stdout",
     "output_type": "stream",
     "text": [
      "SARIMAX (1, 1, 1) x (0, 2, 2, 12)12 : BIC Calculated =1595788.006915804\n",
      "SARIMAX (1, 1, 1) x (1, 0, 0, 12)12 : BIC Calculated =3156831.457693495\n",
      "SARIMAX (1, 1, 1) x (1, 0, 1, 12)12 : BIC Calculated =1184252.2648713985\n"
     ]
    },
    {
     "name": "stderr",
     "output_type": "stream",
     "text": [
      "C:\\Users\\Ania\\anaconda3\\lib\\site-packages\\statsmodels\\tsa\\statespace\\sarimax.py:866: UserWarning: Too few observations to estimate starting parameters for seasonal ARMA. All parameters except for variances will be set to zeros.\n",
      "  warn('Too few observations to estimate starting parameters%s.'\n"
     ]
    },
    {
     "name": "stdout",
     "output_type": "stream",
     "text": [
      "SARIMAX (1, 1, 1) x (1, 0, 2, 12)12 : BIC Calculated =1160244.886651355\n",
      "SARIMAX (1, 1, 1) x (1, 1, 0, 12)12 : BIC Calculated =1393162.6626823668\n",
      "SARIMAX (1, 1, 1) x (1, 1, 1, 12)12 : BIC Calculated =1278021.4623097712\n"
     ]
    },
    {
     "name": "stderr",
     "output_type": "stream",
     "text": [
      "C:\\Users\\Ania\\anaconda3\\lib\\site-packages\\statsmodels\\tsa\\statespace\\sarimax.py:866: UserWarning: Too few observations to estimate starting parameters for seasonal ARMA. All parameters except for variances will be set to zeros.\n",
      "  warn('Too few observations to estimate starting parameters%s.'\n"
     ]
    },
    {
     "name": "stdout",
     "output_type": "stream",
     "text": [
      "SARIMAX (1, 1, 1) x (1, 1, 2, 12)12 : BIC Calculated =1259429.2374212123\n",
      "SARIMAX (1, 1, 1) x (1, 2, 0, 12)12 : BIC Calculated =4870499.084759143\n",
      "SARIMAX (1, 1, 1) x (1, 2, 1, 12)12 : BIC Calculated =1549333.8539357185\n"
     ]
    },
    {
     "name": "stderr",
     "output_type": "stream",
     "text": [
      "C:\\Users\\Ania\\anaconda3\\lib\\site-packages\\statsmodels\\tsa\\statespace\\sarimax.py:866: UserWarning: Too few observations to estimate starting parameters for seasonal ARMA. All parameters except for variances will be set to zeros.\n",
      "  warn('Too few observations to estimate starting parameters%s.'\n"
     ]
    },
    {
     "name": "stdout",
     "output_type": "stream",
     "text": [
      "SARIMAX (1, 1, 1) x (1, 2, 2, 12)12 : BIC Calculated =1423593.8968222886\n",
      "SARIMAX (1, 1, 1) x (2, 0, 0, 12)12 : BIC Calculated =1575904.3743789892\n"
     ]
    },
    {
     "name": "stderr",
     "output_type": "stream",
     "text": [
      "C:\\Users\\Ania\\anaconda3\\lib\\site-packages\\statsmodels\\base\\model.py:604: ConvergenceWarning: Maximum Likelihood optimization failed to converge. Check mle_retvals\n",
      "  warnings.warn(\"Maximum Likelihood optimization failed to \"\n",
      "C:\\Users\\Ania\\anaconda3\\lib\\site-packages\\statsmodels\\tsa\\statespace\\sarimax.py:866: UserWarning: Too few observations to estimate starting parameters for seasonal ARMA. All parameters except for variances will be set to zeros.\n",
      "  warn('Too few observations to estimate starting parameters%s.'\n"
     ]
    },
    {
     "name": "stdout",
     "output_type": "stream",
     "text": [
      "SARIMAX (1, 1, 1) x (2, 0, 1, 12)12 : BIC Calculated =1169136.2305507665\n"
     ]
    },
    {
     "name": "stderr",
     "output_type": "stream",
     "text": [
      "C:\\Users\\Ania\\anaconda3\\lib\\site-packages\\statsmodels\\base\\model.py:604: ConvergenceWarning: Maximum Likelihood optimization failed to converge. Check mle_retvals\n",
      "  warnings.warn(\"Maximum Likelihood optimization failed to \"\n"
     ]
    },
    {
     "name": "stdout",
     "output_type": "stream",
     "text": [
      "SARIMAX (1, 1, 1) x (2, 0, 2, 12)12 : BIC Calculated =1190114.9547972947\n",
      "SARIMAX (1, 1, 1) x (2, 1, 0, 12)12 : BIC Calculated =1170421.6241459812\n",
      "SARIMAX (1, 1, 1) x (2, 1, 1, 12)12 : BIC Calculated =1817974.3223517872\n"
     ]
    },
    {
     "name": "stderr",
     "output_type": "stream",
     "text": [
      "C:\\Users\\Ania\\anaconda3\\lib\\site-packages\\statsmodels\\tsa\\statespace\\sarimax.py:866: UserWarning: Too few observations to estimate starting parameters for seasonal ARMA. All parameters except for variances will be set to zeros.\n",
      "  warn('Too few observations to estimate starting parameters%s.'\n",
      "C:\\Users\\Ania\\anaconda3\\lib\\site-packages\\statsmodels\\base\\model.py:604: ConvergenceWarning: Maximum Likelihood optimization failed to converge. Check mle_retvals\n",
      "  warnings.warn(\"Maximum Likelihood optimization failed to \"\n"
     ]
    },
    {
     "name": "stdout",
     "output_type": "stream",
     "text": [
      "SARIMAX (1, 1, 1) x (2, 1, 2, 12)12 : BIC Calculated =2215031.9823851953\n",
      "SARIMAX (1, 1, 1) x (2, 2, 0, 12)12 : BIC Calculated =1780333.5267109629\n",
      "SARIMAX (1, 1, 1) x (2, 2, 1, 12)12 : BIC Calculated =1328810.4059866774\n"
     ]
    },
    {
     "name": "stderr",
     "output_type": "stream",
     "text": [
      "C:\\Users\\Ania\\anaconda3\\lib\\site-packages\\statsmodels\\tsa\\statespace\\sarimax.py:866: UserWarning: Too few observations to estimate starting parameters for seasonal ARMA. All parameters except for variances will be set to zeros.\n",
      "  warn('Too few observations to estimate starting parameters%s.'\n"
     ]
    },
    {
     "name": "stdout",
     "output_type": "stream",
     "text": [
      "SARIMAX (1, 1, 1) x (2, 2, 2, 12)12 : BIC Calculated =1262581.246314723\n",
      "SARIMAX (1, 1, 2) x (0, 0, 0, 12)12 : BIC Calculated =9175892.535851015\n",
      "SARIMAX (1, 1, 2) x (0, 0, 1, 12)12 : BIC Calculated =9202064.522718685\n"
     ]
    },
    {
     "name": "stderr",
     "output_type": "stream",
     "text": [
      "C:\\Users\\Ania\\anaconda3\\lib\\site-packages\\statsmodels\\tsa\\statespace\\sarimax.py:866: UserWarning: Too few observations to estimate starting parameters for seasonal ARMA. All parameters except for variances will be set to zeros.\n",
      "  warn('Too few observations to estimate starting parameters%s.'\n"
     ]
    },
    {
     "name": "stdout",
     "output_type": "stream",
     "text": [
      "SARIMAX (1, 1, 2) x (0, 0, 2, 12)12 : BIC Calculated =5002588.107284939\n",
      "SARIMAX (1, 1, 2) x (0, 1, 0, 12)12 : BIC Calculated =2283446.328559863\n",
      "SARIMAX (1, 1, 2) x (0, 1, 1, 12)12 : BIC Calculated =1288291.9952225527\n"
     ]
    },
    {
     "name": "stderr",
     "output_type": "stream",
     "text": [
      "C:\\Users\\Ania\\anaconda3\\lib\\site-packages\\statsmodels\\tsa\\statespace\\sarimax.py:866: UserWarning: Too few observations to estimate starting parameters for seasonal ARMA. All parameters except for variances will be set to zeros.\n",
      "  warn('Too few observations to estimate starting parameters%s.'\n",
      "C:\\Users\\Ania\\anaconda3\\lib\\site-packages\\statsmodels\\base\\model.py:604: ConvergenceWarning: Maximum Likelihood optimization failed to converge. Check mle_retvals\n",
      "  warnings.warn(\"Maximum Likelihood optimization failed to \"\n"
     ]
    },
    {
     "name": "stdout",
     "output_type": "stream",
     "text": [
      "SARIMAX (1, 1, 2) x (0, 1, 2, 12)12 : BIC Calculated =1333132.6632431059\n",
      "SARIMAX (1, 1, 2) x (0, 2, 0, 12)12 : BIC Calculated =9859098.311600043\n",
      "SARIMAX (1, 1, 2) x (0, 2, 1, 12)12 : BIC Calculated =2536716.396516465\n"
     ]
    },
    {
     "name": "stderr",
     "output_type": "stream",
     "text": [
      "C:\\Users\\Ania\\anaconda3\\lib\\site-packages\\statsmodels\\tsa\\statespace\\sarimax.py:866: UserWarning: Too few observations to estimate starting parameters for seasonal ARMA. All parameters except for variances will be set to zeros.\n",
      "  warn('Too few observations to estimate starting parameters%s.'\n"
     ]
    },
    {
     "name": "stdout",
     "output_type": "stream",
     "text": [
      "SARIMAX (1, 1, 2) x (0, 2, 2, 12)12 : BIC Calculated =1357283.4027108382\n",
      "SARIMAX (1, 1, 2) x (1, 0, 0, 12)12 : BIC Calculated =3210950.1106335847\n",
      "SARIMAX (1, 1, 2) x (1, 0, 1, 12)12 : BIC Calculated =1263462.851356272\n"
     ]
    },
    {
     "name": "stderr",
     "output_type": "stream",
     "text": [
      "C:\\Users\\Ania\\anaconda3\\lib\\site-packages\\statsmodels\\tsa\\statespace\\sarimax.py:866: UserWarning: Too few observations to estimate starting parameters for seasonal ARMA. All parameters except for variances will be set to zeros.\n",
      "  warn('Too few observations to estimate starting parameters%s.'\n",
      "C:\\Users\\Ania\\anaconda3\\lib\\site-packages\\statsmodels\\base\\model.py:604: ConvergenceWarning: Maximum Likelihood optimization failed to converge. Check mle_retvals\n",
      "  warnings.warn(\"Maximum Likelihood optimization failed to \"\n"
     ]
    },
    {
     "name": "stdout",
     "output_type": "stream",
     "text": [
      "SARIMAX (1, 1, 2) x (1, 0, 2, 12)12 : BIC Calculated =1183380.9672957126\n",
      "SARIMAX (1, 1, 2) x (1, 1, 0, 12)12 : BIC Calculated =1372262.4360419791\n",
      "SARIMAX (1, 1, 2) x (1, 1, 1, 12)12 : BIC Calculated =1276396.323470137\n"
     ]
    },
    {
     "name": "stderr",
     "output_type": "stream",
     "text": [
      "C:\\Users\\Ania\\anaconda3\\lib\\site-packages\\statsmodels\\tsa\\statespace\\sarimax.py:866: UserWarning: Too few observations to estimate starting parameters for seasonal ARMA. All parameters except for variances will be set to zeros.\n",
      "  warn('Too few observations to estimate starting parameters%s.'\n",
      "C:\\Users\\Ania\\anaconda3\\lib\\site-packages\\statsmodels\\base\\model.py:604: ConvergenceWarning: Maximum Likelihood optimization failed to converge. Check mle_retvals\n",
      "  warnings.warn(\"Maximum Likelihood optimization failed to \"\n"
     ]
    },
    {
     "name": "stdout",
     "output_type": "stream",
     "text": [
      "SARIMAX (1, 1, 2) x (1, 1, 2, 12)12 : BIC Calculated =1242496.4955368545\n",
      "SARIMAX (1, 1, 2) x (1, 2, 0, 12)12 : BIC Calculated =4903988.698518436\n",
      "SARIMAX (1, 1, 2) x (1, 2, 1, 12)12 : BIC Calculated =1557027.8189392346\n"
     ]
    },
    {
     "name": "stderr",
     "output_type": "stream",
     "text": [
      "C:\\Users\\Ania\\anaconda3\\lib\\site-packages\\statsmodels\\tsa\\statespace\\sarimax.py:866: UserWarning: Too few observations to estimate starting parameters for seasonal ARMA. All parameters except for variances will be set to zeros.\n",
      "  warn('Too few observations to estimate starting parameters%s.'\n",
      "C:\\Users\\Ania\\anaconda3\\lib\\site-packages\\statsmodels\\base\\model.py:604: ConvergenceWarning: Maximum Likelihood optimization failed to converge. Check mle_retvals\n",
      "  warnings.warn(\"Maximum Likelihood optimization failed to \"\n"
     ]
    },
    {
     "name": "stdout",
     "output_type": "stream",
     "text": [
      "SARIMAX (1, 1, 2) x (1, 2, 2, 12)12 : BIC Calculated =1068358.0864203982\n",
      "SARIMAX (1, 1, 2) x (2, 0, 0, 12)12 : BIC Calculated =1539227.5712527998\n"
     ]
    },
    {
     "name": "stderr",
     "output_type": "stream",
     "text": [
      "C:\\Users\\Ania\\anaconda3\\lib\\site-packages\\statsmodels\\base\\model.py:604: ConvergenceWarning: Maximum Likelihood optimization failed to converge. Check mle_retvals\n",
      "  warnings.warn(\"Maximum Likelihood optimization failed to \"\n",
      "C:\\Users\\Ania\\anaconda3\\lib\\site-packages\\statsmodels\\tsa\\statespace\\sarimax.py:866: UserWarning: Too few observations to estimate starting parameters for seasonal ARMA. All parameters except for variances will be set to zeros.\n",
      "  warn('Too few observations to estimate starting parameters%s.'\n"
     ]
    },
    {
     "name": "stdout",
     "output_type": "stream",
     "text": [
      "SARIMAX (1, 1, 2) x (2, 0, 1, 12)12 : BIC Calculated =1180054.5509903107\n"
     ]
    },
    {
     "name": "stderr",
     "output_type": "stream",
     "text": [
      "C:\\Users\\Ania\\anaconda3\\lib\\site-packages\\statsmodels\\base\\model.py:604: ConvergenceWarning: Maximum Likelihood optimization failed to converge. Check mle_retvals\n",
      "  warnings.warn(\"Maximum Likelihood optimization failed to \"\n"
     ]
    },
    {
     "name": "stdout",
     "output_type": "stream",
     "text": [
      "SARIMAX (1, 1, 2) x (2, 0, 2, 12)12 : BIC Calculated =1181632.9887275565\n",
      "SARIMAX (1, 1, 2) x (2, 1, 0, 12)12 : BIC Calculated =1203400.7416428518\n"
     ]
    },
    {
     "name": "stderr",
     "output_type": "stream",
     "text": [
      "C:\\Users\\Ania\\anaconda3\\lib\\site-packages\\statsmodels\\base\\model.py:604: ConvergenceWarning: Maximum Likelihood optimization failed to converge. Check mle_retvals\n",
      "  warnings.warn(\"Maximum Likelihood optimization failed to \"\n",
      "C:\\Users\\Ania\\anaconda3\\lib\\site-packages\\statsmodels\\tsa\\statespace\\sarimax.py:866: UserWarning: Too few observations to estimate starting parameters for seasonal ARMA. All parameters except for variances will be set to zeros.\n",
      "  warn('Too few observations to estimate starting parameters%s.'\n"
     ]
    },
    {
     "name": "stdout",
     "output_type": "stream",
     "text": [
      "SARIMAX (1, 1, 2) x (2, 1, 1, 12)12 : BIC Calculated =1963001.8043807514\n"
     ]
    },
    {
     "name": "stderr",
     "output_type": "stream",
     "text": [
      "C:\\Users\\Ania\\anaconda3\\lib\\site-packages\\statsmodels\\base\\model.py:604: ConvergenceWarning: Maximum Likelihood optimization failed to converge. Check mle_retvals\n",
      "  warnings.warn(\"Maximum Likelihood optimization failed to \"\n"
     ]
    },
    {
     "name": "stdout",
     "output_type": "stream",
     "text": [
      "SARIMAX (1, 1, 2) x (2, 1, 2, 12)12 : BIC Calculated =2111024.799019009\n",
      "SARIMAX (1, 1, 2) x (2, 2, 0, 12)12 : BIC Calculated =1938223.3551654222\n",
      "SARIMAX (1, 1, 2) x (2, 2, 1, 12)12 : BIC Calculated =1606823.7683245176\n"
     ]
    },
    {
     "name": "stderr",
     "output_type": "stream",
     "text": [
      "C:\\Users\\Ania\\anaconda3\\lib\\site-packages\\statsmodels\\tsa\\statespace\\sarimax.py:866: UserWarning: Too few observations to estimate starting parameters for seasonal ARMA. All parameters except for variances will be set to zeros.\n",
      "  warn('Too few observations to estimate starting parameters%s.'\n",
      "C:\\Users\\Ania\\anaconda3\\lib\\site-packages\\statsmodels\\base\\model.py:604: ConvergenceWarning: Maximum Likelihood optimization failed to converge. Check mle_retvals\n",
      "  warnings.warn(\"Maximum Likelihood optimization failed to \"\n",
      "C:\\Users\\Ania\\anaconda3\\lib\\site-packages\\statsmodels\\tsa\\statespace\\sarimax.py:866: UserWarning: Too few observations to estimate starting parameters for seasonal ARMA. All parameters except for variances will be set to zeros.\n",
      "  warn('Too few observations to estimate starting parameters%s.'\n"
     ]
    },
    {
     "name": "stdout",
     "output_type": "stream",
     "text": [
      "SARIMAX (1, 1, 2) x (2, 2, 2, 12)12 : BIC Calculated =1772476.4781656843\n",
      "SARIMAX (1, 2, 0) x (0, 0, 0, 12)12 : BIC Calculated =4908218.4758434165\n",
      "SARIMAX (1, 2, 0) x (0, 0, 1, 12)12 : BIC Calculated =20622305.50618593\n",
      "SARIMAX (1, 2, 0) x (0, 0, 2, 12)12 : BIC Calculated =5560418.277632184\n",
      "SARIMAX (1, 2, 0) x (0, 1, 0, 12)12 : BIC Calculated =13441753.222201379\n"
     ]
    },
    {
     "name": "stderr",
     "output_type": "stream",
     "text": [
      "C:\\Users\\Ania\\anaconda3\\lib\\site-packages\\statsmodels\\base\\model.py:604: ConvergenceWarning: Maximum Likelihood optimization failed to converge. Check mle_retvals\n",
      "  warnings.warn(\"Maximum Likelihood optimization failed to \"\n",
      "C:\\Users\\Ania\\anaconda3\\lib\\site-packages\\statsmodels\\tsa\\statespace\\sarimax.py:866: UserWarning: Too few observations to estimate starting parameters for seasonal ARMA. All parameters except for variances will be set to zeros.\n",
      "  warn('Too few observations to estimate starting parameters%s.'\n"
     ]
    },
    {
     "name": "stdout",
     "output_type": "stream",
     "text": [
      "SARIMAX (1, 2, 0) x (0, 1, 1, 12)12 : BIC Calculated =13441753.222199732\n",
      "SARIMAX (1, 2, 0) x (0, 1, 2, 12)12 : BIC Calculated =27519198.163731795\n",
      "SARIMAX (1, 2, 0) x (0, 2, 0, 12)12 : BIC Calculated =350767643.8638884\n"
     ]
    },
    {
     "name": "stderr",
     "output_type": "stream",
     "text": [
      "C:\\Users\\Ania\\anaconda3\\lib\\site-packages\\statsmodels\\tsa\\statespace\\sarimax.py:866: UserWarning: Too few observations to estimate starting parameters for seasonal ARMA. All parameters except for variances will be set to zeros.\n",
      "  warn('Too few observations to estimate starting parameters%s.'\n"
     ]
    },
    {
     "name": "stdout",
     "output_type": "stream",
     "text": [
      "SARIMAX (1, 2, 0) x (0, 2, 1, 12)12 : BIC Calculated =9394450.309704125\n"
     ]
    },
    {
     "name": "stderr",
     "output_type": "stream",
     "text": [
      "C:\\Users\\Ania\\anaconda3\\lib\\site-packages\\statsmodels\\tsa\\statespace\\sarimax.py:866: UserWarning: Too few observations to estimate starting parameters for seasonal ARMA. All parameters except for variances will be set to zeros.\n",
      "  warn('Too few observations to estimate starting parameters%s.'\n"
     ]
    },
    {
     "name": "stdout",
     "output_type": "stream",
     "text": [
      "SARIMAX (1, 2, 0) x (0, 2, 2, 12)12 : BIC Calculated =47177391.94451027\n",
      "SARIMAX (1, 2, 0) x (1, 0, 0, 12)12 : BIC Calculated =7842466.486768623\n",
      "SARIMAX (1, 2, 0) x (1, 0, 1, 12)12 : BIC Calculated =20150846.285137475\n"
     ]
    },
    {
     "name": "stderr",
     "output_type": "stream",
     "text": [
      "C:\\Users\\Ania\\anaconda3\\lib\\site-packages\\statsmodels\\tsa\\statespace\\sarimax.py:866: UserWarning: Too few observations to estimate starting parameters for seasonal ARMA. All parameters except for variances will be set to zeros.\n",
      "  warn('Too few observations to estimate starting parameters%s.'\n"
     ]
    },
    {
     "name": "stdout",
     "output_type": "stream",
     "text": [
      "SARIMAX (1, 2, 0) x (1, 0, 2, 12)12 : BIC Calculated =31426438.500035886\n",
      "SARIMAX (1, 2, 0) x (1, 1, 0, 12)12 : BIC Calculated =7238870.81121126\n",
      "SARIMAX (1, 2, 0) x (1, 1, 1, 12)12 : BIC Calculated =54110825.7044482\n"
     ]
    },
    {
     "name": "stderr",
     "output_type": "stream",
     "text": [
      "C:\\Users\\Ania\\anaconda3\\lib\\site-packages\\statsmodels\\tsa\\statespace\\sarimax.py:866: UserWarning: Too few observations to estimate starting parameters for seasonal ARMA. All parameters except for variances will be set to zeros.\n",
      "  warn('Too few observations to estimate starting parameters%s.'\n"
     ]
    },
    {
     "name": "stdout",
     "output_type": "stream",
     "text": [
      "SARIMAX (1, 2, 0) x (1, 1, 2, 12)12 : BIC Calculated =6852942.611641608\n",
      "SARIMAX (1, 2, 0) x (1, 2, 0, 12)12 : BIC Calculated =6704937.598306375\n"
     ]
    },
    {
     "name": "stderr",
     "output_type": "stream",
     "text": [
      "C:\\Users\\Ania\\anaconda3\\lib\\site-packages\\statsmodels\\tsa\\statespace\\sarimax.py:866: UserWarning: Too few observations to estimate starting parameters for seasonal ARMA. All parameters except for variances will be set to zeros.\n",
      "  warn('Too few observations to estimate starting parameters%s.'\n"
     ]
    },
    {
     "name": "stdout",
     "output_type": "stream",
     "text": [
      "SARIMAX (1, 2, 0) x (1, 2, 1, 12)12 : BIC Calculated =12933150.14887026\n"
     ]
    },
    {
     "name": "stderr",
     "output_type": "stream",
     "text": [
      "C:\\Users\\Ania\\anaconda3\\lib\\site-packages\\statsmodels\\tsa\\statespace\\sarimax.py:866: UserWarning: Too few observations to estimate starting parameters for seasonal ARMA. All parameters except for variances will be set to zeros.\n",
      "  warn('Too few observations to estimate starting parameters%s.'\n"
     ]
    },
    {
     "name": "stdout",
     "output_type": "stream",
     "text": [
      "SARIMAX (1, 2, 0) x (1, 2, 2, 12)12 : BIC Calculated =109450221.09891225\n",
      "SARIMAX (1, 2, 0) x (2, 0, 0, 12)12 : BIC Calculated =3181032.082222523\n",
      "SARIMAX (1, 2, 0) x (2, 0, 1, 12)12 : BIC Calculated =32460327.673476245\n"
     ]
    },
    {
     "name": "stderr",
     "output_type": "stream",
     "text": [
      "C:\\Users\\Ania\\anaconda3\\lib\\site-packages\\statsmodels\\tsa\\statespace\\sarimax.py:866: UserWarning: Too few observations to estimate starting parameters for seasonal ARMA. All parameters except for variances will be set to zeros.\n",
      "  warn('Too few observations to estimate starting parameters%s.'\n"
     ]
    },
    {
     "name": "stdout",
     "output_type": "stream",
     "text": [
      "SARIMAX (1, 2, 0) x (2, 0, 2, 12)12 : BIC Calculated =23964193.973791596\n",
      "SARIMAX (1, 2, 0) x (2, 1, 0, 12)12 : BIC Calculated =5914414.495025273\n",
      "SARIMAX (1, 2, 0) x (2, 1, 1, 12)12 : BIC Calculated =33647907.915077135\n"
     ]
    },
    {
     "name": "stderr",
     "output_type": "stream",
     "text": [
      "C:\\Users\\Ania\\anaconda3\\lib\\site-packages\\statsmodels\\tsa\\statespace\\sarimax.py:866: UserWarning: Too few observations to estimate starting parameters for seasonal ARMA. All parameters except for variances will be set to zeros.\n",
      "  warn('Too few observations to estimate starting parameters%s.'\n"
     ]
    },
    {
     "name": "stdout",
     "output_type": "stream",
     "text": [
      "SARIMAX (1, 2, 0) x (2, 1, 2, 12)12 : BIC Calculated =14233518.179069167\n",
      "SARIMAX (1, 2, 0) x (2, 2, 0, 12)12 : BIC Calculated =122722705.62747848\n"
     ]
    },
    {
     "name": "stderr",
     "output_type": "stream",
     "text": [
      "C:\\Users\\Ania\\anaconda3\\lib\\site-packages\\statsmodels\\tsa\\statespace\\sarimax.py:866: UserWarning: Too few observations to estimate starting parameters for seasonal ARMA. All parameters except for variances will be set to zeros.\n",
      "  warn('Too few observations to estimate starting parameters%s.'\n"
     ]
    },
    {
     "name": "stdout",
     "output_type": "stream",
     "text": [
      "SARIMAX (1, 2, 0) x (2, 2, 1, 12)12 : BIC Calculated =31042907.4708015\n"
     ]
    },
    {
     "name": "stderr",
     "output_type": "stream",
     "text": [
      "C:\\Users\\Ania\\anaconda3\\lib\\site-packages\\statsmodels\\tsa\\statespace\\sarimax.py:866: UserWarning: Too few observations to estimate starting parameters for seasonal ARMA. All parameters except for variances will be set to zeros.\n",
      "  warn('Too few observations to estimate starting parameters%s.'\n"
     ]
    },
    {
     "name": "stdout",
     "output_type": "stream",
     "text": [
      "SARIMAX (1, 2, 0) x (2, 2, 2, 12)12 : BIC Calculated =128945423.92406219\n",
      "SARIMAX (1, 2, 1) x (0, 0, 0, 12)12 : BIC Calculated =7676411.359833342\n",
      "SARIMAX (1, 2, 1) x (0, 0, 1, 12)12 : BIC Calculated =8015688.538461072\n"
     ]
    },
    {
     "name": "stderr",
     "output_type": "stream",
     "text": [
      "C:\\Users\\Ania\\anaconda3\\lib\\site-packages\\statsmodels\\tsa\\statespace\\sarimax.py:866: UserWarning: Too few observations to estimate starting parameters for seasonal ARMA. All parameters except for variances will be set to zeros.\n",
      "  warn('Too few observations to estimate starting parameters%s.'\n"
     ]
    },
    {
     "name": "stdout",
     "output_type": "stream",
     "text": [
      "SARIMAX (1, 2, 1) x (0, 0, 2, 12)12 : BIC Calculated =4149642.5880419035\n",
      "SARIMAX (1, 2, 1) x (0, 1, 0, 12)12 : BIC Calculated =2224289.04886161\n"
     ]
    },
    {
     "name": "stderr",
     "output_type": "stream",
     "text": [
      "C:\\Users\\Ania\\anaconda3\\lib\\site-packages\\statsmodels\\base\\model.py:604: ConvergenceWarning: Maximum Likelihood optimization failed to converge. Check mle_retvals\n",
      "  warnings.warn(\"Maximum Likelihood optimization failed to \"\n",
      "C:\\Users\\Ania\\anaconda3\\lib\\site-packages\\statsmodels\\tsa\\statespace\\sarimax.py:866: UserWarning: Too few observations to estimate starting parameters for seasonal ARMA. All parameters except for variances will be set to zeros.\n",
      "  warn('Too few observations to estimate starting parameters%s.'\n"
     ]
    },
    {
     "name": "stdout",
     "output_type": "stream",
     "text": [
      "SARIMAX (1, 2, 1) x (0, 1, 1, 12)12 : BIC Calculated =2433955.4529215284\n",
      "SARIMAX (1, 2, 1) x (0, 1, 2, 12)12 : BIC Calculated =1438280.2226148795\n",
      "SARIMAX (1, 2, 1) x (0, 2, 0, 12)12 : BIC Calculated =10946519.664524099\n"
     ]
    },
    {
     "name": "stderr",
     "output_type": "stream",
     "text": [
      "C:\\Users\\Ania\\anaconda3\\lib\\site-packages\\statsmodels\\tsa\\statespace\\sarimax.py:866: UserWarning: Too few observations to estimate starting parameters for seasonal ARMA. All parameters except for variances will be set to zeros.\n",
      "  warn('Too few observations to estimate starting parameters%s.'\n"
     ]
    },
    {
     "name": "stdout",
     "output_type": "stream",
     "text": [
      "SARIMAX (1, 2, 1) x (0, 2, 1, 12)12 : BIC Calculated =3435852.9307831656\n"
     ]
    },
    {
     "name": "stderr",
     "output_type": "stream",
     "text": [
      "C:\\Users\\Ania\\anaconda3\\lib\\site-packages\\statsmodels\\tsa\\statespace\\sarimax.py:866: UserWarning: Too few observations to estimate starting parameters for seasonal ARMA. All parameters except for variances will be set to zeros.\n",
      "  warn('Too few observations to estimate starting parameters%s.'\n"
     ]
    },
    {
     "name": "stdout",
     "output_type": "stream",
     "text": [
      "SARIMAX (1, 2, 1) x (0, 2, 2, 12)12 : BIC Calculated =14249834.518352604\n",
      "SARIMAX (1, 2, 1) x (1, 0, 0, 12)12 : BIC Calculated =2975122.130694325\n",
      "SARIMAX (1, 2, 1) x (1, 0, 1, 12)12 : BIC Calculated =1547310.7379820868\n"
     ]
    },
    {
     "name": "stderr",
     "output_type": "stream",
     "text": [
      "C:\\Users\\Ania\\anaconda3\\lib\\site-packages\\statsmodels\\tsa\\statespace\\sarimax.py:866: UserWarning: Too few observations to estimate starting parameters for seasonal ARMA. All parameters except for variances will be set to zeros.\n",
      "  warn('Too few observations to estimate starting parameters%s.'\n"
     ]
    },
    {
     "name": "stdout",
     "output_type": "stream",
     "text": [
      "SARIMAX (1, 2, 1) x (1, 0, 2, 12)12 : BIC Calculated =1677336.5156467084\n",
      "SARIMAX (1, 2, 1) x (1, 1, 0, 12)12 : BIC Calculated =1794923.0610451219\n"
     ]
    },
    {
     "name": "stderr",
     "output_type": "stream",
     "text": [
      "C:\\Users\\Ania\\anaconda3\\lib\\site-packages\\statsmodels\\base\\model.py:604: ConvergenceWarning: Maximum Likelihood optimization failed to converge. Check mle_retvals\n",
      "  warnings.warn(\"Maximum Likelihood optimization failed to \"\n",
      "C:\\Users\\Ania\\anaconda3\\lib\\site-packages\\statsmodels\\tsa\\statespace\\sarimax.py:866: UserWarning: Too few observations to estimate starting parameters for seasonal ARMA. All parameters except for variances will be set to zeros.\n",
      "  warn('Too few observations to estimate starting parameters%s.'\n"
     ]
    },
    {
     "name": "stdout",
     "output_type": "stream",
     "text": [
      "SARIMAX (1, 2, 1) x (1, 1, 1, 12)12 : BIC Calculated =8606980.860189028\n",
      "SARIMAX (1, 2, 1) x (1, 1, 2, 12)12 : BIC Calculated =1336558.1364267033\n",
      "SARIMAX (1, 2, 1) x (1, 2, 0, 12)12 : BIC Calculated =6120649.494974632\n"
     ]
    },
    {
     "name": "stderr",
     "output_type": "stream",
     "text": [
      "C:\\Users\\Ania\\anaconda3\\lib\\site-packages\\statsmodels\\tsa\\statespace\\sarimax.py:866: UserWarning: Too few observations to estimate starting parameters for seasonal ARMA. All parameters except for variances will be set to zeros.\n",
      "  warn('Too few observations to estimate starting parameters%s.'\n"
     ]
    },
    {
     "name": "stdout",
     "output_type": "stream",
     "text": [
      "SARIMAX (1, 2, 1) x (1, 2, 1, 12)12 : BIC Calculated =4336621.098489639\n"
     ]
    },
    {
     "name": "stderr",
     "output_type": "stream",
     "text": [
      "C:\\Users\\Ania\\anaconda3\\lib\\site-packages\\statsmodels\\tsa\\statespace\\sarimax.py:866: UserWarning: Too few observations to estimate starting parameters for seasonal ARMA. All parameters except for variances will be set to zeros.\n",
      "  warn('Too few observations to estimate starting parameters%s.'\n"
     ]
    },
    {
     "name": "stdout",
     "output_type": "stream",
     "text": [
      "SARIMAX (1, 2, 1) x (1, 2, 2, 12)12 : BIC Calculated =14780109.353966322\n",
      "SARIMAX (1, 2, 1) x (2, 0, 0, 12)12 : BIC Calculated =1588295.247804778\n",
      "SARIMAX (1, 2, 1) x (2, 0, 1, 12)12 : BIC Calculated =2429135.658050631\n"
     ]
    },
    {
     "name": "stderr",
     "output_type": "stream",
     "text": [
      "C:\\Users\\Ania\\anaconda3\\lib\\site-packages\\statsmodels\\tsa\\statespace\\sarimax.py:866: UserWarning: Too few observations to estimate starting parameters for seasonal ARMA. All parameters except for variances will be set to zeros.\n",
      "  warn('Too few observations to estimate starting parameters%s.'\n"
     ]
    },
    {
     "name": "stdout",
     "output_type": "stream",
     "text": [
      "SARIMAX (1, 2, 1) x (2, 0, 2, 12)12 : BIC Calculated =1640225.4427450402\n",
      "SARIMAX (1, 2, 1) x (2, 1, 0, 12)12 : BIC Calculated =1183155.823168656\n"
     ]
    },
    {
     "name": "stderr",
     "output_type": "stream",
     "text": [
      "C:\\Users\\Ania\\anaconda3\\lib\\site-packages\\statsmodels\\base\\model.py:604: ConvergenceWarning: Maximum Likelihood optimization failed to converge. Check mle_retvals\n",
      "  warnings.warn(\"Maximum Likelihood optimization failed to \"\n",
      "C:\\Users\\Ania\\anaconda3\\lib\\site-packages\\statsmodels\\tsa\\statespace\\sarimax.py:866: UserWarning: Too few observations to estimate starting parameters for seasonal ARMA. All parameters except for variances will be set to zeros.\n",
      "  warn('Too few observations to estimate starting parameters%s.'\n"
     ]
    },
    {
     "name": "stdout",
     "output_type": "stream",
     "text": [
      "SARIMAX (1, 2, 1) x (2, 1, 1, 12)12 : BIC Calculated =2760185.834183226\n",
      "SARIMAX (1, 2, 1) x (2, 1, 2, 12)12 : BIC Calculated =1498937.0640043442\n",
      "SARIMAX (1, 2, 1) x (2, 2, 0, 12)12 : BIC Calculated =2543138.978316808\n"
     ]
    },
    {
     "name": "stderr",
     "output_type": "stream",
     "text": [
      "C:\\Users\\Ania\\anaconda3\\lib\\site-packages\\statsmodels\\tsa\\statespace\\sarimax.py:866: UserWarning: Too few observations to estimate starting parameters for seasonal ARMA. All parameters except for variances will be set to zeros.\n",
      "  warn('Too few observations to estimate starting parameters%s.'\n"
     ]
    },
    {
     "name": "stdout",
     "output_type": "stream",
     "text": [
      "SARIMAX (1, 2, 1) x (2, 2, 1, 12)12 : BIC Calculated =6838848.257454192\n"
     ]
    },
    {
     "name": "stderr",
     "output_type": "stream",
     "text": [
      "C:\\Users\\Ania\\anaconda3\\lib\\site-packages\\statsmodels\\tsa\\statespace\\sarimax.py:866: UserWarning: Too few observations to estimate starting parameters for seasonal ARMA. All parameters except for variances will be set to zeros.\n",
      "  warn('Too few observations to estimate starting parameters%s.'\n"
     ]
    },
    {
     "name": "stdout",
     "output_type": "stream",
     "text": [
      "SARIMAX (1, 2, 1) x (2, 2, 2, 12)12 : BIC Calculated =20037654.78799764\n",
      "SARIMAX (1, 2, 2) x (0, 0, 0, 12)12 : BIC Calculated =7351880.640313269\n",
      "SARIMAX (1, 2, 2) x (0, 0, 1, 12)12 : BIC Calculated =7432195.050952955\n"
     ]
    },
    {
     "name": "stderr",
     "output_type": "stream",
     "text": [
      "C:\\Users\\Ania\\anaconda3\\lib\\site-packages\\statsmodels\\tsa\\statespace\\sarimax.py:866: UserWarning: Too few observations to estimate starting parameters for seasonal ARMA. All parameters except for variances will be set to zeros.\n",
      "  warn('Too few observations to estimate starting parameters%s.'\n"
     ]
    },
    {
     "name": "stdout",
     "output_type": "stream",
     "text": [
      "SARIMAX (1, 2, 2) x (0, 0, 2, 12)12 : BIC Calculated =4844643.663315166\n",
      "SARIMAX (1, 2, 2) x (0, 1, 0, 12)12 : BIC Calculated =2723538.8695477163\n"
     ]
    },
    {
     "name": "stderr",
     "output_type": "stream",
     "text": [
      "C:\\Users\\Ania\\anaconda3\\lib\\site-packages\\statsmodels\\base\\model.py:604: ConvergenceWarning: Maximum Likelihood optimization failed to converge. Check mle_retvals\n",
      "  warnings.warn(\"Maximum Likelihood optimization failed to \"\n",
      "C:\\Users\\Ania\\anaconda3\\lib\\site-packages\\statsmodels\\tsa\\statespace\\sarimax.py:866: UserWarning: Too few observations to estimate starting parameters for seasonal ARMA. All parameters except for variances will be set to zeros.\n",
      "  warn('Too few observations to estimate starting parameters%s.'\n"
     ]
    },
    {
     "name": "stdout",
     "output_type": "stream",
     "text": [
      "SARIMAX (1, 2, 2) x (0, 1, 1, 12)12 : BIC Calculated =38793110537.77955\n",
      "SARIMAX (1, 2, 2) x (0, 1, 2, 12)12 : BIC Calculated =2736234.0742907804\n",
      "SARIMAX (1, 2, 2) x (0, 2, 0, 12)12 : BIC Calculated =17323178.0515149\n"
     ]
    },
    {
     "name": "stderr",
     "output_type": "stream",
     "text": [
      "C:\\Users\\Ania\\anaconda3\\lib\\site-packages\\statsmodels\\tsa\\statespace\\sarimax.py:866: UserWarning: Too few observations to estimate starting parameters for seasonal ARMA. All parameters except for variances will be set to zeros.\n",
      "  warn('Too few observations to estimate starting parameters%s.'\n"
     ]
    },
    {
     "name": "stdout",
     "output_type": "stream",
     "text": [
      "SARIMAX (1, 2, 2) x (0, 2, 1, 12)12 : BIC Calculated =7254408.767120507\n"
     ]
    },
    {
     "name": "stderr",
     "output_type": "stream",
     "text": [
      "C:\\Users\\Ania\\anaconda3\\lib\\site-packages\\statsmodels\\tsa\\statespace\\sarimax.py:866: UserWarning: Too few observations to estimate starting parameters for seasonal ARMA. All parameters except for variances will be set to zeros.\n",
      "  warn('Too few observations to estimate starting parameters%s.'\n",
      "C:\\Users\\Ania\\anaconda3\\lib\\site-packages\\statsmodels\\base\\model.py:604: ConvergenceWarning: Maximum Likelihood optimization failed to converge. Check mle_retvals\n",
      "  warnings.warn(\"Maximum Likelihood optimization failed to \"\n"
     ]
    },
    {
     "name": "stdout",
     "output_type": "stream",
     "text": [
      "SARIMAX (1, 2, 2) x (0, 2, 2, 12)12 : BIC Calculated =26239179.238441236\n"
     ]
    },
    {
     "name": "stderr",
     "output_type": "stream",
     "text": [
      "C:\\Users\\Ania\\anaconda3\\lib\\site-packages\\statsmodels\\base\\model.py:604: ConvergenceWarning: Maximum Likelihood optimization failed to converge. Check mle_retvals\n",
      "  warnings.warn(\"Maximum Likelihood optimization failed to \"\n"
     ]
    },
    {
     "name": "stdout",
     "output_type": "stream",
     "text": [
      "SARIMAX (1, 2, 2) x (1, 0, 0, 12)12 : BIC Calculated =6740303.791783063\n"
     ]
    },
    {
     "name": "stderr",
     "output_type": "stream",
     "text": [
      "C:\\Users\\Ania\\anaconda3\\lib\\site-packages\\statsmodels\\base\\model.py:604: ConvergenceWarning: Maximum Likelihood optimization failed to converge. Check mle_retvals\n",
      "  warnings.warn(\"Maximum Likelihood optimization failed to \"\n",
      "C:\\Users\\Ania\\anaconda3\\lib\\site-packages\\statsmodels\\tsa\\statespace\\sarimax.py:866: UserWarning: Too few observations to estimate starting parameters for seasonal ARMA. All parameters except for variances will be set to zeros.\n",
      "  warn('Too few observations to estimate starting parameters%s.'\n"
     ]
    },
    {
     "name": "stdout",
     "output_type": "stream",
     "text": [
      "SARIMAX (1, 2, 2) x (1, 0, 1, 12)12 : BIC Calculated =2229034.809183779\n"
     ]
    },
    {
     "name": "stderr",
     "output_type": "stream",
     "text": [
      "C:\\Users\\Ania\\anaconda3\\lib\\site-packages\\statsmodels\\base\\model.py:604: ConvergenceWarning: Maximum Likelihood optimization failed to converge. Check mle_retvals\n",
      "  warnings.warn(\"Maximum Likelihood optimization failed to \"\n"
     ]
    },
    {
     "name": "stdout",
     "output_type": "stream",
     "text": [
      "SARIMAX (1, 2, 2) x (1, 0, 2, 12)12 : BIC Calculated =2721199.4143811106\n",
      "SARIMAX (1, 2, 2) x (1, 1, 0, 12)12 : BIC Calculated =2159295.9795056423\n"
     ]
    },
    {
     "name": "stderr",
     "output_type": "stream",
     "text": [
      "C:\\Users\\Ania\\anaconda3\\lib\\site-packages\\statsmodels\\base\\model.py:604: ConvergenceWarning: Maximum Likelihood optimization failed to converge. Check mle_retvals\n",
      "  warnings.warn(\"Maximum Likelihood optimization failed to \"\n",
      "C:\\Users\\Ania\\anaconda3\\lib\\site-packages\\statsmodels\\tsa\\statespace\\sarimax.py:866: UserWarning: Too few observations to estimate starting parameters for seasonal ARMA. All parameters except for variances will be set to zeros.\n",
      "  warn('Too few observations to estimate starting parameters%s.'\n"
     ]
    },
    {
     "name": "stdout",
     "output_type": "stream",
     "text": [
      "SARIMAX (1, 2, 2) x (1, 1, 1, 12)12 : BIC Calculated =5969243364.40398\n",
      "SARIMAX (1, 2, 2) x (1, 1, 2, 12)12 : BIC Calculated =2654500.073285964\n",
      "SARIMAX (1, 2, 2) x (1, 2, 0, 12)12 : BIC Calculated =11899249.099530438\n"
     ]
    },
    {
     "name": "stderr",
     "output_type": "stream",
     "text": [
      "C:\\Users\\Ania\\anaconda3\\lib\\site-packages\\statsmodels\\tsa\\statespace\\sarimax.py:866: UserWarning: Too few observations to estimate starting parameters for seasonal ARMA. All parameters except for variances will be set to zeros.\n",
      "  warn('Too few observations to estimate starting parameters%s.'\n",
      "C:\\Users\\Ania\\anaconda3\\lib\\site-packages\\statsmodels\\base\\model.py:604: ConvergenceWarning: Maximum Likelihood optimization failed to converge. Check mle_retvals\n",
      "  warnings.warn(\"Maximum Likelihood optimization failed to \"\n",
      "C:\\Users\\Ania\\anaconda3\\lib\\site-packages\\statsmodels\\tsa\\statespace\\sarimax.py:866: UserWarning: Too few observations to estimate starting parameters for seasonal ARMA. All parameters except for variances will be set to zeros.\n",
      "  warn('Too few observations to estimate starting parameters%s.'\n"
     ]
    },
    {
     "name": "stdout",
     "output_type": "stream",
     "text": [
      "SARIMAX (1, 2, 2) x (1, 2, 1, 12)12 : BIC Calculated =6881295.998914408\n"
     ]
    },
    {
     "name": "stderr",
     "output_type": "stream",
     "text": [
      "C:\\Users\\Ania\\anaconda3\\lib\\site-packages\\statsmodels\\base\\model.py:604: ConvergenceWarning: Maximum Likelihood optimization failed to converge. Check mle_retvals\n",
      "  warnings.warn(\"Maximum Likelihood optimization failed to \"\n"
     ]
    },
    {
     "name": "stdout",
     "output_type": "stream",
     "text": [
      "SARIMAX (1, 2, 2) x (1, 2, 2, 12)12 : BIC Calculated =1565924.4066575165\n"
     ]
    },
    {
     "name": "stderr",
     "output_type": "stream",
     "text": [
      "C:\\Users\\Ania\\anaconda3\\lib\\site-packages\\statsmodels\\base\\model.py:604: ConvergenceWarning: Maximum Likelihood optimization failed to converge. Check mle_retvals\n",
      "  warnings.warn(\"Maximum Likelihood optimization failed to \"\n"
     ]
    },
    {
     "name": "stdout",
     "output_type": "stream",
     "text": [
      "SARIMAX (1, 2, 2) x (2, 0, 0, 12)12 : BIC Calculated =4152920.731800611\n"
     ]
    },
    {
     "name": "stderr",
     "output_type": "stream",
     "text": [
      "C:\\Users\\Ania\\anaconda3\\lib\\site-packages\\statsmodels\\base\\model.py:604: ConvergenceWarning: Maximum Likelihood optimization failed to converge. Check mle_retvals\n",
      "  warnings.warn(\"Maximum Likelihood optimization failed to \"\n",
      "C:\\Users\\Ania\\anaconda3\\lib\\site-packages\\statsmodels\\tsa\\statespace\\sarimax.py:866: UserWarning: Too few observations to estimate starting parameters for seasonal ARMA. All parameters except for variances will be set to zeros.\n",
      "  warn('Too few observations to estimate starting parameters%s.'\n"
     ]
    },
    {
     "name": "stdout",
     "output_type": "stream",
     "text": [
      "SARIMAX (1, 2, 2) x (2, 0, 1, 12)12 : BIC Calculated =1929875.2226458383\n"
     ]
    },
    {
     "name": "stderr",
     "output_type": "stream",
     "text": [
      "C:\\Users\\Ania\\anaconda3\\lib\\site-packages\\statsmodels\\base\\model.py:604: ConvergenceWarning: Maximum Likelihood optimization failed to converge. Check mle_retvals\n",
      "  warnings.warn(\"Maximum Likelihood optimization failed to \"\n"
     ]
    },
    {
     "name": "stdout",
     "output_type": "stream",
     "text": [
      "SARIMAX (1, 2, 2) x (2, 0, 2, 12)12 : BIC Calculated =1168917.7649798535\n",
      "SARIMAX (1, 2, 2) x (2, 1, 0, 12)12 : BIC Calculated =1419035.1322302986\n"
     ]
    },
    {
     "name": "stderr",
     "output_type": "stream",
     "text": [
      "C:\\Users\\Ania\\anaconda3\\lib\\site-packages\\statsmodels\\base\\model.py:604: ConvergenceWarning: Maximum Likelihood optimization failed to converge. Check mle_retvals\n",
      "  warnings.warn(\"Maximum Likelihood optimization failed to \"\n",
      "C:\\Users\\Ania\\anaconda3\\lib\\site-packages\\statsmodels\\tsa\\statespace\\sarimax.py:866: UserWarning: Too few observations to estimate starting parameters for seasonal ARMA. All parameters except for variances will be set to zeros.\n",
      "  warn('Too few observations to estimate starting parameters%s.'\n"
     ]
    },
    {
     "name": "stdout",
     "output_type": "stream",
     "text": [
      "SARIMAX (1, 2, 2) x (2, 1, 1, 12)12 : BIC Calculated =135721719016.05116\n"
     ]
    },
    {
     "name": "stderr",
     "output_type": "stream",
     "text": [
      "C:\\Users\\Ania\\anaconda3\\lib\\site-packages\\statsmodels\\base\\model.py:604: ConvergenceWarning: Maximum Likelihood optimization failed to converge. Check mle_retvals\n",
      "  warnings.warn(\"Maximum Likelihood optimization failed to \"\n"
     ]
    },
    {
     "name": "stdout",
     "output_type": "stream",
     "text": [
      "SARIMAX (1, 2, 2) x (2, 1, 2, 12)12 : BIC Calculated =1824279.0657330025\n",
      "SARIMAX (1, 2, 2) x (2, 2, 0, 12)12 : BIC Calculated =3162003.613250495\n"
     ]
    },
    {
     "name": "stderr",
     "output_type": "stream",
     "text": [
      "C:\\Users\\Ania\\anaconda3\\lib\\site-packages\\statsmodels\\tsa\\statespace\\sarimax.py:866: UserWarning: Too few observations to estimate starting parameters for seasonal ARMA. All parameters except for variances will be set to zeros.\n",
      "  warn('Too few observations to estimate starting parameters%s.'\n",
      "C:\\Users\\Ania\\anaconda3\\lib\\site-packages\\statsmodels\\base\\model.py:604: ConvergenceWarning: Maximum Likelihood optimization failed to converge. Check mle_retvals\n",
      "  warnings.warn(\"Maximum Likelihood optimization failed to \"\n",
      "C:\\Users\\Ania\\anaconda3\\lib\\site-packages\\statsmodels\\tsa\\statespace\\sarimax.py:866: UserWarning: Too few observations to estimate starting parameters for seasonal ARMA. All parameters except for variances will be set to zeros.\n",
      "  warn('Too few observations to estimate starting parameters%s.'\n"
     ]
    },
    {
     "name": "stdout",
     "output_type": "stream",
     "text": [
      "SARIMAX (1, 2, 2) x (2, 2, 1, 12)12 : BIC Calculated =2909304.360158054\n"
     ]
    },
    {
     "name": "stderr",
     "output_type": "stream",
     "text": [
      "C:\\Users\\Ania\\anaconda3\\lib\\site-packages\\statsmodels\\base\\model.py:604: ConvergenceWarning: Maximum Likelihood optimization failed to converge. Check mle_retvals\n",
      "  warnings.warn(\"Maximum Likelihood optimization failed to \"\n",
      "C:\\Users\\Ania\\anaconda3\\lib\\site-packages\\statsmodels\\tsa\\statespace\\sarimax.py:866: UserWarning: Too few observations to estimate starting parameters for seasonal ARMA. All parameters except for variances will be set to zeros.\n",
      "  warn('Too few observations to estimate starting parameters%s.'\n"
     ]
    },
    {
     "name": "stdout",
     "output_type": "stream",
     "text": [
      "SARIMAX (1, 2, 2) x (2, 2, 2, 12)12 : BIC Calculated =5065885.03396197\n",
      "SARIMAX (2, 0, 0) x (0, 0, 0, 12)12 : BIC Calculated =16461501.720367962\n",
      "SARIMAX (2, 0, 0) x (0, 0, 1, 12)12 : BIC Calculated =14744950.710138347\n",
      "SARIMAX (2, 0, 0) x (0, 0, 2, 12)12 : BIC Calculated =8483472.17659468\n",
      "SARIMAX (2, 0, 0) x (0, 1, 0, 12)12 : BIC Calculated =3246028.8341930252\n",
      "SARIMAX (2, 0, 0) x (0, 1, 1, 12)12 : BIC Calculated =2678975.7742444347\n"
     ]
    },
    {
     "name": "stderr",
     "output_type": "stream",
     "text": [
      "C:\\Users\\Ania\\anaconda3\\lib\\site-packages\\statsmodels\\tsa\\statespace\\sarimax.py:866: UserWarning: Too few observations to estimate starting parameters for seasonal ARMA. All parameters except for variances will be set to zeros.\n",
      "  warn('Too few observations to estimate starting parameters%s.'\n"
     ]
    },
    {
     "name": "stdout",
     "output_type": "stream",
     "text": [
      "SARIMAX (2, 0, 0) x (0, 1, 2, 12)12 : BIC Calculated =2404683.0499673355\n",
      "SARIMAX (2, 0, 0) x (0, 2, 0, 12)12 : BIC Calculated =9810057.872000562\n"
     ]
    },
    {
     "name": "stderr",
     "output_type": "stream",
     "text": [
      "C:\\Users\\Ania\\anaconda3\\lib\\site-packages\\statsmodels\\base\\model.py:604: ConvergenceWarning: Maximum Likelihood optimization failed to converge. Check mle_retvals\n",
      "  warnings.warn(\"Maximum Likelihood optimization failed to \"\n",
      "C:\\Users\\Ania\\anaconda3\\lib\\site-packages\\statsmodels\\tsa\\statespace\\sarimax.py:866: UserWarning: Too few observations to estimate starting parameters for seasonal ARMA. All parameters except for variances will be set to zeros.\n",
      "  warn('Too few observations to estimate starting parameters%s.'\n"
     ]
    },
    {
     "name": "stdout",
     "output_type": "stream",
     "text": [
      "SARIMAX (2, 0, 0) x (0, 2, 1, 12)12 : BIC Calculated =9810057.87200054\n",
      "SARIMAX (2, 0, 0) x (0, 2, 2, 12)12 : BIC Calculated =1345737.8412815407\n",
      "SARIMAX (2, 0, 0) x (1, 0, 0, 12)12 : BIC Calculated =4830590.015482602\n",
      "SARIMAX (2, 0, 0) x (1, 0, 1, 12)12 : BIC Calculated =1632813.0245371643\n"
     ]
    },
    {
     "name": "stderr",
     "output_type": "stream",
     "text": [
      "C:\\Users\\Ania\\anaconda3\\lib\\site-packages\\statsmodels\\tsa\\statespace\\sarimax.py:866: UserWarning: Too few observations to estimate starting parameters for seasonal ARMA. All parameters except for variances will be set to zeros.\n",
      "  warn('Too few observations to estimate starting parameters%s.'\n",
      "C:\\Users\\Ania\\anaconda3\\lib\\site-packages\\statsmodels\\base\\model.py:604: ConvergenceWarning: Maximum Likelihood optimization failed to converge. Check mle_retvals\n",
      "  warnings.warn(\"Maximum Likelihood optimization failed to \"\n",
      "C:\\Users\\Ania\\anaconda3\\lib\\site-packages\\statsmodels\\tsa\\statespace\\sarimax.py:866: UserWarning: Too few observations to estimate starting parameters for seasonal ARMA. All parameters except for variances will be set to zeros.\n",
      "  warn('Too few observations to estimate starting parameters%s.'\n"
     ]
    },
    {
     "name": "stdout",
     "output_type": "stream",
     "text": [
      "SARIMAX (2, 0, 0) x (1, 0, 2, 12)12 : BIC Calculated =1233599.4324770095\n",
      "SARIMAX (2, 0, 0) x (1, 1, 0, 12)12 : BIC Calculated =2361550.686706655\n",
      "SARIMAX (2, 0, 0) x (1, 1, 1, 12)12 : BIC Calculated =2848450.2093084413\n",
      "SARIMAX (2, 0, 0) x (1, 1, 2, 12)12 : BIC Calculated =2625406.7625642084\n",
      "SARIMAX (2, 0, 0) x (1, 2, 0, 12)12 : BIC Calculated =5041823.180887933\n"
     ]
    },
    {
     "name": "stderr",
     "output_type": "stream",
     "text": [
      "C:\\Users\\Ania\\anaconda3\\lib\\site-packages\\statsmodels\\base\\model.py:604: ConvergenceWarning: Maximum Likelihood optimization failed to converge. Check mle_retvals\n",
      "  warnings.warn(\"Maximum Likelihood optimization failed to \"\n",
      "C:\\Users\\Ania\\anaconda3\\lib\\site-packages\\statsmodels\\tsa\\statespace\\sarimax.py:866: UserWarning: Too few observations to estimate starting parameters for seasonal ARMA. All parameters except for variances will be set to zeros.\n",
      "  warn('Too few observations to estimate starting parameters%s.'\n"
     ]
    },
    {
     "name": "stdout",
     "output_type": "stream",
     "text": [
      "SARIMAX (2, 0, 0) x (1, 2, 1, 12)12 : BIC Calculated =4632385.920579176\n",
      "SARIMAX (2, 0, 0) x (1, 2, 2, 12)12 : BIC Calculated =6611766.088994348\n",
      "SARIMAX (2, 0, 0) x (2, 0, 0, 12)12 : BIC Calculated =1517727.2073452892\n",
      "SARIMAX (2, 0, 0) x (2, 0, 1, 12)12 : BIC Calculated =1409439.2029181507\n"
     ]
    },
    {
     "name": "stderr",
     "output_type": "stream",
     "text": [
      "C:\\Users\\Ania\\anaconda3\\lib\\site-packages\\statsmodels\\tsa\\statespace\\sarimax.py:866: UserWarning: Too few observations to estimate starting parameters for seasonal ARMA. All parameters except for variances will be set to zeros.\n",
      "  warn('Too few observations to estimate starting parameters%s.'\n",
      "C:\\Users\\Ania\\anaconda3\\lib\\site-packages\\statsmodels\\base\\model.py:604: ConvergenceWarning: Maximum Likelihood optimization failed to converge. Check mle_retvals\n",
      "  warnings.warn(\"Maximum Likelihood optimization failed to \"\n"
     ]
    },
    {
     "name": "stdout",
     "output_type": "stream",
     "text": [
      "SARIMAX (2, 0, 0) x (2, 0, 2, 12)12 : BIC Calculated =1533866.7556230996\n",
      "SARIMAX (2, 0, 0) x (2, 1, 0, 12)12 : BIC Calculated =2331117.4483906534\n",
      "SARIMAX (2, 0, 0) x (2, 1, 1, 12)12 : BIC Calculated =2668198.153214623\n"
     ]
    },
    {
     "name": "stderr",
     "output_type": "stream",
     "text": [
      "C:\\Users\\Ania\\anaconda3\\lib\\site-packages\\statsmodels\\tsa\\statespace\\sarimax.py:866: UserWarning: Too few observations to estimate starting parameters for seasonal ARMA. All parameters except for variances will be set to zeros.\n",
      "  warn('Too few observations to estimate starting parameters%s.'\n"
     ]
    },
    {
     "name": "stdout",
     "output_type": "stream",
     "text": [
      "SARIMAX (2, 0, 0) x (2, 1, 2, 12)12 : BIC Calculated =2870650.571778713\n",
      "SARIMAX (2, 0, 0) x (2, 2, 0, 12)12 : BIC Calculated =2427953.9456611215\n",
      "SARIMAX (2, 0, 0) x (2, 2, 1, 12)12 : BIC Calculated =1340383.7880695565\n"
     ]
    },
    {
     "name": "stderr",
     "output_type": "stream",
     "text": [
      "C:\\Users\\Ania\\anaconda3\\lib\\site-packages\\statsmodels\\tsa\\statespace\\sarimax.py:866: UserWarning: Too few observations to estimate starting parameters for seasonal ARMA. All parameters except for variances will be set to zeros.\n",
      "  warn('Too few observations to estimate starting parameters%s.'\n"
     ]
    },
    {
     "name": "stdout",
     "output_type": "stream",
     "text": [
      "SARIMAX (2, 0, 0) x (2, 2, 2, 12)12 : BIC Calculated =1370656.088204192\n",
      "SARIMAX (2, 0, 1) x (0, 0, 0, 12)12 : BIC Calculated =19185772.20699941\n",
      "SARIMAX (2, 0, 1) x (0, 0, 1, 12)12 : BIC Calculated =15637918.262727514\n"
     ]
    },
    {
     "name": "stderr",
     "output_type": "stream",
     "text": [
      "C:\\Users\\Ania\\anaconda3\\lib\\site-packages\\statsmodels\\tsa\\statespace\\sarimax.py:866: UserWarning: Too few observations to estimate starting parameters for seasonal ARMA. All parameters except for variances will be set to zeros.\n",
      "  warn('Too few observations to estimate starting parameters%s.'\n",
      "C:\\Users\\Ania\\anaconda3\\lib\\site-packages\\statsmodels\\base\\model.py:604: ConvergenceWarning: Maximum Likelihood optimization failed to converge. Check mle_retvals\n",
      "  warnings.warn(\"Maximum Likelihood optimization failed to \"\n"
     ]
    },
    {
     "name": "stdout",
     "output_type": "stream",
     "text": [
      "SARIMAX (2, 0, 1) x (0, 0, 2, 12)12 : BIC Calculated =3887731.7400358\n",
      "SARIMAX (2, 0, 1) x (0, 1, 0, 12)12 : BIC Calculated =2907314.4301096415\n",
      "SARIMAX (2, 0, 1) x (0, 1, 1, 12)12 : BIC Calculated =1340234.382114551\n"
     ]
    },
    {
     "name": "stderr",
     "output_type": "stream",
     "text": [
      "C:\\Users\\Ania\\anaconda3\\lib\\site-packages\\statsmodels\\tsa\\statespace\\sarimax.py:866: UserWarning: Too few observations to estimate starting parameters for seasonal ARMA. All parameters except for variances will be set to zeros.\n",
      "  warn('Too few observations to estimate starting parameters%s.'\n"
     ]
    },
    {
     "name": "stdout",
     "output_type": "stream",
     "text": [
      "SARIMAX (2, 0, 1) x (0, 1, 2, 12)12 : BIC Calculated =1677466.6144052532\n",
      "SARIMAX (2, 0, 1) x (0, 2, 0, 12)12 : BIC Calculated =9782596.64575079\n"
     ]
    },
    {
     "name": "stderr",
     "output_type": "stream",
     "text": [
      "C:\\Users\\Ania\\anaconda3\\lib\\site-packages\\statsmodels\\base\\model.py:604: ConvergenceWarning: Maximum Likelihood optimization failed to converge. Check mle_retvals\n",
      "  warnings.warn(\"Maximum Likelihood optimization failed to \"\n",
      "C:\\Users\\Ania\\anaconda3\\lib\\site-packages\\statsmodels\\tsa\\statespace\\sarimax.py:866: UserWarning: Too few observations to estimate starting parameters for seasonal ARMA. All parameters except for variances will be set to zeros.\n",
      "  warn('Too few observations to estimate starting parameters%s.'\n"
     ]
    },
    {
     "name": "stdout",
     "output_type": "stream",
     "text": [
      "SARIMAX (2, 0, 1) x (0, 2, 1, 12)12 : BIC Calculated =9761902.02831509\n"
     ]
    },
    {
     "name": "stderr",
     "output_type": "stream",
     "text": [
      "C:\\Users\\Ania\\anaconda3\\lib\\site-packages\\statsmodels\\base\\model.py:604: ConvergenceWarning: Maximum Likelihood optimization failed to converge. Check mle_retvals\n",
      "  warnings.warn(\"Maximum Likelihood optimization failed to \"\n"
     ]
    },
    {
     "name": "stdout",
     "output_type": "stream",
     "text": [
      "SARIMAX (2, 0, 1) x (0, 2, 2, 12)12 : BIC Calculated =1591019.517097057\n"
     ]
    },
    {
     "name": "stderr",
     "output_type": "stream",
     "text": [
      "C:\\Users\\Ania\\anaconda3\\lib\\site-packages\\statsmodels\\base\\model.py:604: ConvergenceWarning: Maximum Likelihood optimization failed to converge. Check mle_retvals\n",
      "  warnings.warn(\"Maximum Likelihood optimization failed to \"\n"
     ]
    },
    {
     "name": "stdout",
     "output_type": "stream",
     "text": [
      "SARIMAX (2, 0, 1) x (1, 0, 0, 12)12 : BIC Calculated =3889433.9770601233\n"
     ]
    },
    {
     "name": "stderr",
     "output_type": "stream",
     "text": [
      "C:\\Users\\Ania\\anaconda3\\lib\\site-packages\\statsmodels\\base\\model.py:604: ConvergenceWarning: Maximum Likelihood optimization failed to converge. Check mle_retvals\n",
      "  warnings.warn(\"Maximum Likelihood optimization failed to \"\n",
      "C:\\Users\\Ania\\anaconda3\\lib\\site-packages\\statsmodels\\tsa\\statespace\\sarimax.py:866: UserWarning: Too few observations to estimate starting parameters for seasonal ARMA. All parameters except for variances will be set to zeros.\n",
      "  warn('Too few observations to estimate starting parameters%s.'\n"
     ]
    },
    {
     "name": "stdout",
     "output_type": "stream",
     "text": [
      "SARIMAX (2, 0, 1) x (1, 0, 1, 12)12 : BIC Calculated =1335018.5204396532\n",
      "SARIMAX (2, 0, 1) x (1, 0, 2, 12)12 : BIC Calculated =2167391.962351804\n",
      "SARIMAX (2, 0, 1) x (1, 1, 0, 12)12 : BIC Calculated =1438665.222671439\n",
      "SARIMAX (2, 0, 1) x (1, 1, 1, 12)12 : BIC Calculated =1202712.7278972878\n"
     ]
    },
    {
     "name": "stderr",
     "output_type": "stream",
     "text": [
      "C:\\Users\\Ania\\anaconda3\\lib\\site-packages\\statsmodels\\tsa\\statespace\\sarimax.py:866: UserWarning: Too few observations to estimate starting parameters for seasonal ARMA. All parameters except for variances will be set to zeros.\n",
      "  warn('Too few observations to estimate starting parameters%s.'\n",
      "C:\\Users\\Ania\\anaconda3\\lib\\site-packages\\statsmodels\\base\\model.py:604: ConvergenceWarning: Maximum Likelihood optimization failed to converge. Check mle_retvals\n",
      "  warnings.warn(\"Maximum Likelihood optimization failed to \"\n"
     ]
    },
    {
     "name": "stdout",
     "output_type": "stream",
     "text": [
      "SARIMAX (2, 0, 1) x (1, 1, 2, 12)12 : BIC Calculated =1686776.505457881\n",
      "SARIMAX (2, 0, 1) x (1, 2, 0, 12)12 : BIC Calculated =5070523.934712256\n"
     ]
    },
    {
     "name": "stderr",
     "output_type": "stream",
     "text": [
      "C:\\Users\\Ania\\anaconda3\\lib\\site-packages\\statsmodels\\base\\model.py:604: ConvergenceWarning: Maximum Likelihood optimization failed to converge. Check mle_retvals\n",
      "  warnings.warn(\"Maximum Likelihood optimization failed to \"\n",
      "C:\\Users\\Ania\\anaconda3\\lib\\site-packages\\statsmodels\\tsa\\statespace\\sarimax.py:866: UserWarning: Too few observations to estimate starting parameters for seasonal ARMA. All parameters except for variances will be set to zeros.\n",
      "  warn('Too few observations to estimate starting parameters%s.'\n"
     ]
    },
    {
     "name": "stdout",
     "output_type": "stream",
     "text": [
      "SARIMAX (2, 0, 1) x (1, 2, 1, 12)12 : BIC Calculated =4581200.701148972\n",
      "SARIMAX (2, 0, 1) x (1, 2, 2, 12)12 : BIC Calculated =1617633.8530327198\n",
      "SARIMAX (2, 0, 1) x (2, 0, 0, 12)12 : BIC Calculated =1526359.2441813557\n"
     ]
    },
    {
     "name": "stderr",
     "output_type": "stream",
     "text": [
      "C:\\Users\\Ania\\anaconda3\\lib\\site-packages\\statsmodels\\base\\model.py:604: ConvergenceWarning: Maximum Likelihood optimization failed to converge. Check mle_retvals\n",
      "  warnings.warn(\"Maximum Likelihood optimization failed to \"\n",
      "C:\\Users\\Ania\\anaconda3\\lib\\site-packages\\statsmodels\\tsa\\statespace\\sarimax.py:866: UserWarning: Too few observations to estimate starting parameters for seasonal ARMA. All parameters except for variances will be set to zeros.\n",
      "  warn('Too few observations to estimate starting parameters%s.'\n"
     ]
    },
    {
     "name": "stdout",
     "output_type": "stream",
     "text": [
      "SARIMAX (2, 0, 1) x (2, 0, 1, 12)12 : BIC Calculated =1836623.2358990554\n"
     ]
    },
    {
     "name": "stderr",
     "output_type": "stream",
     "text": [
      "C:\\Users\\Ania\\anaconda3\\lib\\site-packages\\statsmodels\\base\\model.py:604: ConvergenceWarning: Maximum Likelihood optimization failed to converge. Check mle_retvals\n",
      "  warnings.warn(\"Maximum Likelihood optimization failed to \"\n"
     ]
    },
    {
     "name": "stdout",
     "output_type": "stream",
     "text": [
      "SARIMAX (2, 0, 1) x (2, 0, 2, 12)12 : BIC Calculated =1512032.271023122\n",
      "SARIMAX (2, 0, 1) x (2, 1, 0, 12)12 : BIC Calculated =1488163.0391516327\n",
      "SARIMAX (2, 0, 1) x (2, 1, 1, 12)12 : BIC Calculated =2546523.9275193745\n"
     ]
    },
    {
     "name": "stderr",
     "output_type": "stream",
     "text": [
      "C:\\Users\\Ania\\anaconda3\\lib\\site-packages\\statsmodels\\tsa\\statespace\\sarimax.py:866: UserWarning: Too few observations to estimate starting parameters for seasonal ARMA. All parameters except for variances will be set to zeros.\n",
      "  warn('Too few observations to estimate starting parameters%s.'\n",
      "C:\\Users\\Ania\\anaconda3\\lib\\site-packages\\statsmodels\\base\\model.py:604: ConvergenceWarning: Maximum Likelihood optimization failed to converge. Check mle_retvals\n",
      "  warnings.warn(\"Maximum Likelihood optimization failed to \"\n"
     ]
    },
    {
     "name": "stdout",
     "output_type": "stream",
     "text": [
      "SARIMAX (2, 0, 1) x (2, 1, 2, 12)12 : BIC Calculated =2496277.513456785\n",
      "SARIMAX (2, 0, 1) x (2, 2, 0, 12)12 : BIC Calculated =1943439.557867017\n"
     ]
    },
    {
     "name": "stderr",
     "output_type": "stream",
     "text": [
      "C:\\Users\\Ania\\anaconda3\\lib\\site-packages\\statsmodels\\base\\model.py:604: ConvergenceWarning: Maximum Likelihood optimization failed to converge. Check mle_retvals\n",
      "  warnings.warn(\"Maximum Likelihood optimization failed to \"\n",
      "C:\\Users\\Ania\\anaconda3\\lib\\site-packages\\statsmodels\\tsa\\statespace\\sarimax.py:866: UserWarning: Too few observations to estimate starting parameters for seasonal ARMA. All parameters except for variances will be set to zeros.\n",
      "  warn('Too few observations to estimate starting parameters%s.'\n"
     ]
    },
    {
     "name": "stdout",
     "output_type": "stream",
     "text": [
      "SARIMAX (2, 0, 1) x (2, 2, 1, 12)12 : BIC Calculated =1096484.8461815617\n"
     ]
    },
    {
     "name": "stderr",
     "output_type": "stream",
     "text": [
      "C:\\Users\\Ania\\anaconda3\\lib\\site-packages\\statsmodels\\base\\model.py:604: ConvergenceWarning: Maximum Likelihood optimization failed to converge. Check mle_retvals\n",
      "  warnings.warn(\"Maximum Likelihood optimization failed to \"\n"
     ]
    },
    {
     "name": "stdout",
     "output_type": "stream",
     "text": [
      "SARIMAX (2, 0, 1) x (2, 2, 2, 12)12 : BIC Calculated =1389295.9791967468\n",
      "SARIMAX (2, 0, 2) x (0, 0, 0, 12)12 : BIC Calculated =18631820.623710074\n",
      "SARIMAX (2, 0, 2) x (0, 0, 1, 12)12 : BIC Calculated =15480354.67991704\n"
     ]
    },
    {
     "name": "stderr",
     "output_type": "stream",
     "text": [
      "C:\\Users\\Ania\\anaconda3\\lib\\site-packages\\statsmodels\\tsa\\statespace\\sarimax.py:866: UserWarning: Too few observations to estimate starting parameters for seasonal ARMA. All parameters except for variances will be set to zeros.\n",
      "  warn('Too few observations to estimate starting parameters%s.'\n"
     ]
    },
    {
     "name": "stdout",
     "output_type": "stream",
     "text": [
      "SARIMAX (2, 0, 2) x (0, 0, 2, 12)12 : BIC Calculated =8795646.931720508\n",
      "SARIMAX (2, 0, 2) x (0, 1, 0, 12)12 : BIC Calculated =2732733.2254109513\n",
      "SARIMAX (2, 0, 2) x (0, 1, 1, 12)12 : BIC Calculated =1377866.9266351983\n"
     ]
    },
    {
     "name": "stderr",
     "output_type": "stream",
     "text": [
      "C:\\Users\\Ania\\anaconda3\\lib\\site-packages\\statsmodels\\tsa\\statespace\\sarimax.py:866: UserWarning: Too few observations to estimate starting parameters for seasonal ARMA. All parameters except for variances will be set to zeros.\n",
      "  warn('Too few observations to estimate starting parameters%s.'\n",
      "C:\\Users\\Ania\\anaconda3\\lib\\site-packages\\statsmodels\\base\\model.py:604: ConvergenceWarning: Maximum Likelihood optimization failed to converge. Check mle_retvals\n",
      "  warnings.warn(\"Maximum Likelihood optimization failed to \"\n"
     ]
    },
    {
     "name": "stdout",
     "output_type": "stream",
     "text": [
      "SARIMAX (2, 0, 2) x (0, 1, 2, 12)12 : BIC Calculated =1637452.0113982805\n",
      "SARIMAX (2, 0, 2) x (0, 2, 0, 12)12 : BIC Calculated =10162952.044935262\n"
     ]
    },
    {
     "name": "stderr",
     "output_type": "stream",
     "text": [
      "C:\\Users\\Ania\\anaconda3\\lib\\site-packages\\statsmodels\\base\\model.py:604: ConvergenceWarning: Maximum Likelihood optimization failed to converge. Check mle_retvals\n",
      "  warnings.warn(\"Maximum Likelihood optimization failed to \"\n",
      "C:\\Users\\Ania\\anaconda3\\lib\\site-packages\\statsmodels\\tsa\\statespace\\sarimax.py:866: UserWarning: Too few observations to estimate starting parameters for seasonal ARMA. All parameters except for variances will be set to zeros.\n",
      "  warn('Too few observations to estimate starting parameters%s.'\n"
     ]
    },
    {
     "name": "stdout",
     "output_type": "stream",
     "text": [
      "SARIMAX (2, 0, 2) x (0, 2, 1, 12)12 : BIC Calculated =1.3274807247922764e+46\n"
     ]
    },
    {
     "name": "stderr",
     "output_type": "stream",
     "text": [
      "C:\\Users\\Ania\\anaconda3\\lib\\site-packages\\statsmodels\\base\\model.py:604: ConvergenceWarning: Maximum Likelihood optimization failed to converge. Check mle_retvals\n",
      "  warnings.warn(\"Maximum Likelihood optimization failed to \"\n"
     ]
    },
    {
     "name": "stdout",
     "output_type": "stream",
     "text": [
      "SARIMAX (2, 0, 2) x (0, 2, 2, 12)12 : BIC Calculated =1519318.0892081265\n"
     ]
    },
    {
     "name": "stderr",
     "output_type": "stream",
     "text": [
      "C:\\Users\\Ania\\anaconda3\\lib\\site-packages\\statsmodels\\base\\model.py:604: ConvergenceWarning: Maximum Likelihood optimization failed to converge. Check mle_retvals\n",
      "  warnings.warn(\"Maximum Likelihood optimization failed to \"\n"
     ]
    },
    {
     "name": "stdout",
     "output_type": "stream",
     "text": [
      "SARIMAX (2, 0, 2) x (1, 0, 0, 12)12 : BIC Calculated =2479241.818527801\n"
     ]
    },
    {
     "name": "stderr",
     "output_type": "stream",
     "text": [
      "C:\\Users\\Ania\\anaconda3\\lib\\site-packages\\statsmodels\\base\\model.py:604: ConvergenceWarning: Maximum Likelihood optimization failed to converge. Check mle_retvals\n",
      "  warnings.warn(\"Maximum Likelihood optimization failed to \"\n",
      "C:\\Users\\Ania\\anaconda3\\lib\\site-packages\\statsmodels\\tsa\\statespace\\sarimax.py:866: UserWarning: Too few observations to estimate starting parameters for seasonal ARMA. All parameters except for variances will be set to zeros.\n",
      "  warn('Too few observations to estimate starting parameters%s.'\n"
     ]
    },
    {
     "name": "stdout",
     "output_type": "stream",
     "text": [
      "SARIMAX (2, 0, 2) x (1, 0, 1, 12)12 : BIC Calculated =1408621.0149258685\n"
     ]
    },
    {
     "name": "stderr",
     "output_type": "stream",
     "text": [
      "C:\\Users\\Ania\\anaconda3\\lib\\site-packages\\statsmodels\\base\\model.py:604: ConvergenceWarning: Maximum Likelihood optimization failed to converge. Check mle_retvals\n",
      "  warnings.warn(\"Maximum Likelihood optimization failed to \"\n"
     ]
    },
    {
     "name": "stdout",
     "output_type": "stream",
     "text": [
      "SARIMAX (2, 0, 2) x (1, 0, 2, 12)12 : BIC Calculated =1412208.9691971317\n",
      "SARIMAX (2, 0, 2) x (1, 1, 0, 12)12 : BIC Calculated =1414443.2575371978\n"
     ]
    },
    {
     "name": "stderr",
     "output_type": "stream",
     "text": [
      "C:\\Users\\Ania\\anaconda3\\lib\\site-packages\\statsmodels\\base\\model.py:604: ConvergenceWarning: Maximum Likelihood optimization failed to converge. Check mle_retvals\n",
      "  warnings.warn(\"Maximum Likelihood optimization failed to \"\n",
      "C:\\Users\\Ania\\anaconda3\\lib\\site-packages\\statsmodels\\tsa\\statespace\\sarimax.py:866: UserWarning: Too few observations to estimate starting parameters for seasonal ARMA. All parameters except for variances will be set to zeros.\n",
      "  warn('Too few observations to estimate starting parameters%s.'\n"
     ]
    },
    {
     "name": "stdout",
     "output_type": "stream",
     "text": [
      "SARIMAX (2, 0, 2) x (1, 1, 1, 12)12 : BIC Calculated =1220159.701248449\n"
     ]
    },
    {
     "name": "stderr",
     "output_type": "stream",
     "text": [
      "C:\\Users\\Ania\\anaconda3\\lib\\site-packages\\statsmodels\\base\\model.py:604: ConvergenceWarning: Maximum Likelihood optimization failed to converge. Check mle_retvals\n",
      "  warnings.warn(\"Maximum Likelihood optimization failed to \"\n"
     ]
    },
    {
     "name": "stdout",
     "output_type": "stream",
     "text": [
      "SARIMAX (2, 0, 2) x (1, 1, 2, 12)12 : BIC Calculated =1624438.123697566\n",
      "SARIMAX (2, 0, 2) x (1, 2, 0, 12)12 : BIC Calculated =5040362.339178461\n"
     ]
    },
    {
     "name": "stderr",
     "output_type": "stream",
     "text": [
      "C:\\Users\\Ania\\anaconda3\\lib\\site-packages\\statsmodels\\base\\model.py:604: ConvergenceWarning: Maximum Likelihood optimization failed to converge. Check mle_retvals\n",
      "  warnings.warn(\"Maximum Likelihood optimization failed to \"\n",
      "C:\\Users\\Ania\\anaconda3\\lib\\site-packages\\statsmodels\\tsa\\statespace\\sarimax.py:866: UserWarning: Too few observations to estimate starting parameters for seasonal ARMA. All parameters except for variances will be set to zeros.\n",
      "  warn('Too few observations to estimate starting parameters%s.'\n"
     ]
    },
    {
     "name": "stdout",
     "output_type": "stream",
     "text": [
      "SARIMAX (2, 0, 2) x (1, 2, 1, 12)12 : BIC Calculated =7.345324373981968e+46\n"
     ]
    },
    {
     "name": "stderr",
     "output_type": "stream",
     "text": [
      "C:\\Users\\Ania\\anaconda3\\lib\\site-packages\\statsmodels\\base\\model.py:604: ConvergenceWarning: Maximum Likelihood optimization failed to converge. Check mle_retvals\n",
      "  warnings.warn(\"Maximum Likelihood optimization failed to \"\n"
     ]
    },
    {
     "name": "stdout",
     "output_type": "stream",
     "text": [
      "SARIMAX (2, 0, 2) x (1, 2, 2, 12)12 : BIC Calculated =2113609.129284791\n"
     ]
    },
    {
     "name": "stderr",
     "output_type": "stream",
     "text": [
      "C:\\Users\\Ania\\anaconda3\\lib\\site-packages\\statsmodels\\base\\model.py:604: ConvergenceWarning: Maximum Likelihood optimization failed to converge. Check mle_retvals\n",
      "  warnings.warn(\"Maximum Likelihood optimization failed to \"\n"
     ]
    },
    {
     "name": "stdout",
     "output_type": "stream",
     "text": [
      "SARIMAX (2, 0, 2) x (2, 0, 0, 12)12 : BIC Calculated =1825126.2128779965\n",
      "SARIMAX (2, 0, 2) x (2, 0, 1, 12)12 : BIC Calculated =1417487.4431682064\n"
     ]
    },
    {
     "name": "stderr",
     "output_type": "stream",
     "text": [
      "C:\\Users\\Ania\\anaconda3\\lib\\site-packages\\statsmodels\\tsa\\statespace\\sarimax.py:866: UserWarning: Too few observations to estimate starting parameters for seasonal ARMA. All parameters except for variances will be set to zeros.\n",
      "  warn('Too few observations to estimate starting parameters%s.'\n",
      "C:\\Users\\Ania\\anaconda3\\lib\\site-packages\\statsmodels\\base\\model.py:604: ConvergenceWarning: Maximum Likelihood optimization failed to converge. Check mle_retvals\n",
      "  warnings.warn(\"Maximum Likelihood optimization failed to \"\n"
     ]
    },
    {
     "name": "stdout",
     "output_type": "stream",
     "text": [
      "SARIMAX (2, 0, 2) x (2, 0, 2, 12)12 : BIC Calculated =1955989.4276201623\n"
     ]
    },
    {
     "name": "stderr",
     "output_type": "stream",
     "text": [
      "C:\\Users\\Ania\\anaconda3\\lib\\site-packages\\statsmodels\\base\\model.py:604: ConvergenceWarning: Maximum Likelihood optimization failed to converge. Check mle_retvals\n",
      "  warnings.warn(\"Maximum Likelihood optimization failed to \"\n"
     ]
    },
    {
     "name": "stdout",
     "output_type": "stream",
     "text": [
      "SARIMAX (2, 0, 2) x (2, 1, 0, 12)12 : BIC Calculated =1462665.9934605057\n"
     ]
    },
    {
     "name": "stderr",
     "output_type": "stream",
     "text": [
      "C:\\Users\\Ania\\anaconda3\\lib\\site-packages\\statsmodels\\base\\model.py:604: ConvergenceWarning: Maximum Likelihood optimization failed to converge. Check mle_retvals\n",
      "  warnings.warn(\"Maximum Likelihood optimization failed to \"\n",
      "C:\\Users\\Ania\\anaconda3\\lib\\site-packages\\statsmodels\\tsa\\statespace\\sarimax.py:866: UserWarning: Too few observations to estimate starting parameters for seasonal ARMA. All parameters except for variances will be set to zeros.\n",
      "  warn('Too few observations to estimate starting parameters%s.'\n"
     ]
    },
    {
     "name": "stdout",
     "output_type": "stream",
     "text": [
      "SARIMAX (2, 0, 2) x (2, 1, 1, 12)12 : BIC Calculated =2540073.370652426\n"
     ]
    },
    {
     "name": "stderr",
     "output_type": "stream",
     "text": [
      "C:\\Users\\Ania\\anaconda3\\lib\\site-packages\\statsmodels\\base\\model.py:604: ConvergenceWarning: Maximum Likelihood optimization failed to converge. Check mle_retvals\n",
      "  warnings.warn(\"Maximum Likelihood optimization failed to \"\n"
     ]
    },
    {
     "name": "stdout",
     "output_type": "stream",
     "text": [
      "SARIMAX (2, 0, 2) x (2, 1, 2, 12)12 : BIC Calculated =2456718.0828896035\n",
      "SARIMAX (2, 0, 2) x (2, 2, 0, 12)12 : BIC Calculated =2036562.3957156248\n"
     ]
    },
    {
     "name": "stderr",
     "output_type": "stream",
     "text": [
      "C:\\Users\\Ania\\anaconda3\\lib\\site-packages\\statsmodels\\base\\model.py:604: ConvergenceWarning: Maximum Likelihood optimization failed to converge. Check mle_retvals\n",
      "  warnings.warn(\"Maximum Likelihood optimization failed to \"\n",
      "C:\\Users\\Ania\\anaconda3\\lib\\site-packages\\statsmodels\\tsa\\statespace\\sarimax.py:866: UserWarning: Too few observations to estimate starting parameters for seasonal ARMA. All parameters except for variances will be set to zeros.\n",
      "  warn('Too few observations to estimate starting parameters%s.'\n"
     ]
    },
    {
     "name": "stdout",
     "output_type": "stream",
     "text": [
      "SARIMAX (2, 0, 2) x (2, 2, 1, 12)12 : BIC Calculated =2233033.5021649045\n"
     ]
    },
    {
     "name": "stderr",
     "output_type": "stream",
     "text": [
      "C:\\Users\\Ania\\anaconda3\\lib\\site-packages\\statsmodels\\base\\model.py:604: ConvergenceWarning: Maximum Likelihood optimization failed to converge. Check mle_retvals\n",
      "  warnings.warn(\"Maximum Likelihood optimization failed to \"\n"
     ]
    },
    {
     "name": "stdout",
     "output_type": "stream",
     "text": [
      "SARIMAX (2, 0, 2) x (2, 2, 2, 12)12 : BIC Calculated =1400304.0203589033\n",
      "SARIMAX (2, 1, 0) x (0, 0, 0, 12)12 : BIC Calculated =9329975.606472878\n",
      "SARIMAX (2, 1, 0) x (0, 0, 1, 12)12 : BIC Calculated =9634937.519370956\n"
     ]
    },
    {
     "name": "stderr",
     "output_type": "stream",
     "text": [
      "C:\\Users\\Ania\\anaconda3\\lib\\site-packages\\statsmodels\\tsa\\statespace\\sarimax.py:866: UserWarning: Too few observations to estimate starting parameters for seasonal ARMA. All parameters except for variances will be set to zeros.\n",
      "  warn('Too few observations to estimate starting parameters%s.'\n"
     ]
    },
    {
     "name": "stdout",
     "output_type": "stream",
     "text": [
      "SARIMAX (2, 1, 0) x (0, 0, 2, 12)12 : BIC Calculated =4690334.901381122\n",
      "SARIMAX (2, 1, 0) x (0, 1, 0, 12)12 : BIC Calculated =2166145.9017892582\n",
      "SARIMAX (2, 1, 0) x (0, 1, 1, 12)12 : BIC Calculated =1333003.8598898575\n"
     ]
    },
    {
     "name": "stderr",
     "output_type": "stream",
     "text": [
      "C:\\Users\\Ania\\anaconda3\\lib\\site-packages\\statsmodels\\tsa\\statespace\\sarimax.py:866: UserWarning: Too few observations to estimate starting parameters for seasonal ARMA. All parameters except for variances will be set to zeros.\n",
      "  warn('Too few observations to estimate starting parameters%s.'\n"
     ]
    },
    {
     "name": "stdout",
     "output_type": "stream",
     "text": [
      "SARIMAX (2, 1, 0) x (0, 1, 2, 12)12 : BIC Calculated =1194945.089953349\n",
      "SARIMAX (2, 1, 0) x (0, 2, 0, 12)12 : BIC Calculated =10354250.235648006\n",
      "SARIMAX (2, 1, 0) x (0, 2, 1, 12)12 : BIC Calculated =2899160.425561508\n"
     ]
    },
    {
     "name": "stderr",
     "output_type": "stream",
     "text": [
      "C:\\Users\\Ania\\anaconda3\\lib\\site-packages\\statsmodels\\tsa\\statespace\\sarimax.py:866: UserWarning: Too few observations to estimate starting parameters for seasonal ARMA. All parameters except for variances will be set to zeros.\n",
      "  warn('Too few observations to estimate starting parameters%s.'\n"
     ]
    },
    {
     "name": "stdout",
     "output_type": "stream",
     "text": [
      "SARIMAX (2, 1, 0) x (0, 2, 2, 12)12 : BIC Calculated =1986464.2632022307\n",
      "SARIMAX (2, 1, 0) x (1, 0, 0, 12)12 : BIC Calculated =3010085.6405421547\n",
      "SARIMAX (2, 1, 0) x (1, 0, 1, 12)12 : BIC Calculated =1272990.0012787026\n"
     ]
    },
    {
     "name": "stderr",
     "output_type": "stream",
     "text": [
      "C:\\Users\\Ania\\anaconda3\\lib\\site-packages\\statsmodels\\tsa\\statespace\\sarimax.py:866: UserWarning: Too few observations to estimate starting parameters for seasonal ARMA. All parameters except for variances will be set to zeros.\n",
      "  warn('Too few observations to estimate starting parameters%s.'\n"
     ]
    },
    {
     "name": "stdout",
     "output_type": "stream",
     "text": [
      "SARIMAX (2, 1, 0) x (1, 0, 2, 12)12 : BIC Calculated =1164416.233798529\n",
      "SARIMAX (2, 1, 0) x (1, 1, 0, 12)12 : BIC Calculated =1474988.6250291578\n",
      "SARIMAX (2, 1, 0) x (1, 1, 1, 12)12 : BIC Calculated =1337835.5832830663\n"
     ]
    },
    {
     "name": "stderr",
     "output_type": "stream",
     "text": [
      "C:\\Users\\Ania\\anaconda3\\lib\\site-packages\\statsmodels\\tsa\\statespace\\sarimax.py:866: UserWarning: Too few observations to estimate starting parameters for seasonal ARMA. All parameters except for variances will be set to zeros.\n",
      "  warn('Too few observations to estimate starting parameters%s.'\n"
     ]
    },
    {
     "name": "stdout",
     "output_type": "stream",
     "text": [
      "SARIMAX (2, 1, 0) x (1, 1, 2, 12)12 : BIC Calculated =1364680.4335632774\n",
      "SARIMAX (2, 1, 0) x (1, 2, 0, 12)12 : BIC Calculated =5471777.91128569\n",
      "SARIMAX (2, 1, 0) x (1, 2, 1, 12)12 : BIC Calculated =2433875.045217579\n"
     ]
    },
    {
     "name": "stderr",
     "output_type": "stream",
     "text": [
      "C:\\Users\\Ania\\anaconda3\\lib\\site-packages\\statsmodels\\tsa\\statespace\\sarimax.py:866: UserWarning: Too few observations to estimate starting parameters for seasonal ARMA. All parameters except for variances will be set to zeros.\n",
      "  warn('Too few observations to estimate starting parameters%s.'\n"
     ]
    },
    {
     "name": "stdout",
     "output_type": "stream",
     "text": [
      "SARIMAX (2, 1, 0) x (1, 2, 2, 12)12 : BIC Calculated =2254490.3435182995\n",
      "SARIMAX (2, 1, 0) x (2, 0, 0, 12)12 : BIC Calculated =1448323.3809485782\n",
      "SARIMAX (2, 1, 0) x (2, 0, 1, 12)12 : BIC Calculated =1254890.5851405044\n"
     ]
    },
    {
     "name": "stderr",
     "output_type": "stream",
     "text": [
      "C:\\Users\\Ania\\anaconda3\\lib\\site-packages\\statsmodels\\tsa\\statespace\\sarimax.py:866: UserWarning: Too few observations to estimate starting parameters for seasonal ARMA. All parameters except for variances will be set to zeros.\n",
      "  warn('Too few observations to estimate starting parameters%s.'\n"
     ]
    },
    {
     "name": "stdout",
     "output_type": "stream",
     "text": [
      "SARIMAX (2, 1, 0) x (2, 0, 2, 12)12 : BIC Calculated =1407891.921842862\n",
      "SARIMAX (2, 1, 0) x (2, 1, 0, 12)12 : BIC Calculated =1291550.5893637477\n",
      "SARIMAX (2, 1, 0) x (2, 1, 1, 12)12 : BIC Calculated =2296280.068669089\n"
     ]
    },
    {
     "name": "stderr",
     "output_type": "stream",
     "text": [
      "C:\\Users\\Ania\\anaconda3\\lib\\site-packages\\statsmodels\\tsa\\statespace\\sarimax.py:866: UserWarning: Too few observations to estimate starting parameters for seasonal ARMA. All parameters except for variances will be set to zeros.\n",
      "  warn('Too few observations to estimate starting parameters%s.'\n"
     ]
    },
    {
     "name": "stdout",
     "output_type": "stream",
     "text": [
      "SARIMAX (2, 1, 0) x (2, 1, 2, 12)12 : BIC Calculated =1784988.9006471839\n",
      "SARIMAX (2, 1, 0) x (2, 2, 0, 12)12 : BIC Calculated =2006417.8234163169\n",
      "SARIMAX (2, 1, 0) x (2, 2, 1, 12)12 : BIC Calculated =1391078.6900936826\n"
     ]
    },
    {
     "name": "stderr",
     "output_type": "stream",
     "text": [
      "C:\\Users\\Ania\\anaconda3\\lib\\site-packages\\statsmodels\\tsa\\statespace\\sarimax.py:866: UserWarning: Too few observations to estimate starting parameters for seasonal ARMA. All parameters except for variances will be set to zeros.\n",
      "  warn('Too few observations to estimate starting parameters%s.'\n",
      "C:\\Users\\Ania\\anaconda3\\lib\\site-packages\\statsmodels\\base\\model.py:604: ConvergenceWarning: Maximum Likelihood optimization failed to converge. Check mle_retvals\n",
      "  warnings.warn(\"Maximum Likelihood optimization failed to \"\n"
     ]
    },
    {
     "name": "stdout",
     "output_type": "stream",
     "text": [
      "SARIMAX (2, 1, 0) x (2, 2, 2, 12)12 : BIC Calculated =1634123.506665561\n",
      "SARIMAX (2, 1, 1) x (0, 0, 0, 12)12 : BIC Calculated =9325220.40612477\n",
      "SARIMAX (2, 1, 1) x (0, 0, 1, 12)12 : BIC Calculated =9816997.276352234\n"
     ]
    },
    {
     "name": "stderr",
     "output_type": "stream",
     "text": [
      "C:\\Users\\Ania\\anaconda3\\lib\\site-packages\\statsmodels\\tsa\\statespace\\sarimax.py:866: UserWarning: Too few observations to estimate starting parameters for seasonal ARMA. All parameters except for variances will be set to zeros.\n",
      "  warn('Too few observations to estimate starting parameters%s.'\n"
     ]
    },
    {
     "name": "stdout",
     "output_type": "stream",
     "text": [
      "SARIMAX (2, 1, 1) x (0, 0, 2, 12)12 : BIC Calculated =5743591.930828567\n",
      "SARIMAX (2, 1, 1) x (0, 1, 0, 12)12 : BIC Calculated =2289985.5799326506\n",
      "SARIMAX (2, 1, 1) x (0, 1, 1, 12)12 : BIC Calculated =1441211.0224565882\n"
     ]
    },
    {
     "name": "stderr",
     "output_type": "stream",
     "text": [
      "C:\\Users\\Ania\\anaconda3\\lib\\site-packages\\statsmodels\\tsa\\statespace\\sarimax.py:866: UserWarning: Too few observations to estimate starting parameters for seasonal ARMA. All parameters except for variances will be set to zeros.\n",
      "  warn('Too few observations to estimate starting parameters%s.'\n",
      "C:\\Users\\Ania\\anaconda3\\lib\\site-packages\\statsmodels\\base\\model.py:604: ConvergenceWarning: Maximum Likelihood optimization failed to converge. Check mle_retvals\n",
      "  warnings.warn(\"Maximum Likelihood optimization failed to \"\n"
     ]
    },
    {
     "name": "stdout",
     "output_type": "stream",
     "text": [
      "SARIMAX (2, 1, 1) x (0, 1, 2, 12)12 : BIC Calculated =1306090.204410245\n",
      "SARIMAX (2, 1, 1) x (0, 2, 0, 12)12 : BIC Calculated =10143624.486398362\n",
      "SARIMAX (2, 1, 1) x (0, 2, 1, 12)12 : BIC Calculated =2593572.2528219414\n"
     ]
    },
    {
     "name": "stderr",
     "output_type": "stream",
     "text": [
      "C:\\Users\\Ania\\anaconda3\\lib\\site-packages\\statsmodels\\tsa\\statespace\\sarimax.py:866: UserWarning: Too few observations to estimate starting parameters for seasonal ARMA. All parameters except for variances will be set to zeros.\n",
      "  warn('Too few observations to estimate starting parameters%s.'\n"
     ]
    },
    {
     "name": "stdout",
     "output_type": "stream",
     "text": [
      "SARIMAX (2, 1, 1) x (0, 2, 2, 12)12 : BIC Calculated =1698168.778763095\n",
      "SARIMAX (2, 1, 1) x (1, 0, 0, 12)12 : BIC Calculated =3329119.7522048056\n",
      "SARIMAX (2, 1, 1) x (1, 0, 1, 12)12 : BIC Calculated =1229174.6809925104\n"
     ]
    },
    {
     "name": "stderr",
     "output_type": "stream",
     "text": [
      "C:\\Users\\Ania\\anaconda3\\lib\\site-packages\\statsmodels\\tsa\\statespace\\sarimax.py:866: UserWarning: Too few observations to estimate starting parameters for seasonal ARMA. All parameters except for variances will be set to zeros.\n",
      "  warn('Too few observations to estimate starting parameters%s.'\n",
      "C:\\Users\\Ania\\anaconda3\\lib\\site-packages\\statsmodels\\base\\model.py:604: ConvergenceWarning: Maximum Likelihood optimization failed to converge. Check mle_retvals\n",
      "  warnings.warn(\"Maximum Likelihood optimization failed to \"\n"
     ]
    },
    {
     "name": "stdout",
     "output_type": "stream",
     "text": [
      "SARIMAX (2, 1, 1) x (1, 0, 2, 12)12 : BIC Calculated =1147806.921506807\n",
      "SARIMAX (2, 1, 1) x (1, 1, 0, 12)12 : BIC Calculated =1366213.0284844625\n",
      "SARIMAX (2, 1, 1) x (1, 1, 1, 12)12 : BIC Calculated =1242270.379606102\n"
     ]
    },
    {
     "name": "stderr",
     "output_type": "stream",
     "text": [
      "C:\\Users\\Ania\\anaconda3\\lib\\site-packages\\statsmodels\\tsa\\statespace\\sarimax.py:866: UserWarning: Too few observations to estimate starting parameters for seasonal ARMA. All parameters except for variances will be set to zeros.\n",
      "  warn('Too few observations to estimate starting parameters%s.'\n",
      "C:\\Users\\Ania\\anaconda3\\lib\\site-packages\\statsmodels\\base\\model.py:604: ConvergenceWarning: Maximum Likelihood optimization failed to converge. Check mle_retvals\n",
      "  warnings.warn(\"Maximum Likelihood optimization failed to \"\n"
     ]
    },
    {
     "name": "stdout",
     "output_type": "stream",
     "text": [
      "SARIMAX (2, 1, 1) x (1, 1, 2, 12)12 : BIC Calculated =1304580.066461761\n",
      "SARIMAX (2, 1, 1) x (1, 2, 0, 12)12 : BIC Calculated =5171761.313921138\n",
      "SARIMAX (2, 1, 1) x (1, 2, 1, 12)12 : BIC Calculated =1587080.5546198948\n"
     ]
    },
    {
     "name": "stderr",
     "output_type": "stream",
     "text": [
      "C:\\Users\\Ania\\anaconda3\\lib\\site-packages\\statsmodels\\tsa\\statespace\\sarimax.py:866: UserWarning: Too few observations to estimate starting parameters for seasonal ARMA. All parameters except for variances will be set to zeros.\n",
      "  warn('Too few observations to estimate starting parameters%s.'\n",
      "C:\\Users\\Ania\\anaconda3\\lib\\site-packages\\statsmodels\\base\\model.py:604: ConvergenceWarning: Maximum Likelihood optimization failed to converge. Check mle_retvals\n",
      "  warnings.warn(\"Maximum Likelihood optimization failed to \"\n"
     ]
    },
    {
     "name": "stdout",
     "output_type": "stream",
     "text": [
      "SARIMAX (2, 1, 1) x (1, 2, 2, 12)12 : BIC Calculated =1179778.3806982092\n",
      "SARIMAX (2, 1, 1) x (2, 0, 0, 12)12 : BIC Calculated =1522093.4243511877\n",
      "SARIMAX (2, 1, 1) x (2, 0, 1, 12)12 : BIC Calculated =1113859.127905835\n"
     ]
    },
    {
     "name": "stderr",
     "output_type": "stream",
     "text": [
      "C:\\Users\\Ania\\anaconda3\\lib\\site-packages\\statsmodels\\tsa\\statespace\\sarimax.py:866: UserWarning: Too few observations to estimate starting parameters for seasonal ARMA. All parameters except for variances will be set to zeros.\n",
      "  warn('Too few observations to estimate starting parameters%s.'\n",
      "C:\\Users\\Ania\\anaconda3\\lib\\site-packages\\statsmodels\\base\\model.py:604: ConvergenceWarning: Maximum Likelihood optimization failed to converge. Check mle_retvals\n",
      "  warnings.warn(\"Maximum Likelihood optimization failed to \"\n"
     ]
    },
    {
     "name": "stdout",
     "output_type": "stream",
     "text": [
      "SARIMAX (2, 1, 1) x (2, 0, 2, 12)12 : BIC Calculated =1413995.4585371173\n",
      "SARIMAX (2, 1, 1) x (2, 1, 0, 12)12 : BIC Calculated =1157056.5774651319\n",
      "SARIMAX (2, 1, 1) x (2, 1, 1, 12)12 : BIC Calculated =1922555.4938947344\n"
     ]
    },
    {
     "name": "stderr",
     "output_type": "stream",
     "text": [
      "C:\\Users\\Ania\\anaconda3\\lib\\site-packages\\statsmodels\\tsa\\statespace\\sarimax.py:866: UserWarning: Too few observations to estimate starting parameters for seasonal ARMA. All parameters except for variances will be set to zeros.\n",
      "  warn('Too few observations to estimate starting parameters%s.'\n"
     ]
    },
    {
     "name": "stdout",
     "output_type": "stream",
     "text": [
      "SARIMAX (2, 1, 1) x (2, 1, 2, 12)12 : BIC Calculated =2201833.9214764945\n",
      "SARIMAX (2, 1, 1) x (2, 2, 0, 12)12 : BIC Calculated =2477629.3613280393\n",
      "SARIMAX (2, 1, 1) x (2, 2, 1, 12)12 : BIC Calculated =1270060.3957503338\n"
     ]
    },
    {
     "name": "stderr",
     "output_type": "stream",
     "text": [
      "C:\\Users\\Ania\\anaconda3\\lib\\site-packages\\statsmodels\\tsa\\statespace\\sarimax.py:866: UserWarning: Too few observations to estimate starting parameters for seasonal ARMA. All parameters except for variances will be set to zeros.\n",
      "  warn('Too few observations to estimate starting parameters%s.'\n"
     ]
    },
    {
     "name": "stdout",
     "output_type": "stream",
     "text": [
      "SARIMAX (2, 1, 1) x (2, 2, 2, 12)12 : BIC Calculated =1229836.810062754\n",
      "SARIMAX (2, 1, 2) x (0, 0, 0, 12)12 : BIC Calculated =9157705.791429264\n"
     ]
    },
    {
     "name": "stderr",
     "output_type": "stream",
     "text": [
      "C:\\Users\\Ania\\anaconda3\\lib\\site-packages\\statsmodels\\tsa\\statespace\\sarimax.py:866: UserWarning: Too few observations to estimate starting parameters for seasonal ARMA. All parameters except for variances will be set to zeros.\n",
      "  warn('Too few observations to estimate starting parameters%s.'\n"
     ]
    },
    {
     "name": "stdout",
     "output_type": "stream",
     "text": [
      "SARIMAX (2, 1, 2) x (0, 0, 1, 12)12 : BIC Calculated =7647922.379717996\n",
      "SARIMAX (2, 1, 2) x (0, 0, 2, 12)12 : BIC Calculated =4935645.14506829\n",
      "SARIMAX (2, 1, 2) x (0, 1, 0, 12)12 : BIC Calculated =2254111.9188627293\n",
      "SARIMAX (2, 1, 2) x (0, 1, 1, 12)12 : BIC Calculated =1290889.8980491913\n"
     ]
    },
    {
     "name": "stderr",
     "output_type": "stream",
     "text": [
      "C:\\Users\\Ania\\anaconda3\\lib\\site-packages\\statsmodels\\tsa\\statespace\\sarimax.py:866: UserWarning: Too few observations to estimate starting parameters for seasonal ARMA. All parameters except for variances will be set to zeros.\n",
      "  warn('Too few observations to estimate starting parameters%s.'\n",
      "C:\\Users\\Ania\\anaconda3\\lib\\site-packages\\statsmodels\\base\\model.py:604: ConvergenceWarning: Maximum Likelihood optimization failed to converge. Check mle_retvals\n",
      "  warnings.warn(\"Maximum Likelihood optimization failed to \"\n"
     ]
    },
    {
     "name": "stdout",
     "output_type": "stream",
     "text": [
      "SARIMAX (2, 1, 2) x (0, 1, 2, 12)12 : BIC Calculated =1258373.970303504\n",
      "SARIMAX (2, 1, 2) x (0, 2, 0, 12)12 : BIC Calculated =10001894.24592882\n"
     ]
    },
    {
     "name": "stderr",
     "output_type": "stream",
     "text": [
      "C:\\Users\\Ania\\anaconda3\\lib\\site-packages\\statsmodels\\base\\model.py:604: ConvergenceWarning: Maximum Likelihood optimization failed to converge. Check mle_retvals\n",
      "  warnings.warn(\"Maximum Likelihood optimization failed to \"\n",
      "C:\\Users\\Ania\\anaconda3\\lib\\site-packages\\statsmodels\\tsa\\statespace\\sarimax.py:866: UserWarning: Too few observations to estimate starting parameters for seasonal ARMA. All parameters except for variances will be set to zeros.\n",
      "  warn('Too few observations to estimate starting parameters%s.'\n"
     ]
    },
    {
     "name": "stdout",
     "output_type": "stream",
     "text": [
      "SARIMAX (2, 1, 2) x (0, 2, 1, 12)12 : BIC Calculated =4682565.945486239\n"
     ]
    },
    {
     "name": "stderr",
     "output_type": "stream",
     "text": [
      "C:\\Users\\Ania\\anaconda3\\lib\\site-packages\\statsmodels\\base\\model.py:604: ConvergenceWarning: Maximum Likelihood optimization failed to converge. Check mle_retvals\n",
      "  warnings.warn(\"Maximum Likelihood optimization failed to \"\n"
     ]
    },
    {
     "name": "stdout",
     "output_type": "stream",
     "text": [
      "SARIMAX (2, 1, 2) x (0, 2, 2, 12)12 : BIC Calculated =2591906.2879457474\n",
      "SARIMAX (2, 1, 2) x (1, 0, 0, 12)12 : BIC Calculated =3295647.5918824957\n"
     ]
    },
    {
     "name": "stderr",
     "output_type": "stream",
     "text": [
      "C:\\Users\\Ania\\anaconda3\\lib\\site-packages\\statsmodels\\base\\model.py:604: ConvergenceWarning: Maximum Likelihood optimization failed to converge. Check mle_retvals\n",
      "  warnings.warn(\"Maximum Likelihood optimization failed to \"\n",
      "C:\\Users\\Ania\\anaconda3\\lib\\site-packages\\statsmodels\\tsa\\statespace\\sarimax.py:866: UserWarning: Too few observations to estimate starting parameters for seasonal ARMA. All parameters except for variances will be set to zeros.\n",
      "  warn('Too few observations to estimate starting parameters%s.'\n"
     ]
    },
    {
     "name": "stdout",
     "output_type": "stream",
     "text": [
      "SARIMAX (2, 1, 2) x (1, 0, 1, 12)12 : BIC Calculated =1272638.9020667458\n"
     ]
    },
    {
     "name": "stderr",
     "output_type": "stream",
     "text": [
      "C:\\Users\\Ania\\anaconda3\\lib\\site-packages\\statsmodels\\base\\model.py:604: ConvergenceWarning: Maximum Likelihood optimization failed to converge. Check mle_retvals\n",
      "  warnings.warn(\"Maximum Likelihood optimization failed to \"\n"
     ]
    },
    {
     "name": "stdout",
     "output_type": "stream",
     "text": [
      "SARIMAX (2, 1, 2) x (1, 0, 2, 12)12 : BIC Calculated =1284486.541206221\n",
      "SARIMAX (2, 1, 2) x (1, 1, 0, 12)12 : BIC Calculated =1373394.1009215272\n"
     ]
    },
    {
     "name": "stderr",
     "output_type": "stream",
     "text": [
      "C:\\Users\\Ania\\anaconda3\\lib\\site-packages\\statsmodels\\base\\model.py:604: ConvergenceWarning: Maximum Likelihood optimization failed to converge. Check mle_retvals\n",
      "  warnings.warn(\"Maximum Likelihood optimization failed to \"\n",
      "C:\\Users\\Ania\\anaconda3\\lib\\site-packages\\statsmodels\\tsa\\statespace\\sarimax.py:866: UserWarning: Too few observations to estimate starting parameters for seasonal ARMA. All parameters except for variances will be set to zeros.\n",
      "  warn('Too few observations to estimate starting parameters%s.'\n"
     ]
    },
    {
     "name": "stdout",
     "output_type": "stream",
     "text": [
      "SARIMAX (2, 1, 2) x (1, 1, 1, 12)12 : BIC Calculated =2072692.8832188062\n",
      "SARIMAX (2, 1, 2) x (1, 1, 2, 12)12 : BIC Calculated =1261107.145476983\n"
     ]
    },
    {
     "name": "stderr",
     "output_type": "stream",
     "text": [
      "C:\\Users\\Ania\\anaconda3\\lib\\site-packages\\statsmodels\\base\\model.py:604: ConvergenceWarning: Maximum Likelihood optimization failed to converge. Check mle_retvals\n",
      "  warnings.warn(\"Maximum Likelihood optimization failed to \"\n"
     ]
    },
    {
     "name": "stdout",
     "output_type": "stream",
     "text": [
      "SARIMAX (2, 1, 2) x (1, 2, 0, 12)12 : BIC Calculated =5163139.320710119\n"
     ]
    },
    {
     "name": "stderr",
     "output_type": "stream",
     "text": [
      "C:\\Users\\Ania\\anaconda3\\lib\\site-packages\\statsmodels\\base\\model.py:604: ConvergenceWarning: Maximum Likelihood optimization failed to converge. Check mle_retvals\n",
      "  warnings.warn(\"Maximum Likelihood optimization failed to \"\n",
      "C:\\Users\\Ania\\anaconda3\\lib\\site-packages\\statsmodels\\tsa\\statespace\\sarimax.py:866: UserWarning: Too few observations to estimate starting parameters for seasonal ARMA. All parameters except for variances will be set to zeros.\n",
      "  warn('Too few observations to estimate starting parameters%s.'\n"
     ]
    },
    {
     "name": "stdout",
     "output_type": "stream",
     "text": [
      "SARIMAX (2, 1, 2) x (1, 2, 1, 12)12 : BIC Calculated =1617483.9813320432\n"
     ]
    },
    {
     "name": "stderr",
     "output_type": "stream",
     "text": [
      "C:\\Users\\Ania\\anaconda3\\lib\\site-packages\\statsmodels\\base\\model.py:604: ConvergenceWarning: Maximum Likelihood optimization failed to converge. Check mle_retvals\n",
      "  warnings.warn(\"Maximum Likelihood optimization failed to \"\n"
     ]
    },
    {
     "name": "stdout",
     "output_type": "stream",
     "text": [
      "SARIMAX (2, 1, 2) x (1, 2, 2, 12)12 : BIC Calculated =1892529.2307986428\n",
      "SARIMAX (2, 1, 2) x (2, 0, 0, 12)12 : BIC Calculated =1518586.9165570189\n"
     ]
    },
    {
     "name": "stderr",
     "output_type": "stream",
     "text": [
      "C:\\Users\\Ania\\anaconda3\\lib\\site-packages\\statsmodels\\base\\model.py:604: ConvergenceWarning: Maximum Likelihood optimization failed to converge. Check mle_retvals\n",
      "  warnings.warn(\"Maximum Likelihood optimization failed to \"\n",
      "C:\\Users\\Ania\\anaconda3\\lib\\site-packages\\statsmodels\\tsa\\statespace\\sarimax.py:866: UserWarning: Too few observations to estimate starting parameters for seasonal ARMA. All parameters except for variances will be set to zeros.\n",
      "  warn('Too few observations to estimate starting parameters%s.'\n"
     ]
    },
    {
     "name": "stdout",
     "output_type": "stream",
     "text": [
      "SARIMAX (2, 1, 2) x (2, 0, 1, 12)12 : BIC Calculated =1138462.1278617894\n"
     ]
    },
    {
     "name": "stderr",
     "output_type": "stream",
     "text": [
      "C:\\Users\\Ania\\anaconda3\\lib\\site-packages\\statsmodels\\base\\model.py:604: ConvergenceWarning: Maximum Likelihood optimization failed to converge. Check mle_retvals\n",
      "  warnings.warn(\"Maximum Likelihood optimization failed to \"\n"
     ]
    },
    {
     "name": "stdout",
     "output_type": "stream",
     "text": [
      "SARIMAX (2, 1, 2) x (2, 0, 2, 12)12 : BIC Calculated =1185364.898749439\n",
      "SARIMAX (2, 1, 2) x (2, 1, 0, 12)12 : BIC Calculated =1143958.3202227694\n"
     ]
    },
    {
     "name": "stderr",
     "output_type": "stream",
     "text": [
      "C:\\Users\\Ania\\anaconda3\\lib\\site-packages\\statsmodels\\base\\model.py:604: ConvergenceWarning: Maximum Likelihood optimization failed to converge. Check mle_retvals\n",
      "  warnings.warn(\"Maximum Likelihood optimization failed to \"\n",
      "C:\\Users\\Ania\\anaconda3\\lib\\site-packages\\statsmodels\\tsa\\statespace\\sarimax.py:866: UserWarning: Too few observations to estimate starting parameters for seasonal ARMA. All parameters except for variances will be set to zeros.\n",
      "  warn('Too few observations to estimate starting parameters%s.'\n"
     ]
    },
    {
     "name": "stdout",
     "output_type": "stream",
     "text": [
      "SARIMAX (2, 1, 2) x (2, 1, 1, 12)12 : BIC Calculated =1766263.5452139468\n"
     ]
    },
    {
     "name": "stderr",
     "output_type": "stream",
     "text": [
      "C:\\Users\\Ania\\anaconda3\\lib\\site-packages\\statsmodels\\base\\model.py:604: ConvergenceWarning: Maximum Likelihood optimization failed to converge. Check mle_retvals\n",
      "  warnings.warn(\"Maximum Likelihood optimization failed to \"\n"
     ]
    },
    {
     "name": "stdout",
     "output_type": "stream",
     "text": [
      "SARIMAX (2, 1, 2) x (2, 1, 2, 12)12 : BIC Calculated =1875587.5425943686\n",
      "SARIMAX (2, 1, 2) x (2, 2, 0, 12)12 : BIC Calculated =2921467.591195733\n"
     ]
    },
    {
     "name": "stderr",
     "output_type": "stream",
     "text": [
      "C:\\Users\\Ania\\anaconda3\\lib\\site-packages\\statsmodels\\base\\model.py:604: ConvergenceWarning: Maximum Likelihood optimization failed to converge. Check mle_retvals\n",
      "  warnings.warn(\"Maximum Likelihood optimization failed to \"\n",
      "C:\\Users\\Ania\\anaconda3\\lib\\site-packages\\statsmodels\\tsa\\statespace\\sarimax.py:866: UserWarning: Too few observations to estimate starting parameters for seasonal ARMA. All parameters except for variances will be set to zeros.\n",
      "  warn('Too few observations to estimate starting parameters%s.'\n"
     ]
    },
    {
     "name": "stdout",
     "output_type": "stream",
     "text": [
      "SARIMAX (2, 1, 2) x (2, 2, 1, 12)12 : BIC Calculated =4673961.617840215\n"
     ]
    },
    {
     "name": "stderr",
     "output_type": "stream",
     "text": [
      "C:\\Users\\Ania\\anaconda3\\lib\\site-packages\\statsmodels\\base\\model.py:604: ConvergenceWarning: Maximum Likelihood optimization failed to converge. Check mle_retvals\n",
      "  warnings.warn(\"Maximum Likelihood optimization failed to \"\n",
      "C:\\Users\\Ania\\anaconda3\\lib\\site-packages\\statsmodels\\tsa\\statespace\\sarimax.py:866: UserWarning: Too few observations to estimate starting parameters for seasonal ARMA. All parameters except for variances will be set to zeros.\n",
      "  warn('Too few observations to estimate starting parameters%s.'\n"
     ]
    },
    {
     "name": "stdout",
     "output_type": "stream",
     "text": [
      "SARIMAX (2, 1, 2) x (2, 2, 2, 12)12 : BIC Calculated =1123102.7554742913\n",
      "SARIMAX (2, 2, 0) x (0, 0, 0, 12)12 : BIC Calculated =6619287.878236191\n",
      "SARIMAX (2, 2, 0) x (0, 0, 1, 12)12 : BIC Calculated =12814043.906522732\n",
      "SARIMAX (2, 2, 0) x (0, 0, 2, 12)12 : BIC Calculated =3454175.781880095\n",
      "SARIMAX (2, 2, 0) x (0, 1, 0, 12)12 : BIC Calculated =3361976.7558027734\n"
     ]
    },
    {
     "name": "stderr",
     "output_type": "stream",
     "text": [
      "C:\\Users\\Ania\\anaconda3\\lib\\site-packages\\statsmodels\\base\\model.py:604: ConvergenceWarning: Maximum Likelihood optimization failed to converge. Check mle_retvals\n",
      "  warnings.warn(\"Maximum Likelihood optimization failed to \"\n",
      "C:\\Users\\Ania\\anaconda3\\lib\\site-packages\\statsmodels\\tsa\\statespace\\sarimax.py:866: UserWarning: Too few observations to estimate starting parameters for seasonal ARMA. All parameters except for variances will be set to zeros.\n",
      "  warn('Too few observations to estimate starting parameters%s.'\n"
     ]
    },
    {
     "name": "stdout",
     "output_type": "stream",
     "text": [
      "SARIMAX (2, 2, 0) x (0, 1, 1, 12)12 : BIC Calculated =3361976.75580244\n",
      "SARIMAX (2, 2, 0) x (0, 1, 2, 12)12 : BIC Calculated =6642938.143216083\n",
      "SARIMAX (2, 2, 0) x (0, 2, 0, 12)12 : BIC Calculated =92604457.59197742\n"
     ]
    },
    {
     "name": "stderr",
     "output_type": "stream",
     "text": [
      "C:\\Users\\Ania\\anaconda3\\lib\\site-packages\\statsmodels\\tsa\\statespace\\sarimax.py:866: UserWarning: Too few observations to estimate starting parameters for seasonal ARMA. All parameters except for variances will be set to zeros.\n",
      "  warn('Too few observations to estimate starting parameters%s.'\n"
     ]
    },
    {
     "name": "stdout",
     "output_type": "stream",
     "text": [
      "SARIMAX (2, 2, 0) x (0, 2, 1, 12)12 : BIC Calculated =2821779.7568772915\n"
     ]
    },
    {
     "name": "stderr",
     "output_type": "stream",
     "text": [
      "C:\\Users\\Ania\\anaconda3\\lib\\site-packages\\statsmodels\\tsa\\statespace\\sarimax.py:866: UserWarning: Too few observations to estimate starting parameters for seasonal ARMA. All parameters except for variances will be set to zeros.\n",
      "  warn('Too few observations to estimate starting parameters%s.'\n"
     ]
    },
    {
     "name": "stdout",
     "output_type": "stream",
     "text": [
      "SARIMAX (2, 2, 0) x (0, 2, 2, 12)12 : BIC Calculated =21191094.941786047\n",
      "SARIMAX (2, 2, 0) x (1, 0, 0, 12)12 : BIC Calculated =2694336.8108558636\n",
      "SARIMAX (2, 2, 0) x (1, 0, 1, 12)12 : BIC Calculated =11376149.655502075\n"
     ]
    },
    {
     "name": "stderr",
     "output_type": "stream",
     "text": [
      "C:\\Users\\Ania\\anaconda3\\lib\\site-packages\\statsmodels\\tsa\\statespace\\sarimax.py:866: UserWarning: Too few observations to estimate starting parameters for seasonal ARMA. All parameters except for variances will be set to zeros.\n",
      "  warn('Too few observations to estimate starting parameters%s.'\n"
     ]
    },
    {
     "name": "stdout",
     "output_type": "stream",
     "text": [
      "SARIMAX (2, 2, 0) x (1, 0, 2, 12)12 : BIC Calculated =8821327.188162167\n",
      "SARIMAX (2, 2, 0) x (1, 1, 0, 12)12 : BIC Calculated =4463110.921648727\n",
      "SARIMAX (2, 2, 0) x (1, 1, 1, 12)12 : BIC Calculated =29648492.459260415\n"
     ]
    },
    {
     "name": "stderr",
     "output_type": "stream",
     "text": [
      "C:\\Users\\Ania\\anaconda3\\lib\\site-packages\\statsmodels\\tsa\\statespace\\sarimax.py:866: UserWarning: Too few observations to estimate starting parameters for seasonal ARMA. All parameters except for variances will be set to zeros.\n",
      "  warn('Too few observations to estimate starting parameters%s.'\n"
     ]
    },
    {
     "name": "stdout",
     "output_type": "stream",
     "text": [
      "SARIMAX (2, 2, 0) x (1, 1, 2, 12)12 : BIC Calculated =1816751.6420690245\n",
      "SARIMAX (2, 2, 0) x (1, 2, 0, 12)12 : BIC Calculated =6387404.577867513\n"
     ]
    },
    {
     "name": "stderr",
     "output_type": "stream",
     "text": [
      "C:\\Users\\Ania\\anaconda3\\lib\\site-packages\\statsmodels\\tsa\\statespace\\sarimax.py:866: UserWarning: Too few observations to estimate starting parameters for seasonal ARMA. All parameters except for variances will be set to zeros.\n",
      "  warn('Too few observations to estimate starting parameters%s.'\n"
     ]
    },
    {
     "name": "stdout",
     "output_type": "stream",
     "text": [
      "SARIMAX (2, 2, 0) x (1, 2, 1, 12)12 : BIC Calculated =8696470.003840715\n"
     ]
    },
    {
     "name": "stderr",
     "output_type": "stream",
     "text": [
      "C:\\Users\\Ania\\anaconda3\\lib\\site-packages\\statsmodels\\tsa\\statespace\\sarimax.py:866: UserWarning: Too few observations to estimate starting parameters for seasonal ARMA. All parameters except for variances will be set to zeros.\n",
      "  warn('Too few observations to estimate starting parameters%s.'\n",
      "C:\\Users\\Ania\\anaconda3\\lib\\site-packages\\statsmodels\\base\\model.py:604: ConvergenceWarning: Maximum Likelihood optimization failed to converge. Check mle_retvals\n",
      "  warnings.warn(\"Maximum Likelihood optimization failed to \"\n"
     ]
    },
    {
     "name": "stdout",
     "output_type": "stream",
     "text": [
      "SARIMAX (2, 2, 0) x (1, 2, 2, 12)12 : BIC Calculated =37096116.46833614\n",
      "SARIMAX (2, 2, 0) x (2, 0, 0, 12)12 : BIC Calculated =2906350.3693399336\n",
      "SARIMAX (2, 2, 0) x (2, 0, 1, 12)12 : BIC Calculated =14505710.454140894\n"
     ]
    },
    {
     "name": "stderr",
     "output_type": "stream",
     "text": [
      "C:\\Users\\Ania\\anaconda3\\lib\\site-packages\\statsmodels\\tsa\\statespace\\sarimax.py:866: UserWarning: Too few observations to estimate starting parameters for seasonal ARMA. All parameters except for variances will be set to zeros.\n",
      "  warn('Too few observations to estimate starting parameters%s.'\n"
     ]
    },
    {
     "name": "stdout",
     "output_type": "stream",
     "text": [
      "SARIMAX (2, 2, 0) x (2, 0, 2, 12)12 : BIC Calculated =2886436.8457533875\n",
      "SARIMAX (2, 2, 0) x (2, 1, 0, 12)12 : BIC Calculated =1499232.1149915627\n"
     ]
    },
    {
     "name": "stderr",
     "output_type": "stream",
     "text": [
      "C:\\Users\\Ania\\anaconda3\\lib\\site-packages\\statsmodels\\base\\model.py:604: ConvergenceWarning: Maximum Likelihood optimization failed to converge. Check mle_retvals\n",
      "  warnings.warn(\"Maximum Likelihood optimization failed to \"\n",
      "C:\\Users\\Ania\\anaconda3\\lib\\site-packages\\statsmodels\\tsa\\statespace\\sarimax.py:866: UserWarning: Too few observations to estimate starting parameters for seasonal ARMA. All parameters except for variances will be set to zeros.\n",
      "  warn('Too few observations to estimate starting parameters%s.'\n"
     ]
    },
    {
     "name": "stdout",
     "output_type": "stream",
     "text": [
      "SARIMAX (2, 2, 0) x (2, 1, 1, 12)12 : BIC Calculated =12493482.550992833\n",
      "SARIMAX (2, 2, 0) x (2, 1, 2, 12)12 : BIC Calculated =8707062.555054165\n",
      "SARIMAX (2, 2, 0) x (2, 2, 0, 12)12 : BIC Calculated =158831664.74184743\n"
     ]
    },
    {
     "name": "stderr",
     "output_type": "stream",
     "text": [
      "C:\\Users\\Ania\\anaconda3\\lib\\site-packages\\statsmodels\\tsa\\statespace\\sarimax.py:866: UserWarning: Too few observations to estimate starting parameters for seasonal ARMA. All parameters except for variances will be set to zeros.\n",
      "  warn('Too few observations to estimate starting parameters%s.'\n"
     ]
    },
    {
     "name": "stdout",
     "output_type": "stream",
     "text": [
      "SARIMAX (2, 2, 0) x (2, 2, 1, 12)12 : BIC Calculated =1410186.6821361827\n"
     ]
    },
    {
     "name": "stderr",
     "output_type": "stream",
     "text": [
      "C:\\Users\\Ania\\anaconda3\\lib\\site-packages\\statsmodels\\tsa\\statespace\\sarimax.py:866: UserWarning: Too few observations to estimate starting parameters for seasonal ARMA. All parameters except for variances will be set to zeros.\n",
      "  warn('Too few observations to estimate starting parameters%s.'\n",
      "C:\\Users\\Ania\\anaconda3\\lib\\site-packages\\statsmodels\\base\\model.py:604: ConvergenceWarning: Maximum Likelihood optimization failed to converge. Check mle_retvals\n",
      "  warnings.warn(\"Maximum Likelihood optimization failed to \"\n"
     ]
    },
    {
     "name": "stdout",
     "output_type": "stream",
     "text": [
      "SARIMAX (2, 2, 0) x (2, 2, 2, 12)12 : BIC Calculated =32982488.94937204\n",
      "SARIMAX (2, 2, 1) x (0, 0, 0, 12)12 : BIC Calculated =7198254.369942315\n",
      "SARIMAX (2, 2, 1) x (0, 0, 1, 12)12 : BIC Calculated =8069897.440826199\n"
     ]
    },
    {
     "name": "stderr",
     "output_type": "stream",
     "text": [
      "C:\\Users\\Ania\\anaconda3\\lib\\site-packages\\statsmodels\\tsa\\statespace\\sarimax.py:866: UserWarning: Too few observations to estimate starting parameters for seasonal ARMA. All parameters except for variances will be set to zeros.\n",
      "  warn('Too few observations to estimate starting parameters%s.'\n"
     ]
    },
    {
     "name": "stdout",
     "output_type": "stream",
     "text": [
      "SARIMAX (2, 2, 1) x (0, 0, 2, 12)12 : BIC Calculated =4161600.9500162145\n",
      "SARIMAX (2, 2, 1) x (0, 1, 0, 12)12 : BIC Calculated =2175461.012125592\n"
     ]
    },
    {
     "name": "stderr",
     "output_type": "stream",
     "text": [
      "C:\\Users\\Ania\\anaconda3\\lib\\site-packages\\statsmodels\\base\\model.py:604: ConvergenceWarning: Maximum Likelihood optimization failed to converge. Check mle_retvals\n",
      "  warnings.warn(\"Maximum Likelihood optimization failed to \"\n",
      "C:\\Users\\Ania\\anaconda3\\lib\\site-packages\\statsmodels\\tsa\\statespace\\sarimax.py:866: UserWarning: Too few observations to estimate starting parameters for seasonal ARMA. All parameters except for variances will be set to zeros.\n",
      "  warn('Too few observations to estimate starting parameters%s.'\n"
     ]
    },
    {
     "name": "stdout",
     "output_type": "stream",
     "text": [
      "SARIMAX (2, 2, 1) x (0, 1, 1, 12)12 : BIC Calculated =2188431.573639391\n",
      "SARIMAX (2, 2, 1) x (0, 1, 2, 12)12 : BIC Calculated =1412034.9637720853\n",
      "SARIMAX (2, 2, 1) x (0, 2, 0, 12)12 : BIC Calculated =10119762.619404707\n"
     ]
    },
    {
     "name": "stderr",
     "output_type": "stream",
     "text": [
      "C:\\Users\\Ania\\anaconda3\\lib\\site-packages\\statsmodels\\tsa\\statespace\\sarimax.py:866: UserWarning: Too few observations to estimate starting parameters for seasonal ARMA. All parameters except for variances will be set to zeros.\n",
      "  warn('Too few observations to estimate starting parameters%s.'\n"
     ]
    },
    {
     "name": "stdout",
     "output_type": "stream",
     "text": [
      "SARIMAX (2, 2, 1) x (0, 2, 1, 12)12 : BIC Calculated =3199142.9007336544\n"
     ]
    },
    {
     "name": "stderr",
     "output_type": "stream",
     "text": [
      "C:\\Users\\Ania\\anaconda3\\lib\\site-packages\\statsmodels\\tsa\\statespace\\sarimax.py:866: UserWarning: Too few observations to estimate starting parameters for seasonal ARMA. All parameters except for variances will be set to zeros.\n",
      "  warn('Too few observations to estimate starting parameters%s.'\n"
     ]
    },
    {
     "name": "stdout",
     "output_type": "stream",
     "text": [
      "SARIMAX (2, 2, 1) x (0, 2, 2, 12)12 : BIC Calculated =10043549.343070924\n",
      "SARIMAX (2, 2, 1) x (1, 0, 0, 12)12 : BIC Calculated =2706742.4943801905\n",
      "SARIMAX (2, 2, 1) x (1, 0, 1, 12)12 : BIC Calculated =1392840.8441962346\n"
     ]
    },
    {
     "name": "stderr",
     "output_type": "stream",
     "text": [
      "C:\\Users\\Ania\\anaconda3\\lib\\site-packages\\statsmodels\\tsa\\statespace\\sarimax.py:866: UserWarning: Too few observations to estimate starting parameters for seasonal ARMA. All parameters except for variances will be set to zeros.\n",
      "  warn('Too few observations to estimate starting parameters%s.'\n"
     ]
    },
    {
     "name": "stdout",
     "output_type": "stream",
     "text": [
      "SARIMAX (2, 2, 1) x (1, 0, 2, 12)12 : BIC Calculated =1544028.4409787427\n",
      "SARIMAX (2, 2, 1) x (1, 1, 0, 12)12 : BIC Calculated =1597766.7587325808\n"
     ]
    },
    {
     "name": "stderr",
     "output_type": "stream",
     "text": [
      "C:\\Users\\Ania\\anaconda3\\lib\\site-packages\\statsmodels\\base\\model.py:604: ConvergenceWarning: Maximum Likelihood optimization failed to converge. Check mle_retvals\n",
      "  warnings.warn(\"Maximum Likelihood optimization failed to \"\n",
      "C:\\Users\\Ania\\anaconda3\\lib\\site-packages\\statsmodels\\tsa\\statespace\\sarimax.py:866: UserWarning: Too few observations to estimate starting parameters for seasonal ARMA. All parameters except for variances will be set to zeros.\n",
      "  warn('Too few observations to estimate starting parameters%s.'\n"
     ]
    },
    {
     "name": "stdout",
     "output_type": "stream",
     "text": [
      "SARIMAX (2, 2, 1) x (1, 1, 1, 12)12 : BIC Calculated =6380323.364122974\n",
      "SARIMAX (2, 2, 1) x (1, 1, 2, 12)12 : BIC Calculated =1321551.659523137\n",
      "SARIMAX (2, 2, 1) x (1, 2, 0, 12)12 : BIC Calculated =5934847.242633231\n"
     ]
    },
    {
     "name": "stderr",
     "output_type": "stream",
     "text": [
      "C:\\Users\\Ania\\anaconda3\\lib\\site-packages\\statsmodels\\tsa\\statespace\\sarimax.py:866: UserWarning: Too few observations to estimate starting parameters for seasonal ARMA. All parameters except for variances will be set to zeros.\n",
      "  warn('Too few observations to estimate starting parameters%s.'\n"
     ]
    },
    {
     "name": "stdout",
     "output_type": "stream",
     "text": [
      "SARIMAX (2, 2, 1) x (1, 2, 1, 12)12 : BIC Calculated =3380086.7788987444\n"
     ]
    },
    {
     "name": "stderr",
     "output_type": "stream",
     "text": [
      "C:\\Users\\Ania\\anaconda3\\lib\\site-packages\\statsmodels\\tsa\\statespace\\sarimax.py:866: UserWarning: Too few observations to estimate starting parameters for seasonal ARMA. All parameters except for variances will be set to zeros.\n",
      "  warn('Too few observations to estimate starting parameters%s.'\n"
     ]
    },
    {
     "name": "stdout",
     "output_type": "stream",
     "text": [
      "SARIMAX (2, 2, 1) x (1, 2, 2, 12)12 : BIC Calculated =4833760.92401406\n",
      "SARIMAX (2, 2, 1) x (2, 0, 0, 12)12 : BIC Calculated =1459494.181680051\n",
      "SARIMAX (2, 2, 1) x (2, 0, 1, 12)12 : BIC Calculated =1586689.2669126515\n"
     ]
    },
    {
     "name": "stderr",
     "output_type": "stream",
     "text": [
      "C:\\Users\\Ania\\anaconda3\\lib\\site-packages\\statsmodels\\tsa\\statespace\\sarimax.py:866: UserWarning: Too few observations to estimate starting parameters for seasonal ARMA. All parameters except for variances will be set to zeros.\n",
      "  warn('Too few observations to estimate starting parameters%s.'\n",
      "C:\\Users\\Ania\\anaconda3\\lib\\site-packages\\statsmodels\\base\\model.py:604: ConvergenceWarning: Maximum Likelihood optimization failed to converge. Check mle_retvals\n",
      "  warnings.warn(\"Maximum Likelihood optimization failed to \"\n"
     ]
    },
    {
     "name": "stdout",
     "output_type": "stream",
     "text": [
      "SARIMAX (2, 2, 1) x (2, 0, 2, 12)12 : BIC Calculated =1671658.5031574678\n",
      "SARIMAX (2, 2, 1) x (2, 1, 0, 12)12 : BIC Calculated =1240082.556168991\n"
     ]
    },
    {
     "name": "stderr",
     "output_type": "stream",
     "text": [
      "C:\\Users\\Ania\\anaconda3\\lib\\site-packages\\statsmodels\\base\\model.py:604: ConvergenceWarning: Maximum Likelihood optimization failed to converge. Check mle_retvals\n",
      "  warnings.warn(\"Maximum Likelihood optimization failed to \"\n",
      "C:\\Users\\Ania\\anaconda3\\lib\\site-packages\\statsmodels\\tsa\\statespace\\sarimax.py:866: UserWarning: Too few observations to estimate starting parameters for seasonal ARMA. All parameters except for variances will be set to zeros.\n",
      "  warn('Too few observations to estimate starting parameters%s.'\n"
     ]
    },
    {
     "name": "stdout",
     "output_type": "stream",
     "text": [
      "SARIMAX (2, 2, 1) x (2, 1, 1, 12)12 : BIC Calculated =2241631.998424583\n",
      "SARIMAX (2, 2, 1) x (2, 1, 2, 12)12 : BIC Calculated =1538684.8953619185\n",
      "SARIMAX (2, 2, 1) x (2, 2, 0, 12)12 : BIC Calculated =2627020.9899000633\n"
     ]
    },
    {
     "name": "stderr",
     "output_type": "stream",
     "text": [
      "C:\\Users\\Ania\\anaconda3\\lib\\site-packages\\statsmodels\\tsa\\statespace\\sarimax.py:866: UserWarning: Too few observations to estimate starting parameters for seasonal ARMA. All parameters except for variances will be set to zeros.\n",
      "  warn('Too few observations to estimate starting parameters%s.'\n",
      "C:\\Users\\Ania\\anaconda3\\lib\\site-packages\\statsmodels\\base\\model.py:604: ConvergenceWarning: Maximum Likelihood optimization failed to converge. Check mle_retvals\n",
      "  warnings.warn(\"Maximum Likelihood optimization failed to \"\n",
      "C:\\Users\\Ania\\anaconda3\\lib\\site-packages\\statsmodels\\tsa\\statespace\\sarimax.py:866: UserWarning: Too few observations to estimate starting parameters for seasonal ARMA. All parameters except for variances will be set to zeros.\n",
      "  warn('Too few observations to estimate starting parameters%s.'\n"
     ]
    },
    {
     "name": "stdout",
     "output_type": "stream",
     "text": [
      "SARIMAX (2, 2, 1) x (2, 2, 1, 12)12 : BIC Calculated =34293650.29835191\n"
     ]
    },
    {
     "name": "stderr",
     "output_type": "stream",
     "text": [
      "C:\\Users\\Ania\\anaconda3\\lib\\site-packages\\statsmodels\\base\\model.py:604: ConvergenceWarning: Maximum Likelihood optimization failed to converge. Check mle_retvals\n",
      "  warnings.warn(\"Maximum Likelihood optimization failed to \"\n"
     ]
    },
    {
     "name": "stdout",
     "output_type": "stream",
     "text": [
      "SARIMAX (2, 2, 1) x (2, 2, 2, 12)12 : BIC Calculated =10878203.289320137\n",
      "SARIMAX (2, 2, 2) x (0, 0, 0, 12)12 : BIC Calculated =7160822.062086627\n",
      "SARIMAX (2, 2, 2) x (0, 0, 1, 12)12 : BIC Calculated =8135438.577859919\n"
     ]
    },
    {
     "name": "stderr",
     "output_type": "stream",
     "text": [
      "C:\\Users\\Ania\\anaconda3\\lib\\site-packages\\statsmodels\\tsa\\statespace\\sarimax.py:866: UserWarning: Too few observations to estimate starting parameters for seasonal ARMA. All parameters except for variances will be set to zeros.\n",
      "  warn('Too few observations to estimate starting parameters%s.'\n"
     ]
    },
    {
     "name": "stdout",
     "output_type": "stream",
     "text": [
      "SARIMAX (2, 2, 2) x (0, 0, 2, 12)12 : BIC Calculated =4061329.084153706\n",
      "SARIMAX (2, 2, 2) x (0, 1, 0, 12)12 : BIC Calculated =2858894.011194244\n"
     ]
    },
    {
     "name": "stderr",
     "output_type": "stream",
     "text": [
      "C:\\Users\\Ania\\anaconda3\\lib\\site-packages\\statsmodels\\base\\model.py:604: ConvergenceWarning: Maximum Likelihood optimization failed to converge. Check mle_retvals\n",
      "  warnings.warn(\"Maximum Likelihood optimization failed to \"\n",
      "C:\\Users\\Ania\\anaconda3\\lib\\site-packages\\statsmodels\\tsa\\statespace\\sarimax.py:866: UserWarning: Too few observations to estimate starting parameters for seasonal ARMA. All parameters except for variances will be set to zeros.\n",
      "  warn('Too few observations to estimate starting parameters%s.'\n"
     ]
    },
    {
     "name": "stdout",
     "output_type": "stream",
     "text": [
      "SARIMAX (2, 2, 2) x (0, 1, 1, 12)12 : BIC Calculated =3938641.495308052\n",
      "SARIMAX (2, 2, 2) x (0, 1, 2, 12)12 : BIC Calculated =3023215.7286152225\n",
      "SARIMAX (2, 2, 2) x (0, 2, 0, 12)12 : BIC Calculated =16874232.57103769\n"
     ]
    },
    {
     "name": "stderr",
     "output_type": "stream",
     "text": [
      "C:\\Users\\Ania\\anaconda3\\lib\\site-packages\\statsmodels\\tsa\\statespace\\sarimax.py:866: UserWarning: Too few observations to estimate starting parameters for seasonal ARMA. All parameters except for variances will be set to zeros.\n",
      "  warn('Too few observations to estimate starting parameters%s.'\n",
      "C:\\Users\\Ania\\anaconda3\\lib\\site-packages\\statsmodels\\base\\model.py:604: ConvergenceWarning: Maximum Likelihood optimization failed to converge. Check mle_retvals\n",
      "  warnings.warn(\"Maximum Likelihood optimization failed to \"\n",
      "C:\\Users\\Ania\\anaconda3\\lib\\site-packages\\statsmodels\\tsa\\statespace\\sarimax.py:866: UserWarning: Too few observations to estimate starting parameters for seasonal ARMA. All parameters except for variances will be set to zeros.\n",
      "  warn('Too few observations to estimate starting parameters%s.'\n"
     ]
    },
    {
     "name": "stdout",
     "output_type": "stream",
     "text": [
      "SARIMAX (2, 2, 2) x (0, 2, 1, 12)12 : BIC Calculated =8203518.9695880655\n"
     ]
    },
    {
     "name": "stderr",
     "output_type": "stream",
     "text": [
      "C:\\Users\\Ania\\anaconda3\\lib\\site-packages\\statsmodels\\base\\model.py:604: ConvergenceWarning: Maximum Likelihood optimization failed to converge. Check mle_retvals\n",
      "  warnings.warn(\"Maximum Likelihood optimization failed to \"\n"
     ]
    },
    {
     "name": "stdout",
     "output_type": "stream",
     "text": [
      "SARIMAX (2, 2, 2) x (0, 2, 2, 12)12 : BIC Calculated =4324229.928172392\n"
     ]
    },
    {
     "name": "stderr",
     "output_type": "stream",
     "text": [
      "C:\\Users\\Ania\\anaconda3\\lib\\site-packages\\statsmodels\\base\\model.py:604: ConvergenceWarning: Maximum Likelihood optimization failed to converge. Check mle_retvals\n",
      "  warnings.warn(\"Maximum Likelihood optimization failed to \"\n"
     ]
    },
    {
     "name": "stdout",
     "output_type": "stream",
     "text": [
      "SARIMAX (2, 2, 2) x (1, 0, 0, 12)12 : BIC Calculated =6555357.262574945\n"
     ]
    },
    {
     "name": "stderr",
     "output_type": "stream",
     "text": [
      "C:\\Users\\Ania\\anaconda3\\lib\\site-packages\\statsmodels\\base\\model.py:604: ConvergenceWarning: Maximum Likelihood optimization failed to converge. Check mle_retvals\n",
      "  warnings.warn(\"Maximum Likelihood optimization failed to \"\n",
      "C:\\Users\\Ania\\anaconda3\\lib\\site-packages\\statsmodels\\tsa\\statespace\\sarimax.py:866: UserWarning: Too few observations to estimate starting parameters for seasonal ARMA. All parameters except for variances will be set to zeros.\n",
      "  warn('Too few observations to estimate starting parameters%s.'\n"
     ]
    },
    {
     "name": "stdout",
     "output_type": "stream",
     "text": [
      "SARIMAX (2, 2, 2) x (1, 0, 1, 12)12 : BIC Calculated =2540955.8132677707\n",
      "SARIMAX (2, 2, 2) x (1, 0, 2, 12)12 : BIC Calculated =2821577.930206832\n",
      "SARIMAX (2, 2, 2) x (1, 1, 0, 12)12 : BIC Calculated =1908675.601837018\n",
      "SARIMAX (2, 2, 2) x (1, 1, 1, 12)12 : BIC Calculated =6.6609153431954984e+16\n"
     ]
    },
    {
     "name": "stderr",
     "output_type": "stream",
     "text": [
      "C:\\Users\\Ania\\anaconda3\\lib\\site-packages\\statsmodels\\tsa\\statespace\\sarimax.py:866: UserWarning: Too few observations to estimate starting parameters for seasonal ARMA. All parameters except for variances will be set to zeros.\n",
      "  warn('Too few observations to estimate starting parameters%s.'\n"
     ]
    },
    {
     "name": "stdout",
     "output_type": "stream",
     "text": [
      "SARIMAX (2, 2, 2) x (1, 1, 2, 12)12 : BIC Calculated =3191588.5722459247\n",
      "SARIMAX (2, 2, 2) x (1, 2, 0, 12)12 : BIC Calculated =10229829.97889798\n"
     ]
    },
    {
     "name": "stderr",
     "output_type": "stream",
     "text": [
      "C:\\Users\\Ania\\anaconda3\\lib\\site-packages\\statsmodels\\tsa\\statespace\\sarimax.py:866: UserWarning: Too few observations to estimate starting parameters for seasonal ARMA. All parameters except for variances will be set to zeros.\n",
      "  warn('Too few observations to estimate starting parameters%s.'\n"
     ]
    },
    {
     "name": "stdout",
     "output_type": "stream",
     "text": [
      "SARIMAX (2, 2, 2) x (1, 2, 1, 12)12 : BIC Calculated =5215343.775078097\n"
     ]
    },
    {
     "name": "stderr",
     "output_type": "stream",
     "text": [
      "C:\\Users\\Ania\\anaconda3\\lib\\site-packages\\statsmodels\\tsa\\statespace\\sarimax.py:866: UserWarning: Too few observations to estimate starting parameters for seasonal ARMA. All parameters except for variances will be set to zeros.\n",
      "  warn('Too few observations to estimate starting parameters%s.'\n",
      "C:\\Users\\Ania\\anaconda3\\lib\\site-packages\\statsmodels\\base\\model.py:604: ConvergenceWarning: Maximum Likelihood optimization failed to converge. Check mle_retvals\n",
      "  warnings.warn(\"Maximum Likelihood optimization failed to \"\n"
     ]
    },
    {
     "name": "stdout",
     "output_type": "stream",
     "text": [
      "SARIMAX (2, 2, 2) x (1, 2, 2, 12)12 : BIC Calculated =18368686.35967762\n"
     ]
    },
    {
     "name": "stderr",
     "output_type": "stream",
     "text": [
      "C:\\Users\\Ania\\anaconda3\\lib\\site-packages\\statsmodels\\base\\model.py:604: ConvergenceWarning: Maximum Likelihood optimization failed to converge. Check mle_retvals\n",
      "  warnings.warn(\"Maximum Likelihood optimization failed to \"\n"
     ]
    },
    {
     "name": "stdout",
     "output_type": "stream",
     "text": [
      "SARIMAX (2, 2, 2) x (2, 0, 0, 12)12 : BIC Calculated =1747297.639968635\n"
     ]
    },
    {
     "name": "stderr",
     "output_type": "stream",
     "text": [
      "C:\\Users\\Ania\\anaconda3\\lib\\site-packages\\statsmodels\\base\\model.py:604: ConvergenceWarning: Maximum Likelihood optimization failed to converge. Check mle_retvals\n",
      "  warnings.warn(\"Maximum Likelihood optimization failed to \"\n",
      "C:\\Users\\Ania\\anaconda3\\lib\\site-packages\\statsmodels\\tsa\\statespace\\sarimax.py:866: UserWarning: Too few observations to estimate starting parameters for seasonal ARMA. All parameters except for variances will be set to zeros.\n",
      "  warn('Too few observations to estimate starting parameters%s.'\n"
     ]
    },
    {
     "name": "stdout",
     "output_type": "stream",
     "text": [
      "SARIMAX (2, 2, 2) x (2, 0, 1, 12)12 : BIC Calculated =2558836.2537582307\n"
     ]
    },
    {
     "name": "stderr",
     "output_type": "stream",
     "text": [
      "C:\\Users\\Ania\\anaconda3\\lib\\site-packages\\statsmodels\\base\\model.py:604: ConvergenceWarning: Maximum Likelihood optimization failed to converge. Check mle_retvals\n",
      "  warnings.warn(\"Maximum Likelihood optimization failed to \"\n"
     ]
    },
    {
     "name": "stdout",
     "output_type": "stream",
     "text": [
      "SARIMAX (2, 2, 2) x (2, 0, 2, 12)12 : BIC Calculated =1170447.1636332164\n",
      "SARIMAX (2, 2, 2) x (2, 1, 0, 12)12 : BIC Calculated =2421432.922371772\n"
     ]
    },
    {
     "name": "stderr",
     "output_type": "stream",
     "text": [
      "C:\\Users\\Ania\\anaconda3\\lib\\site-packages\\statsmodels\\base\\model.py:604: ConvergenceWarning: Maximum Likelihood optimization failed to converge. Check mle_retvals\n",
      "  warnings.warn(\"Maximum Likelihood optimization failed to \"\n",
      "C:\\Users\\Ania\\anaconda3\\lib\\site-packages\\statsmodels\\tsa\\statespace\\sarimax.py:866: UserWarning: Too few observations to estimate starting parameters for seasonal ARMA. All parameters except for variances will be set to zeros.\n",
      "  warn('Too few observations to estimate starting parameters%s.'\n"
     ]
    },
    {
     "name": "stdout",
     "output_type": "stream",
     "text": [
      "SARIMAX (2, 2, 2) x (2, 1, 1, 12)12 : BIC Calculated =15248987.465258773\n"
     ]
    },
    {
     "name": "stderr",
     "output_type": "stream",
     "text": [
      "C:\\Users\\Ania\\anaconda3\\lib\\site-packages\\statsmodels\\base\\model.py:604: ConvergenceWarning: Maximum Likelihood optimization failed to converge. Check mle_retvals\n",
      "  warnings.warn(\"Maximum Likelihood optimization failed to \"\n"
     ]
    },
    {
     "name": "stdout",
     "output_type": "stream",
     "text": [
      "SARIMAX (2, 2, 2) x (2, 1, 2, 12)12 : BIC Calculated =1660380.3229145438\n"
     ]
    },
    {
     "name": "stderr",
     "output_type": "stream",
     "text": [
      "C:\\Users\\Ania\\anaconda3\\lib\\site-packages\\statsmodels\\base\\model.py:604: ConvergenceWarning: Maximum Likelihood optimization failed to converge. Check mle_retvals\n",
      "  warnings.warn(\"Maximum Likelihood optimization failed to \"\n",
      "C:\\Users\\Ania\\anaconda3\\lib\\site-packages\\statsmodels\\tsa\\statespace\\sarimax.py:866: UserWarning: Too few observations to estimate starting parameters for seasonal ARMA. All parameters except for variances will be set to zeros.\n",
      "  warn('Too few observations to estimate starting parameters%s.'\n"
     ]
    },
    {
     "name": "stdout",
     "output_type": "stream",
     "text": [
      "SARIMAX (2, 2, 2) x (2, 2, 0, 12)12 : BIC Calculated =80745220.59927124\n"
     ]
    },
    {
     "name": "stderr",
     "output_type": "stream",
     "text": [
      "C:\\Users\\Ania\\anaconda3\\lib\\site-packages\\statsmodels\\base\\model.py:604: ConvergenceWarning: Maximum Likelihood optimization failed to converge. Check mle_retvals\n",
      "  warnings.warn(\"Maximum Likelihood optimization failed to \"\n",
      "C:\\Users\\Ania\\anaconda3\\lib\\site-packages\\statsmodels\\tsa\\statespace\\sarimax.py:866: UserWarning: Too few observations to estimate starting parameters for seasonal ARMA. All parameters except for variances will be set to zeros.\n",
      "  warn('Too few observations to estimate starting parameters%s.'\n"
     ]
    },
    {
     "name": "stdout",
     "output_type": "stream",
     "text": [
      "SARIMAX (2, 2, 2) x (2, 2, 1, 12)12 : BIC Calculated =57177088.08051069\n",
      "SARIMAX (2, 2, 2) x (2, 2, 2, 12)12 : BIC Calculated =8660797.214041773\n"
     ]
    },
    {
     "name": "stderr",
     "output_type": "stream",
     "text": [
      "C:\\Users\\Ania\\anaconda3\\lib\\site-packages\\statsmodels\\base\\model.py:604: ConvergenceWarning: Maximum Likelihood optimization failed to converge. Check mle_retvals\n",
      "  warnings.warn(\"Maximum Likelihood optimization failed to \"\n"
     ]
    }
   ],
   "source": [
    "# Define the p, d and q parameters to take any value between 0 and 3 (exclusive)\n",
    "p=d=q = range(0,3)\n",
    "\n",
    "# Generate all different combinations of p, q and q triplets\n",
    "pdq = list(itertools.product(p, d, q))\n",
    "\n",
    "# Generate all different combinations of seasonal p, q and q triplets\n",
    "# Note: here we have 12 in the 's' position as we have monthly data\n",
    "\n",
    "pdqs = [(x[0], x[1], x[2], 12) for x in list(itertools.product(p, d, q))]\n",
    "\n",
    "maxiter = 50\n",
    "\n",
    "ans = []\n",
    "for combination in pdq:\n",
    "    for combinations in pdqs:\n",
    "       \n",
    "        model = sm.tsa.statespace.SARIMAX(val_prod_1_train,\n",
    "                                        order=combination,\n",
    "                                        seasonal_order=combinations,\n",
    "                                        enforce_stationarity=False,\n",
    "                                        enforce_invertibility=False)\n",
    "\n",
    "        output = model.fit(maxiter=maxiter)\n",
    "        \n",
    "        #here we get a prediction of data that is a reflection of val_prod_1_test in terms of length and values\n",
    "        prediction = output.predict(start=val_prod_1_test.index[0], end = val_prod_1_test.index[-1])\n",
    "        \n",
    "        #Now we compare compare prediction with val_prod_1_test data to see how good our prediction is\n",
    "        #Mean squared error is:\n",
    "        comparison = mean_squared_error(val_prod_1_test, prediction)\n",
    "        ans.append([combination, combinations, comparison, output.bic])\n",
    "        print('SARIMAX {} x {}12 : BIC Calculated ={}'.format(combination, combinations, comparison, output.bic))"
   ]
  },
  {
   "cell_type": "code",
   "execution_count": 15,
   "id": "3dee89b4",
   "metadata": {},
   "outputs": [
    {
     "name": "stdout",
     "output_type": "stream",
     "text": [
      "           pdq           pdqs    comparison         bic\n",
      "25   (0, 0, 0)  (2, 2, 1, 12)  3.585201e+06   10.556229\n",
      "547  (2, 0, 2)  (0, 2, 1, 12)  1.327481e+46   18.812965\n",
      "556  (2, 0, 2)  (1, 2, 1, 12)  7.345324e+46   21.948460\n",
      "224  (0, 2, 2)  (0, 2, 2, 12)  1.932966e+06  163.524909\n",
      "233  (0, 2, 2)  (1, 2, 2, 12)  5.892249e+06  164.543646\n"
     ]
    }
   ],
   "source": [
    "# Convert into dataframe\n",
    "ans_df = pd.DataFrame(ans, columns=['pdq', 'pdqs', 'comparison', 'bic'])\n",
    "\n",
    "# Sort and return top 5 combinations with the best BIC \n",
    "#The lowest BIC turned out to be best factor to show the most reliable prediction\n",
    "ans_df = ans_df.sort_values(by=['bic'],ascending=True)[0:5]\n",
    "print(ans_df)"
   ]
  },
  {
   "cell_type": "markdown",
   "id": "b4b8cd75",
   "metadata": {},
   "source": [
    "# Fitting SARIMA"
   ]
  },
  {
   "cell_type": "code",
   "execution_count": 30,
   "id": "c1e3fed9",
   "metadata": {
    "scrolled": true
   },
   "outputs": [
    {
     "name": "stdout",
     "output_type": "stream",
     "text": [
      "(0, 0, 0)\n",
      "(2, 2, 1, 12)\n"
     ]
    },
    {
     "name": "stderr",
     "output_type": "stream",
     "text": [
      "C:\\Users\\Ania\\anaconda3\\lib\\site-packages\\statsmodels\\base\\model.py:604: ConvergenceWarning: Maximum Likelihood optimization failed to converge. Check mle_retvals\n",
      "  warnings.warn(\"Maximum Likelihood optimization failed to \"\n"
     ]
    },
    {
     "ename": "NameError",
     "evalue": "name 'time' is not defined",
     "output_type": "error",
     "traceback": [
      "\u001b[1;31m---------------------------------------------------------------------------\u001b[0m",
      "\u001b[1;31mNameError\u001b[0m                                 Traceback (most recent call last)",
      "\u001b[1;32m~\\AppData\\Local\\Temp\\ipykernel_5628\\1788614793.py\u001b[0m in \u001b[0;36m<module>\u001b[1;34m\u001b[0m\n\u001b[0;32m     51\u001b[0m \u001b[1;33m\u001b[0m\u001b[0m\n\u001b[0;32m     52\u001b[0m \u001b[1;31m#Saving plot and showing it\u001b[0m\u001b[1;33m\u001b[0m\u001b[1;33m\u001b[0m\u001b[0m\n\u001b[1;32m---> 53\u001b[1;33m \u001b[0mplt\u001b[0m\u001b[1;33m.\u001b[0m\u001b[0msavefig\u001b[0m\u001b[1;33m(\u001b[0m\u001b[1;34mf'SARIMAX_{single_product_number}_{time.strftime(\"%d-%m-%Y\")}'\u001b[0m\u001b[1;33m,\u001b[0m \u001b[0mdpi\u001b[0m\u001b[1;33m=\u001b[0m\u001b[1;36m100\u001b[0m\u001b[1;33m,\u001b[0m \u001b[0mformat\u001b[0m\u001b[1;33m=\u001b[0m\u001b[1;34m'png'\u001b[0m\u001b[1;33m)\u001b[0m\u001b[1;33m\u001b[0m\u001b[1;33m\u001b[0m\u001b[0m\n\u001b[0m\u001b[0;32m     54\u001b[0m \u001b[0mplt\u001b[0m\u001b[1;33m.\u001b[0m\u001b[0mshow\u001b[0m\u001b[1;33m(\u001b[0m\u001b[1;33m)\u001b[0m\u001b[1;33m\u001b[0m\u001b[1;33m\u001b[0m\u001b[0m\n\u001b[0;32m     55\u001b[0m \u001b[1;33m\u001b[0m\u001b[0m\n",
      "\u001b[1;31mNameError\u001b[0m: name 'time' is not defined"
     ]
    },
    {
     "data": {
      "image/png": "[encoded data removed]",
      "text/plain": [
       "<Figure size 1200x500 with 1 Axes>"
      ]
     },
     "metadata": {},
     "output_type": "display_data"
    }
   ],
   "source": [
    "# p - trend autoregression order\n",
    "# d - trend difference order\n",
    "# q - trend moving average order\n",
    "\n",
    "# SEASONAL ELEMENTS\n",
    "# P - seasonal autoregression order, it says how many values of previous years are to be taken into account for autocorelation\n",
    "\n",
    "# D - seasonal difference order, number of differencing to deseasonalize data; rarely more than 1\n",
    "\n",
    "# Q - seasonal moving average order,how many residual values of the same season are to be taken from the previous years\n",
    "\n",
    "# m - the number of time steps for a single seasonal period, in this case I noticed tere is a trend every 12 months or so\n",
    "      # dat get a bit lowe then (see 12 months, 24 months, 36 months, 48 months, 60 months)\n",
    "    \n",
    "#Residual - is a difference (delta) between observed and predicted values of data.\n",
    "            #They are a diagnostic measure used when assessing the quality of a model. \n",
    "            #They are also known as errors\n",
    "\n",
    "\n",
    "val_prod_1_order = ans_df['pdq'].values[0]\n",
    "print(val_prod_1_order)\n",
    "val_prod_1_seasonal_order = ans_df['pdqs'].values[0]\n",
    "print(val_prod_1_seasonal_order)\n",
    "\n",
    "#define model\n",
    "val_prod_1_sarimax_model = SARIMAX(val_prod_1, order=val_prod_1_order, seasonal_order=val_prod_1_seasonal_order )\n",
    "\n",
    "#fit model\n",
    "val_prod_1_train_model_fit = val_prod_1_sarimax_model.fit()\n",
    "\n",
    "\n",
    "#Forecast\n",
    "val_prod_1_train_model_fit_prediction = val_prod_1_train_model_fit.get_prediction(start=0,\n",
    "                                                                           end = val_prod_1.index[-1] \n",
    "                                                                           + 12)\n",
    "\n",
    "lower_series = val_prod_1_train_model_fit_prediction.conf_int()['lower y']\n",
    "upper_series = val_prod_1_train_model_fit_prediction.conf_int()['upper y']\n",
    "\n",
    "\n",
    "# Plot\n",
    "plt.figure(figsize=(12,5), dpi=100)\n",
    "plt.plot(val_prod_1.index, val_prod_1, label='all', lw=3, color='r')\n",
    "plt.plot(val_prod_1_train.index, val_prod_1_train, label='training')\n",
    "plt.plot(val_prod_1_test.index, val_prod_1_test, label='actual')\n",
    "plt.plot(val_prod_1_train_model_fit_prediction.predicted_mean, label='forecast')\n",
    "plt.fill_between(lower_series.index, lower_series.values, upper_series.values, \n",
    "                 color='k', alpha=.15)\n",
    "plt.title('Forecast vs Actuals')\n",
    "plt.legend(loc='upper left', fontsize=8)\n",
    "\n",
    "#Saving plot and showing it\n",
    "plt.savefig(f'SARIMAX_{single_product_number}_{date.today()}.png', dpi=100, format='png')\n",
    "plt.show()\n",
    "\n"
   ]
  },
  {
   "cell_type": "markdown",
   "id": "2874f95a",
   "metadata": {},
   "source": [
    "# Fill in predictions in y_test_T2"
   ]
  },
  {
   "cell_type": "code",
   "execution_count": 18,
   "id": "a4b3e1f7",
   "metadata": {
    "scrolled": true
   },
   "outputs": [
    {
     "name": "stdout",
     "output_type": "stream",
     "text": [
      "     Unnamed: 0.1  Unnamed: 0    key       date            y\n",
      "0               0           0  10873  01Jul2018  7558.112547\n",
      "1               1           1  10873  01Aug2018  7355.416899\n",
      "2               2           2  10873  01Sep2018  5143.570366\n",
      "3               3           3  10873  01Oct2018  7342.173119\n",
      "4               4           4  10873  01Nov2018  6948.646898\n",
      "..            ...         ...    ...        ...          ...\n",
      "139           139         139  93876  01Feb2019          NaN\n",
      "140           140         140  93876  01Mar2019          NaN\n",
      "141           141         141  93876  01Apr2019          NaN\n",
      "142           142         142  93876  01May2019          NaN\n",
      "143           143         143  93876  01Jun2019          NaN\n",
      "\n",
      "[144 rows x 5 columns]\n"
     ]
    }
   ],
   "source": [
    "#Overall prediction for all data train, text + 12 months of forecast\n",
    "overall_prediction = val_prod_1_train_model_fit_prediction.predicted_mean\n",
    "\n",
    "#choose the right place in y_test_T2 to add forecast\n",
    "y_test_T2.loc[y_test_T2['key']==single_product_number,'y'] = overall_prediction[-12:].values\n",
    "\n",
    "print(y_test_T2)\n",
    "\n",
    "#saving data to the file\n",
    "y_test_T2.to_csv('C:/Users/Ania/Desktop/Nestle Case/y_test_T2.csv',  sep=';', decimal=',')\n",
    "\n",
    "\n",
    "\n"
   ]
  }
 ],
 "metadata": {
  "kernelspec": {
   "display_name": "Python 3 (ipykernel)",
   "language": "python",
   "name": "python3"
  },
  "language_info": {
   "codemirror_mode": {
    "name": "ipython",
    "version": 3
   },
   "file_extension": ".py",
   "mimetype": "text/x-python",
   "name": "python",
   "nbconvert_exporter": "python",
   "pygments_lexer": "ipython3",
   "version": "3.9.13"
  }
 },
 "nbformat": 4,
 "nbformat_minor": 5
}
